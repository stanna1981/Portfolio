{
 "cells": [
  {
   "cell_type": "markdown",
   "metadata": {},
   "source": [
    "# Исследование данных о компьютерных играх. <br>  Определение популярных компютерных игр для планирования рекламной кампании на следующий календарный год."
   ]
  },
  {
   "cell_type": "markdown",
   "metadata": {},
   "source": [
    "В нашем распоряжении данные из открытых источников о продажах компьютерных игр, оценки пользователей и экспертов, жанры и платформы (например, Xbox или PlayStation). Необходимо выявить определяющие успешность игры закономерности. Это позволит сделать ставку на потенциально популярный продукт и спланировать рекламные кампании.\n",
    "Имеем данные до 2016 года. Представим, что сейчас декабрь 2016 г., и вы планируете кампанию на 2017-й. Нужно отработать принцип работы с данными. Неважно, прогнозируются ли продажи на 2017 год по данным 2016-го или же 2027-й — по данным 2026 года.\n",
    "В наборе данных попадается аббревиатура ESRB (Entertainment Software Rating Board) — это ассоциация, определяющая возрастной рейтинг компьютерных игр. ESRB оценивает игровой контент и присваивает ему подходящую возрастную категорию, например, «Для взрослых», «Для детей младшего возраста» или «Для подростков»."
   ]
  },
  {
   "cell_type": "markdown",
   "metadata": {},
   "source": [
    "**Цель исследования:**"
   ]
  },
  {
   "cell_type": "markdown",
   "metadata": {},
   "source": [
    "1. Выявить критерии, по которым возможно определить успешность компьютерной игры. <br>\n",
    "2. Проверить степень влияния критериев на успешность игры.  <br>\n",
    "3. Определить наиболее популярные компьютерные игры для различных критериев, сегментов. <br>"
   ]
  },
  {
   "cell_type": "markdown",
   "metadata": {},
   "source": [
    "**Ход исследования (этапы):**"
   ]
  },
  {
   "cell_type": "markdown",
   "metadata": {},
   "source": [
    "- Получить данные из файла. <br>\n",
    "- Обзор данных. <br>\n",
    "- Предобработка данных.  <br>\n",
    "- Исследовательский анализ: <br>\n",
    "  выпуск игр по годам; <br>\n",
    "  продажи игр по платформам; <br>\n",
    "  выбор временного периода для анализа данных; <br>\n",
    "  влияние отзывов на рейтинг игр; <br>\n",
    "  выявление жанров игр; <br>\n",
    "  составление портрета пользователя игр для каждого региона. <br>\n",
    "- Проверка сформулированных гипотез. <br>\n",
    "- Общий вывод. "
   ]
  },
  {
   "cell_type": "markdown",
   "metadata": {},
   "source": [
    "**В датасете содержатся следующие данные (по столбцам):** <br>\n",
    "•\t`Name` — название игры <br>\n",
    "•\t`Platform` — платформа <br>\n",
    "•\t`Year_of_Release` — год выпуска <br>\n",
    "•\t`Genre` — жанр игры <br>\n",
    "•\t`NA_sales` — продажи в Северной Америке (миллионы проданных копий) <br>\n",
    "•\t`EU_sales` — продажи в Европе (миллионы проданных копий) <br>\n",
    "•\t`JP_sales` — продажи в Японии (миллионы проданных копий) <br>\n",
    "•\t`Other_sales` — продажи в других странах (миллионы проданных копий) <br>\n",
    "•\t`Critic_Score` — оценка критиков (максимум 100) <br>\n",
    "•\t`User_Score` — оценка пользователей (максимум 10) <br>\n",
    "•\t`Rating` — рейтинг от организации ESRB (англ. Entertainment Software Rating Board). Эта ассоциация определяет рейтинг компьютерных игр и присваивает им подходящую возрастную категорию."
   ]
  },
  {
   "cell_type": "markdown",
   "metadata": {},
   "source": [
    "## Открыть файл с данными и изучить общую информацию."
   ]
  },
  {
   "cell_type": "code",
   "execution_count": 1,
   "metadata": {},
   "outputs": [],
   "source": [
    "import pandas as pd\n",
    "import numpy as np\n",
    "import matplotlib.pyplot as plt\n",
    "from scipy import stats as st"
   ]
  },
  {
   "cell_type": "code",
   "execution_count": 2,
   "metadata": {},
   "outputs": [],
   "source": [
    "try:\n",
    "    df = pd.read_csv('C:/Users/dataset.csv')\n",
    "except:\n",
    "    df = pd.read_csv('/dataset.csv')"
   ]
  },
  {
   "cell_type": "code",
   "execution_count": 3,
   "metadata": {},
   "outputs": [
    {
     "data": {
      "text/html": [
       "<div>\n",
       "<style scoped>\n",
       "    .dataframe tbody tr th:only-of-type {\n",
       "        vertical-align: middle;\n",
       "    }\n",
       "\n",
       "    .dataframe tbody tr th {\n",
       "        vertical-align: top;\n",
       "    }\n",
       "\n",
       "    .dataframe thead th {\n",
       "        text-align: right;\n",
       "    }\n",
       "</style>\n",
       "<table border=\"1\" class=\"dataframe\">\n",
       "  <thead>\n",
       "    <tr style=\"text-align: right;\">\n",
       "      <th></th>\n",
       "      <th>Name</th>\n",
       "      <th>Platform</th>\n",
       "      <th>Year_of_Release</th>\n",
       "      <th>Genre</th>\n",
       "      <th>NA_sales</th>\n",
       "      <th>EU_sales</th>\n",
       "      <th>JP_sales</th>\n",
       "      <th>Other_sales</th>\n",
       "      <th>Critic_Score</th>\n",
       "      <th>User_Score</th>\n",
       "      <th>Rating</th>\n",
       "    </tr>\n",
       "  </thead>\n",
       "  <tbody>\n",
       "    <tr>\n",
       "      <th>0</th>\n",
       "      <td>Wii Sports</td>\n",
       "      <td>Wii</td>\n",
       "      <td>2006.0</td>\n",
       "      <td>Sports</td>\n",
       "      <td>41.36</td>\n",
       "      <td>28.96</td>\n",
       "      <td>3.77</td>\n",
       "      <td>8.45</td>\n",
       "      <td>76.0</td>\n",
       "      <td>8</td>\n",
       "      <td>E</td>\n",
       "    </tr>\n",
       "    <tr>\n",
       "      <th>1</th>\n",
       "      <td>Super Mario Bros.</td>\n",
       "      <td>NES</td>\n",
       "      <td>1985.0</td>\n",
       "      <td>Platform</td>\n",
       "      <td>29.08</td>\n",
       "      <td>3.58</td>\n",
       "      <td>6.81</td>\n",
       "      <td>0.77</td>\n",
       "      <td>NaN</td>\n",
       "      <td>NaN</td>\n",
       "      <td>NaN</td>\n",
       "    </tr>\n",
       "    <tr>\n",
       "      <th>2</th>\n",
       "      <td>Mario Kart Wii</td>\n",
       "      <td>Wii</td>\n",
       "      <td>2008.0</td>\n",
       "      <td>Racing</td>\n",
       "      <td>15.68</td>\n",
       "      <td>12.76</td>\n",
       "      <td>3.79</td>\n",
       "      <td>3.29</td>\n",
       "      <td>82.0</td>\n",
       "      <td>8.3</td>\n",
       "      <td>E</td>\n",
       "    </tr>\n",
       "    <tr>\n",
       "      <th>3</th>\n",
       "      <td>Wii Sports Resort</td>\n",
       "      <td>Wii</td>\n",
       "      <td>2009.0</td>\n",
       "      <td>Sports</td>\n",
       "      <td>15.61</td>\n",
       "      <td>10.93</td>\n",
       "      <td>3.28</td>\n",
       "      <td>2.95</td>\n",
       "      <td>80.0</td>\n",
       "      <td>8</td>\n",
       "      <td>E</td>\n",
       "    </tr>\n",
       "    <tr>\n",
       "      <th>4</th>\n",
       "      <td>Pokemon Red/Pokemon Blue</td>\n",
       "      <td>GB</td>\n",
       "      <td>1996.0</td>\n",
       "      <td>Role-Playing</td>\n",
       "      <td>11.27</td>\n",
       "      <td>8.89</td>\n",
       "      <td>10.22</td>\n",
       "      <td>1.00</td>\n",
       "      <td>NaN</td>\n",
       "      <td>NaN</td>\n",
       "      <td>NaN</td>\n",
       "    </tr>\n",
       "    <tr>\n",
       "      <th>5</th>\n",
       "      <td>Tetris</td>\n",
       "      <td>GB</td>\n",
       "      <td>1989.0</td>\n",
       "      <td>Puzzle</td>\n",
       "      <td>23.20</td>\n",
       "      <td>2.26</td>\n",
       "      <td>4.22</td>\n",
       "      <td>0.58</td>\n",
       "      <td>NaN</td>\n",
       "      <td>NaN</td>\n",
       "      <td>NaN</td>\n",
       "    </tr>\n",
       "    <tr>\n",
       "      <th>6</th>\n",
       "      <td>New Super Mario Bros.</td>\n",
       "      <td>DS</td>\n",
       "      <td>2006.0</td>\n",
       "      <td>Platform</td>\n",
       "      <td>11.28</td>\n",
       "      <td>9.14</td>\n",
       "      <td>6.50</td>\n",
       "      <td>2.88</td>\n",
       "      <td>89.0</td>\n",
       "      <td>8.5</td>\n",
       "      <td>E</td>\n",
       "    </tr>\n",
       "    <tr>\n",
       "      <th>7</th>\n",
       "      <td>Wii Play</td>\n",
       "      <td>Wii</td>\n",
       "      <td>2006.0</td>\n",
       "      <td>Misc</td>\n",
       "      <td>13.96</td>\n",
       "      <td>9.18</td>\n",
       "      <td>2.93</td>\n",
       "      <td>2.84</td>\n",
       "      <td>58.0</td>\n",
       "      <td>6.6</td>\n",
       "      <td>E</td>\n",
       "    </tr>\n",
       "    <tr>\n",
       "      <th>8</th>\n",
       "      <td>New Super Mario Bros. Wii</td>\n",
       "      <td>Wii</td>\n",
       "      <td>2009.0</td>\n",
       "      <td>Platform</td>\n",
       "      <td>14.44</td>\n",
       "      <td>6.94</td>\n",
       "      <td>4.70</td>\n",
       "      <td>2.24</td>\n",
       "      <td>87.0</td>\n",
       "      <td>8.4</td>\n",
       "      <td>E</td>\n",
       "    </tr>\n",
       "    <tr>\n",
       "      <th>9</th>\n",
       "      <td>Duck Hunt</td>\n",
       "      <td>NES</td>\n",
       "      <td>1984.0</td>\n",
       "      <td>Shooter</td>\n",
       "      <td>26.93</td>\n",
       "      <td>0.63</td>\n",
       "      <td>0.28</td>\n",
       "      <td>0.47</td>\n",
       "      <td>NaN</td>\n",
       "      <td>NaN</td>\n",
       "      <td>NaN</td>\n",
       "    </tr>\n",
       "  </tbody>\n",
       "</table>\n",
       "</div>"
      ],
      "text/plain": [
       "                        Name Platform  Year_of_Release         Genre  \\\n",
       "0                 Wii Sports      Wii           2006.0        Sports   \n",
       "1          Super Mario Bros.      NES           1985.0      Platform   \n",
       "2             Mario Kart Wii      Wii           2008.0        Racing   \n",
       "3          Wii Sports Resort      Wii           2009.0        Sports   \n",
       "4   Pokemon Red/Pokemon Blue       GB           1996.0  Role-Playing   \n",
       "5                     Tetris       GB           1989.0        Puzzle   \n",
       "6      New Super Mario Bros.       DS           2006.0      Platform   \n",
       "7                   Wii Play      Wii           2006.0          Misc   \n",
       "8  New Super Mario Bros. Wii      Wii           2009.0      Platform   \n",
       "9                  Duck Hunt      NES           1984.0       Shooter   \n",
       "\n",
       "   NA_sales  EU_sales  JP_sales  Other_sales  Critic_Score User_Score Rating  \n",
       "0     41.36     28.96      3.77         8.45          76.0          8      E  \n",
       "1     29.08      3.58      6.81         0.77           NaN        NaN    NaN  \n",
       "2     15.68     12.76      3.79         3.29          82.0        8.3      E  \n",
       "3     15.61     10.93      3.28         2.95          80.0          8      E  \n",
       "4     11.27      8.89     10.22         1.00           NaN        NaN    NaN  \n",
       "5     23.20      2.26      4.22         0.58           NaN        NaN    NaN  \n",
       "6     11.28      9.14      6.50         2.88          89.0        8.5      E  \n",
       "7     13.96      9.18      2.93         2.84          58.0        6.6      E  \n",
       "8     14.44      6.94      4.70         2.24          87.0        8.4      E  \n",
       "9     26.93      0.63      0.28         0.47           NaN        NaN    NaN  "
      ]
     },
     "execution_count": 3,
     "metadata": {},
     "output_type": "execute_result"
    }
   ],
   "source": [
    "df.head(10)"
   ]
  },
  {
   "cell_type": "code",
   "execution_count": 4,
   "metadata": {},
   "outputs": [
    {
     "name": "stdout",
     "output_type": "stream",
     "text": [
      "<class 'pandas.core.frame.DataFrame'>\n",
      "RangeIndex: 16715 entries, 0 to 16714\n",
      "Data columns (total 11 columns):\n",
      " #   Column           Non-Null Count  Dtype  \n",
      "---  ------           --------------  -----  \n",
      " 0   Name             16713 non-null  object \n",
      " 1   Platform         16715 non-null  object \n",
      " 2   Year_of_Release  16446 non-null  float64\n",
      " 3   Genre            16713 non-null  object \n",
      " 4   NA_sales         16715 non-null  float64\n",
      " 5   EU_sales         16715 non-null  float64\n",
      " 6   JP_sales         16715 non-null  float64\n",
      " 7   Other_sales      16715 non-null  float64\n",
      " 8   Critic_Score     8137 non-null   float64\n",
      " 9   User_Score       10014 non-null  object \n",
      " 10  Rating           9949 non-null   object \n",
      "dtypes: float64(6), object(5)\n",
      "memory usage: 1.4+ MB\n"
     ]
    }
   ],
   "source": [
    "df.info()"
   ]
  },
  {
   "cell_type": "markdown",
   "metadata": {},
   "source": [
    "Получили датафрейм из 16715 строк. Явно много пропусков в столбцах Critic_Score, User_Score, Rating. Нужно посмотреть на эти пропуски, возможно ли их заполнить. Вопрос к типу данных у столбцов: Year_of_Release, User_Score, скорее всего его необходимо изменить."
   ]
  },
  {
   "cell_type": "markdown",
   "metadata": {},
   "source": [
    "## Подготовка данных."
   ]
  },
  {
   "cell_type": "markdown",
   "metadata": {},
   "source": [
    "### Замена названия столбцов (приведем к нижнему регистру)."
   ]
  },
  {
   "cell_type": "code",
   "execution_count": 5,
   "metadata": {},
   "outputs": [],
   "source": [
    "df.columns = df.columns.str.lower()"
   ]
  },
  {
   "cell_type": "markdown",
   "metadata": {},
   "source": [
    "### Преобразование данных в нужные типы."
   ]
  },
  {
   "cell_type": "markdown",
   "metadata": {},
   "source": [
    "Столбец user_score (оценка пользователей, максимум 10) имеет тип object (строка). Это явно не правильно, его нужно заменить либо на тип int, либо на тип float. В столбце также есть пропуски. Посмотрим уникальные данные в этом столбце."
   ]
  },
  {
   "cell_type": "code",
   "execution_count": 6,
   "metadata": {
    "scrolled": true
   },
   "outputs": [
    {
     "data": {
      "text/plain": [
       "array(['0', '0.2', '0.3', '0.5', '0.6', '0.7', '0.9', '1', '1.1', '1.2',\n",
       "       '1.3', '1.4', '1.5', '1.6', '1.7', '1.8', '1.9', '2', '2.1', '2.2',\n",
       "       '2.3', '2.4', '2.5', '2.6', '2.7', '2.8', '2.9', '3', '3.1', '3.2',\n",
       "       '3.3', '3.4', '3.5', '3.6', '3.7', '3.8', '3.9', '4', '4.1', '4.2',\n",
       "       '4.3', '4.4', '4.5', '4.6', '4.7', '4.8', '4.9', '5', '5.1', '5.2',\n",
       "       '5.3', '5.4', '5.5', '5.6', '5.7', '5.8', '5.9', '6', '6.1', '6.2',\n",
       "       '6.3', '6.4', '6.5', '6.6', '6.7', '6.8', '6.9', '7', '7.1', '7.2',\n",
       "       '7.3', '7.4', '7.5', '7.6', '7.7', '7.8', '7.9', '8', '8.1', '8.2',\n",
       "       '8.3', '8.4', '8.5', '8.6', '8.7', '8.8', '8.9', '9', '9.1', '9.2',\n",
       "       '9.3', '9.4', '9.5', '9.6', '9.7', 'tbd', nan], dtype=object)"
      ]
     },
     "execution_count": 6,
     "metadata": {},
     "output_type": "execute_result"
    }
   ],
   "source": [
    "df['user_score'].sort_values().unique()"
   ]
  },
  {
   "cell_type": "markdown",
   "metadata": {},
   "source": [
    "В основном тут вещественные значения, значит тип должен быть float. Непонятное значение 'tbd'. Кроме пропусков, с ним также необходимо разобраться, чтобы изменить тип столбца user_score. Выполним это чуть позже."
   ]
  },
  {
   "cell_type": "markdown",
   "metadata": {},
   "source": [
    "Столбец year_of_release (год выпуска игры) имеет вещественный тип. Его явно нужно изменить на int. В столбце также есть пропуски. Посмотрим на уникальные данные в этом столбце."
   ]
  },
  {
   "cell_type": "code",
   "execution_count": 7,
   "metadata": {},
   "outputs": [
    {
     "data": {
      "text/plain": [
       "array([1980., 1981., 1982., 1983., 1984., 1985., 1986., 1987., 1988.,\n",
       "       1989., 1990., 1991., 1992., 1993., 1994., 1995., 1996., 1997.,\n",
       "       1998., 1999., 2000., 2001., 2002., 2003., 2004., 2005., 2006.,\n",
       "       2007., 2008., 2009., 2010., 2011., 2012., 2013., 2014., 2015.,\n",
       "       2016.,   nan])"
      ]
     },
     "execution_count": 7,
     "metadata": {},
     "output_type": "execute_result"
    }
   ],
   "source": [
    "df['year_of_release'].sort_values().unique()"
   ]
  },
  {
   "cell_type": "markdown",
   "metadata": {},
   "source": [
    "Имеем данные с 1980 года по 2016 год. Также необходимо разобраться с пропусками, чтобы изменить тип столбца."
   ]
  },
  {
   "cell_type": "markdown",
   "metadata": {},
   "source": [
    "**В итоге необходимо у столбца user_score изменить тип на float, у столбца year_of_release изменить тип на int.**"
   ]
  },
  {
   "cell_type": "markdown",
   "metadata": {},
   "source": [
    "### Обработка пропусков, дубликатов."
   ]
  },
  {
   "cell_type": "markdown",
   "metadata": {},
   "source": [
    "Определим, в каких столбцах есть пропуски, посчитаем их кол-во."
   ]
  },
  {
   "cell_type": "code",
   "execution_count": 8,
   "metadata": {
    "scrolled": true
   },
   "outputs": [
    {
     "data": {
      "text/plain": [
       "name                  2\n",
       "platform              0\n",
       "year_of_release     269\n",
       "genre                 2\n",
       "na_sales              0\n",
       "eu_sales              0\n",
       "jp_sales              0\n",
       "other_sales           0\n",
       "critic_score       8578\n",
       "user_score         6701\n",
       "rating             6766\n",
       "dtype: int64"
      ]
     },
     "execution_count": 8,
     "metadata": {},
     "output_type": "execute_result"
    }
   ],
   "source": [
    "df.isna().sum()"
   ]
  },
  {
   "cell_type": "markdown",
   "metadata": {},
   "source": [
    "Выявили 6 столбцов с пропусками. Выведим их уникальные значения для анализа внесенных данных и для определения возможности исправить эти пропуски, либо удалить."
   ]
  },
  {
   "cell_type": "markdown",
   "metadata": {},
   "source": [
    "Столбец name - название игры."
   ]
  },
  {
   "cell_type": "code",
   "execution_count": 9,
   "metadata": {
    "scrolled": true
   },
   "outputs": [
    {
     "data": {
      "text/plain": [
       "array([' Beyblade Burst', ' Fire Emblem Fates', \" Frozen: Olaf's Quest\",\n",
       "       ..., 'wwe Smackdown vs. Raw 2006', '¡Shin Chan Flipa en colores!',\n",
       "       nan], dtype=object)"
      ]
     },
     "execution_count": 9,
     "metadata": {},
     "output_type": "execute_result"
    }
   ],
   "source": [
    "df['name'].sort_values().unique()"
   ]
  },
  {
   "cell_type": "code",
   "execution_count": 10,
   "metadata": {
    "scrolled": true
   },
   "outputs": [
    {
     "data": {
      "text/html": [
       "<div>\n",
       "<style scoped>\n",
       "    .dataframe tbody tr th:only-of-type {\n",
       "        vertical-align: middle;\n",
       "    }\n",
       "\n",
       "    .dataframe tbody tr th {\n",
       "        vertical-align: top;\n",
       "    }\n",
       "\n",
       "    .dataframe thead th {\n",
       "        text-align: right;\n",
       "    }\n",
       "</style>\n",
       "<table border=\"1\" class=\"dataframe\">\n",
       "  <thead>\n",
       "    <tr style=\"text-align: right;\">\n",
       "      <th></th>\n",
       "      <th>name</th>\n",
       "      <th>platform</th>\n",
       "      <th>year_of_release</th>\n",
       "      <th>genre</th>\n",
       "      <th>na_sales</th>\n",
       "      <th>eu_sales</th>\n",
       "      <th>jp_sales</th>\n",
       "      <th>other_sales</th>\n",
       "      <th>critic_score</th>\n",
       "      <th>user_score</th>\n",
       "      <th>rating</th>\n",
       "    </tr>\n",
       "  </thead>\n",
       "  <tbody>\n",
       "    <tr>\n",
       "      <th>659</th>\n",
       "      <td>NaN</td>\n",
       "      <td>GEN</td>\n",
       "      <td>1993.0</td>\n",
       "      <td>NaN</td>\n",
       "      <td>1.78</td>\n",
       "      <td>0.53</td>\n",
       "      <td>0.00</td>\n",
       "      <td>0.08</td>\n",
       "      <td>NaN</td>\n",
       "      <td>NaN</td>\n",
       "      <td>NaN</td>\n",
       "    </tr>\n",
       "    <tr>\n",
       "      <th>14244</th>\n",
       "      <td>NaN</td>\n",
       "      <td>GEN</td>\n",
       "      <td>1993.0</td>\n",
       "      <td>NaN</td>\n",
       "      <td>0.00</td>\n",
       "      <td>0.00</td>\n",
       "      <td>0.03</td>\n",
       "      <td>0.00</td>\n",
       "      <td>NaN</td>\n",
       "      <td>NaN</td>\n",
       "      <td>NaN</td>\n",
       "    </tr>\n",
       "  </tbody>\n",
       "</table>\n",
       "</div>"
      ],
      "text/plain": [
       "      name platform  year_of_release genre  na_sales  eu_sales  jp_sales  \\\n",
       "659    NaN      GEN           1993.0   NaN      1.78      0.53      0.00   \n",
       "14244  NaN      GEN           1993.0   NaN      0.00      0.00      0.03   \n",
       "\n",
       "       other_sales  critic_score user_score rating  \n",
       "659           0.08           NaN        NaN    NaN  \n",
       "14244         0.00           NaN        NaN    NaN  "
      ]
     },
     "execution_count": 10,
     "metadata": {},
     "output_type": "execute_result"
    }
   ],
   "source": [
    "# получим срез с пропусками\n",
    "df.loc[df['name'].isna()]"
   ]
  },
  {
   "cell_type": "markdown",
   "metadata": {},
   "source": [
    "Столбец name - содержит название игры. Самостоятельно его заполнить мы не можем. Таких строк всего 2, поэтому можем их удалить без ущерба для дальнейшей работы. Кстати тут также 2 пропуска в столбце genre - жанр игры. Получается что их удаляем тоже."
   ]
  },
  {
   "cell_type": "code",
   "execution_count": 11,
   "metadata": {},
   "outputs": [],
   "source": [
    "df = df.dropna(subset=['name'])"
   ]
  },
  {
   "cell_type": "markdown",
   "metadata": {},
   "source": [
    "Для удобства в name приведем все к нижнему регистру, уберем пробелы в начале и конце названий игр."
   ]
  },
  {
   "cell_type": "code",
   "execution_count": 12,
   "metadata": {},
   "outputs": [],
   "source": [
    "df['name'] = df['name'].str.lower()"
   ]
  },
  {
   "cell_type": "code",
   "execution_count": 13,
   "metadata": {},
   "outputs": [],
   "source": [
    "df['name'] = df['name'].str.strip()"
   ]
  },
  {
   "cell_type": "markdown",
   "metadata": {},
   "source": [
    "Столбце genre - жанр игры. Посмотрим на данные в этом столбце."
   ]
  },
  {
   "cell_type": "code",
   "execution_count": 14,
   "metadata": {
    "scrolled": true
   },
   "outputs": [
    {
     "data": {
      "text/plain": [
       "array(['Action', 'Adventure', 'Fighting', 'Misc', 'Platform', 'Puzzle',\n",
       "       'Racing', 'Role-Playing', 'Shooter', 'Simulation', 'Sports',\n",
       "       'Strategy'], dtype=object)"
      ]
     },
     "execution_count": 14,
     "metadata": {},
     "output_type": "execute_result"
    }
   ],
   "source": [
    "df['genre'].sort_values().unique()"
   ]
  },
  {
   "cell_type": "markdown",
   "metadata": {},
   "source": [
    "Уникальных значений в столбце genre не много, в общем они \"читабельные\", можем просто привести их к нижнему регистру."
   ]
  },
  {
   "cell_type": "code",
   "execution_count": 15,
   "metadata": {},
   "outputs": [],
   "source": [
    "df['genre'] = df['genre'].str.lower()"
   ]
  },
  {
   "cell_type": "markdown",
   "metadata": {},
   "source": [
    "Пропуски в year_of_release - сделаем срез."
   ]
  },
  {
   "cell_type": "code",
   "execution_count": 16,
   "metadata": {},
   "outputs": [
    {
     "data": {
      "text/html": [
       "<div>\n",
       "<style scoped>\n",
       "    .dataframe tbody tr th:only-of-type {\n",
       "        vertical-align: middle;\n",
       "    }\n",
       "\n",
       "    .dataframe tbody tr th {\n",
       "        vertical-align: top;\n",
       "    }\n",
       "\n",
       "    .dataframe thead th {\n",
       "        text-align: right;\n",
       "    }\n",
       "</style>\n",
       "<table border=\"1\" class=\"dataframe\">\n",
       "  <thead>\n",
       "    <tr style=\"text-align: right;\">\n",
       "      <th></th>\n",
       "      <th>name</th>\n",
       "      <th>platform</th>\n",
       "      <th>year_of_release</th>\n",
       "      <th>genre</th>\n",
       "      <th>na_sales</th>\n",
       "      <th>eu_sales</th>\n",
       "      <th>jp_sales</th>\n",
       "      <th>other_sales</th>\n",
       "      <th>critic_score</th>\n",
       "      <th>user_score</th>\n",
       "      <th>rating</th>\n",
       "    </tr>\n",
       "  </thead>\n",
       "  <tbody>\n",
       "    <tr>\n",
       "      <th>183</th>\n",
       "      <td>madden nfl 2004</td>\n",
       "      <td>PS2</td>\n",
       "      <td>NaN</td>\n",
       "      <td>sports</td>\n",
       "      <td>4.26</td>\n",
       "      <td>0.26</td>\n",
       "      <td>0.01</td>\n",
       "      <td>0.71</td>\n",
       "      <td>94.0</td>\n",
       "      <td>8.5</td>\n",
       "      <td>E</td>\n",
       "    </tr>\n",
       "    <tr>\n",
       "      <th>377</th>\n",
       "      <td>fifa soccer 2004</td>\n",
       "      <td>PS2</td>\n",
       "      <td>NaN</td>\n",
       "      <td>sports</td>\n",
       "      <td>0.59</td>\n",
       "      <td>2.36</td>\n",
       "      <td>0.04</td>\n",
       "      <td>0.51</td>\n",
       "      <td>84.0</td>\n",
       "      <td>6.4</td>\n",
       "      <td>E</td>\n",
       "    </tr>\n",
       "    <tr>\n",
       "      <th>456</th>\n",
       "      <td>lego batman: the videogame</td>\n",
       "      <td>Wii</td>\n",
       "      <td>NaN</td>\n",
       "      <td>action</td>\n",
       "      <td>1.80</td>\n",
       "      <td>0.97</td>\n",
       "      <td>0.00</td>\n",
       "      <td>0.29</td>\n",
       "      <td>74.0</td>\n",
       "      <td>7.9</td>\n",
       "      <td>E10+</td>\n",
       "    </tr>\n",
       "    <tr>\n",
       "      <th>475</th>\n",
       "      <td>wwe smackdown vs. raw 2006</td>\n",
       "      <td>PS2</td>\n",
       "      <td>NaN</td>\n",
       "      <td>fighting</td>\n",
       "      <td>1.57</td>\n",
       "      <td>1.02</td>\n",
       "      <td>0.00</td>\n",
       "      <td>0.41</td>\n",
       "      <td>NaN</td>\n",
       "      <td>NaN</td>\n",
       "      <td>NaN</td>\n",
       "    </tr>\n",
       "    <tr>\n",
       "      <th>609</th>\n",
       "      <td>space invaders</td>\n",
       "      <td>2600</td>\n",
       "      <td>NaN</td>\n",
       "      <td>shooter</td>\n",
       "      <td>2.36</td>\n",
       "      <td>0.14</td>\n",
       "      <td>0.00</td>\n",
       "      <td>0.03</td>\n",
       "      <td>NaN</td>\n",
       "      <td>NaN</td>\n",
       "      <td>NaN</td>\n",
       "    </tr>\n",
       "    <tr>\n",
       "      <th>...</th>\n",
       "      <td>...</td>\n",
       "      <td>...</td>\n",
       "      <td>...</td>\n",
       "      <td>...</td>\n",
       "      <td>...</td>\n",
       "      <td>...</td>\n",
       "      <td>...</td>\n",
       "      <td>...</td>\n",
       "      <td>...</td>\n",
       "      <td>...</td>\n",
       "      <td>...</td>\n",
       "    </tr>\n",
       "    <tr>\n",
       "      <th>16373</th>\n",
       "      <td>pdc world championship darts 2008</td>\n",
       "      <td>PSP</td>\n",
       "      <td>NaN</td>\n",
       "      <td>sports</td>\n",
       "      <td>0.01</td>\n",
       "      <td>0.00</td>\n",
       "      <td>0.00</td>\n",
       "      <td>0.00</td>\n",
       "      <td>43.0</td>\n",
       "      <td>tbd</td>\n",
       "      <td>E10+</td>\n",
       "    </tr>\n",
       "    <tr>\n",
       "      <th>16405</th>\n",
       "      <td>freaky flyers</td>\n",
       "      <td>GC</td>\n",
       "      <td>NaN</td>\n",
       "      <td>racing</td>\n",
       "      <td>0.01</td>\n",
       "      <td>0.00</td>\n",
       "      <td>0.00</td>\n",
       "      <td>0.00</td>\n",
       "      <td>69.0</td>\n",
       "      <td>6.5</td>\n",
       "      <td>T</td>\n",
       "    </tr>\n",
       "    <tr>\n",
       "      <th>16448</th>\n",
       "      <td>inversion</td>\n",
       "      <td>PC</td>\n",
       "      <td>NaN</td>\n",
       "      <td>shooter</td>\n",
       "      <td>0.01</td>\n",
       "      <td>0.00</td>\n",
       "      <td>0.00</td>\n",
       "      <td>0.00</td>\n",
       "      <td>59.0</td>\n",
       "      <td>6.7</td>\n",
       "      <td>M</td>\n",
       "    </tr>\n",
       "    <tr>\n",
       "      <th>16458</th>\n",
       "      <td>hakuouki: shinsengumi kitan</td>\n",
       "      <td>PS3</td>\n",
       "      <td>NaN</td>\n",
       "      <td>adventure</td>\n",
       "      <td>0.01</td>\n",
       "      <td>0.00</td>\n",
       "      <td>0.00</td>\n",
       "      <td>0.00</td>\n",
       "      <td>NaN</td>\n",
       "      <td>NaN</td>\n",
       "      <td>NaN</td>\n",
       "    </tr>\n",
       "    <tr>\n",
       "      <th>16522</th>\n",
       "      <td>virtua quest</td>\n",
       "      <td>GC</td>\n",
       "      <td>NaN</td>\n",
       "      <td>role-playing</td>\n",
       "      <td>0.01</td>\n",
       "      <td>0.00</td>\n",
       "      <td>0.00</td>\n",
       "      <td>0.00</td>\n",
       "      <td>55.0</td>\n",
       "      <td>5.5</td>\n",
       "      <td>T</td>\n",
       "    </tr>\n",
       "  </tbody>\n",
       "</table>\n",
       "<p>269 rows × 11 columns</p>\n",
       "</div>"
      ],
      "text/plain": [
       "                                    name platform  year_of_release  \\\n",
       "183                      madden nfl 2004      PS2              NaN   \n",
       "377                     fifa soccer 2004      PS2              NaN   \n",
       "456           lego batman: the videogame      Wii              NaN   \n",
       "475           wwe smackdown vs. raw 2006      PS2              NaN   \n",
       "609                       space invaders     2600              NaN   \n",
       "...                                  ...      ...              ...   \n",
       "16373  pdc world championship darts 2008      PSP              NaN   \n",
       "16405                      freaky flyers       GC              NaN   \n",
       "16448                          inversion       PC              NaN   \n",
       "16458        hakuouki: shinsengumi kitan      PS3              NaN   \n",
       "16522                       virtua quest       GC              NaN   \n",
       "\n",
       "              genre  na_sales  eu_sales  jp_sales  other_sales  critic_score  \\\n",
       "183          sports      4.26      0.26      0.01         0.71          94.0   \n",
       "377          sports      0.59      2.36      0.04         0.51          84.0   \n",
       "456          action      1.80      0.97      0.00         0.29          74.0   \n",
       "475        fighting      1.57      1.02      0.00         0.41           NaN   \n",
       "609         shooter      2.36      0.14      0.00         0.03           NaN   \n",
       "...             ...       ...       ...       ...          ...           ...   \n",
       "16373        sports      0.01      0.00      0.00         0.00          43.0   \n",
       "16405        racing      0.01      0.00      0.00         0.00          69.0   \n",
       "16448       shooter      0.01      0.00      0.00         0.00          59.0   \n",
       "16458     adventure      0.01      0.00      0.00         0.00           NaN   \n",
       "16522  role-playing      0.01      0.00      0.00         0.00          55.0   \n",
       "\n",
       "      user_score rating  \n",
       "183          8.5      E  \n",
       "377          6.4      E  \n",
       "456          7.9   E10+  \n",
       "475          NaN    NaN  \n",
       "609          NaN    NaN  \n",
       "...          ...    ...  \n",
       "16373        tbd   E10+  \n",
       "16405        6.5      T  \n",
       "16448        6.7      M  \n",
       "16458        NaN    NaN  \n",
       "16522        5.5      T  \n",
       "\n",
       "[269 rows x 11 columns]"
      ]
     },
     "execution_count": 16,
     "metadata": {},
     "output_type": "execute_result"
    }
   ],
   "source": [
    "df.loc[df['year_of_release'].isna()]"
   ]
  },
  {
   "cell_type": "markdown",
   "metadata": {},
   "source": [
    "Данные пропуски самостоятельно заполнить не можем, нет логичной замены. Их кол-во в рамках всего датафрейма не большое, можем удалить. И после этого можем изменить тип столбца на необходимый (int)."
   ]
  },
  {
   "cell_type": "code",
   "execution_count": 17,
   "metadata": {},
   "outputs": [],
   "source": [
    "df = df.dropna(subset=['year_of_release'])\n",
    "df['year_of_release'] = df['year_of_release'].astype(int)"
   ]
  },
  {
   "cell_type": "markdown",
   "metadata": {},
   "source": [
    "Пропуски в столбце critic_score - оценка критиков (максимум 100). Смотрим на уникальные значения."
   ]
  },
  {
   "cell_type": "code",
   "execution_count": 18,
   "metadata": {},
   "outputs": [
    {
     "data": {
      "text/plain": [
       "array([13., 17., 19., 20., 21., 23., 24., 25., 26., 27., 28., 29., 30.,\n",
       "       31., 32., 33., 34., 35., 36., 37., 38., 39., 40., 41., 42., 43.,\n",
       "       44., 45., 46., 47., 48., 49., 50., 51., 52., 53., 54., 55., 56.,\n",
       "       57., 58., 59., 60., 61., 62., 63., 64., 65., 66., 67., 68., 69.,\n",
       "       70., 71., 72., 73., 74., 75., 76., 77., 78., 79., 80., 81., 82.,\n",
       "       83., 84., 85., 86., 87., 88., 89., 90., 91., 92., 93., 94., 95.,\n",
       "       96., 97., 98., nan])"
      ]
     },
     "execution_count": 18,
     "metadata": {},
     "output_type": "execute_result"
    }
   ],
   "source": [
    "df['critic_score'].sort_values().unique()"
   ]
  },
  {
   "cell_type": "markdown",
   "metadata": {},
   "source": [
    "Значения без видимых ошибок. Но пропусков достаточно много, удалить не можем, т.к. это может повлиять на дальнейший анализ. Заполнить их каким-то логичным значением также не получается, т.к. оценка может зависеть сразу от нескольких параметров. Например - год выпуска игры (а у нас период в 36 лет), жанра, платформы."
   ]
  },
  {
   "cell_type": "markdown",
   "metadata": {},
   "source": [
    "Пропуски в столбце user_score - оценка пользователей (максимум 10). Тут тоже пропусков достаточно много. По аналогии с данными в столбце critic_score - удалить не можем, логичной замены нет, оставляем без изменения. Также здесь внесено значение 'tbd'. Для компьютерных игр видимо оно означает - \"To Be Determined\", т.е. \"Будет определено\". Вероятно игру еще не оценили по каким-то причинам. Логичнее заменить это значение на пропуск NaN."
   ]
  },
  {
   "cell_type": "code",
   "execution_count": 19,
   "metadata": {},
   "outputs": [
    {
     "data": {
      "text/plain": [
       "array(['0', '0.2', '0.3', '0.5', '0.6', '0.7', '0.9', '1', '1.1', '1.2',\n",
       "       '1.3', '1.4', '1.5', '1.6', '1.7', '1.8', '1.9', '2', '2.1', '2.2',\n",
       "       '2.3', '2.4', '2.5', '2.6', '2.7', '2.8', '2.9', '3', '3.1', '3.2',\n",
       "       '3.3', '3.4', '3.5', '3.6', '3.7', '3.8', '3.9', '4', '4.1', '4.2',\n",
       "       '4.3', '4.4', '4.5', '4.6', '4.7', '4.8', '4.9', '5', '5.1', '5.2',\n",
       "       '5.3', '5.4', '5.5', '5.6', '5.7', '5.8', '5.9', '6', '6.1', '6.2',\n",
       "       '6.3', '6.4', '6.5', '6.6', '6.7', '6.8', '6.9', '7', '7.1', '7.2',\n",
       "       '7.3', '7.4', '7.5', '7.6', '7.7', '7.8', '7.9', '8', '8.1', '8.2',\n",
       "       '8.3', '8.4', '8.5', '8.6', '8.7', '8.8', '8.9', '9', '9.1', '9.2',\n",
       "       '9.3', '9.4', '9.5', '9.6', '9.7', nan], dtype=object)"
      ]
     },
     "execution_count": 19,
     "metadata": {},
     "output_type": "execute_result"
    }
   ],
   "source": [
    "# функция для замены значения 'tbd' на NaN\n",
    "def replace_wrong_values(wrong_values, correct_values):\n",
    "    df['user_score'] = df['user_score'].replace(wrong_values, correct_values)\n",
    "\n",
    "replace_wrong_values('tbd', np.NaN)\n",
    "# проверка уникальных значений в столбце после применения функции\n",
    "df['user_score'].sort_values().unique()"
   ]
  },
  {
   "cell_type": "code",
   "execution_count": 20,
   "metadata": {},
   "outputs": [],
   "source": [
    "# теперь изменим тип данного столбца на верный\n",
    "df['user_score'] = df['user_score'].astype(float)"
   ]
  },
  {
   "cell_type": "markdown",
   "metadata": {},
   "source": [
    "Столбец rating - рейтинг от организации ESRB. Посмотрим на значения."
   ]
  },
  {
   "cell_type": "code",
   "execution_count": 21,
   "metadata": {},
   "outputs": [
    {
     "data": {
      "text/plain": [
       "array(['AO', 'E', 'E10+', 'EC', 'K-A', 'M', 'RP', 'T', nan], dtype=object)"
      ]
     },
     "execution_count": 21,
     "metadata": {},
     "output_type": "execute_result"
    }
   ],
   "source": [
    "df['rating'].sort_values().unique()"
   ]
  },
  {
   "cell_type": "markdown",
   "metadata": {},
   "source": [
    "В столбце rating также достаточно много пропусков. И также нет логичной замены, но можем внести значение \"не указан\"."
   ]
  },
  {
   "cell_type": "code",
   "execution_count": 22,
   "metadata": {},
   "outputs": [],
   "source": [
    "# функция для замены пропусков в столбце 'rating' на значение 'не указан'\n",
    "def replace_wrong_rating(wrong_rating, correct_rating):\n",
    "    df['rating'] = df['rating'].replace(wrong_rating, correct_rating)\n",
    "\n",
    "replace_wrong_rating(np.NaN, 'не указан')"
   ]
  },
  {
   "cell_type": "code",
   "execution_count": 23,
   "metadata": {},
   "outputs": [
    {
     "data": {
      "text/plain": [
       "array(['AO', 'E', 'E10+', 'EC', 'K-A', 'M', 'RP', 'T', 'не указан'],\n",
       "      dtype=object)"
      ]
     },
     "execution_count": 23,
     "metadata": {},
     "output_type": "execute_result"
    }
   ],
   "source": [
    "df['rating'].sort_values().unique()"
   ]
  },
  {
   "cell_type": "code",
   "execution_count": 24,
   "metadata": {},
   "outputs": [],
   "source": [
    "# можно раскомментировать коды и еще раз проверить данные - кол-во пропусков и типы\n",
    "# df.isna().sum()\n",
    "# df.info()"
   ]
  },
  {
   "cell_type": "code",
   "execution_count": 25,
   "metadata": {},
   "outputs": [
    {
     "data": {
      "text/plain": [
       "0"
      ]
     },
     "execution_count": 25,
     "metadata": {},
     "output_type": "execute_result"
    }
   ],
   "source": [
    "# проверка на явные дубликаты\n",
    "df.duplicated().sum()"
   ]
  },
  {
   "cell_type": "markdown",
   "metadata": {},
   "source": [
    "**Вывод:** <br>\n",
    "Пропуски в столбцах name и genre удалили, их было всего по 2 в каждом столбце. Могли возникуть, т.к. например не было присвоено название/жанр для игры. Либо сыграл человеческий фактор - забыли указать значение. <br>\n",
    "Пропуски в столбцах critic_score и user_score: оставили без заполнения, т.к. нет логичной замены. Пропуски могли возникнуть по ряду причин: игра новая и еще у нее нет оценок, либо игра просто не оценивалась. <br>\n",
    "Пропуски в столбце rating заменили на значение 'не указан', значит рейтинг не известен, не был определен. Также может быть не заполнен, т.к. например игра еще не получила категорию от организации ESRB. <br>\n",
    "Пропуски в столбце year_of_release - удалили, т.к. их было не много. Могли возникнуть из-за ряда причин: забыли указать данные, либо год выпуска игры не определен."
   ]
  },
  {
   "cell_type": "markdown",
   "metadata": {},
   "source": [
    "### Подсчет суммарных продаж во всех регионах."
   ]
  },
  {
   "cell_type": "code",
   "execution_count": 26,
   "metadata": {},
   "outputs": [
    {
     "data": {
      "text/html": [
       "<div>\n",
       "<style scoped>\n",
       "    .dataframe tbody tr th:only-of-type {\n",
       "        vertical-align: middle;\n",
       "    }\n",
       "\n",
       "    .dataframe tbody tr th {\n",
       "        vertical-align: top;\n",
       "    }\n",
       "\n",
       "    .dataframe thead th {\n",
       "        text-align: right;\n",
       "    }\n",
       "</style>\n",
       "<table border=\"1\" class=\"dataframe\">\n",
       "  <thead>\n",
       "    <tr style=\"text-align: right;\">\n",
       "      <th></th>\n",
       "      <th>name</th>\n",
       "      <th>platform</th>\n",
       "      <th>year_of_release</th>\n",
       "      <th>genre</th>\n",
       "      <th>na_sales</th>\n",
       "      <th>eu_sales</th>\n",
       "      <th>jp_sales</th>\n",
       "      <th>other_sales</th>\n",
       "      <th>critic_score</th>\n",
       "      <th>user_score</th>\n",
       "      <th>rating</th>\n",
       "      <th>total_sales</th>\n",
       "    </tr>\n",
       "  </thead>\n",
       "  <tbody>\n",
       "    <tr>\n",
       "      <th>0</th>\n",
       "      <td>wii sports</td>\n",
       "      <td>Wii</td>\n",
       "      <td>2006</td>\n",
       "      <td>sports</td>\n",
       "      <td>41.36</td>\n",
       "      <td>28.96</td>\n",
       "      <td>3.77</td>\n",
       "      <td>8.45</td>\n",
       "      <td>76.0</td>\n",
       "      <td>8.0</td>\n",
       "      <td>E</td>\n",
       "      <td>82.54</td>\n",
       "    </tr>\n",
       "    <tr>\n",
       "      <th>1</th>\n",
       "      <td>super mario bros.</td>\n",
       "      <td>NES</td>\n",
       "      <td>1985</td>\n",
       "      <td>platform</td>\n",
       "      <td>29.08</td>\n",
       "      <td>3.58</td>\n",
       "      <td>6.81</td>\n",
       "      <td>0.77</td>\n",
       "      <td>NaN</td>\n",
       "      <td>NaN</td>\n",
       "      <td>не указан</td>\n",
       "      <td>40.24</td>\n",
       "    </tr>\n",
       "    <tr>\n",
       "      <th>2</th>\n",
       "      <td>mario kart wii</td>\n",
       "      <td>Wii</td>\n",
       "      <td>2008</td>\n",
       "      <td>racing</td>\n",
       "      <td>15.68</td>\n",
       "      <td>12.76</td>\n",
       "      <td>3.79</td>\n",
       "      <td>3.29</td>\n",
       "      <td>82.0</td>\n",
       "      <td>8.3</td>\n",
       "      <td>E</td>\n",
       "      <td>35.52</td>\n",
       "    </tr>\n",
       "    <tr>\n",
       "      <th>3</th>\n",
       "      <td>wii sports resort</td>\n",
       "      <td>Wii</td>\n",
       "      <td>2009</td>\n",
       "      <td>sports</td>\n",
       "      <td>15.61</td>\n",
       "      <td>10.93</td>\n",
       "      <td>3.28</td>\n",
       "      <td>2.95</td>\n",
       "      <td>80.0</td>\n",
       "      <td>8.0</td>\n",
       "      <td>E</td>\n",
       "      <td>32.77</td>\n",
       "    </tr>\n",
       "    <tr>\n",
       "      <th>4</th>\n",
       "      <td>pokemon red/pokemon blue</td>\n",
       "      <td>GB</td>\n",
       "      <td>1996</td>\n",
       "      <td>role-playing</td>\n",
       "      <td>11.27</td>\n",
       "      <td>8.89</td>\n",
       "      <td>10.22</td>\n",
       "      <td>1.00</td>\n",
       "      <td>NaN</td>\n",
       "      <td>NaN</td>\n",
       "      <td>не указан</td>\n",
       "      <td>31.38</td>\n",
       "    </tr>\n",
       "    <tr>\n",
       "      <th>5</th>\n",
       "      <td>tetris</td>\n",
       "      <td>GB</td>\n",
       "      <td>1989</td>\n",
       "      <td>puzzle</td>\n",
       "      <td>23.20</td>\n",
       "      <td>2.26</td>\n",
       "      <td>4.22</td>\n",
       "      <td>0.58</td>\n",
       "      <td>NaN</td>\n",
       "      <td>NaN</td>\n",
       "      <td>не указан</td>\n",
       "      <td>30.26</td>\n",
       "    </tr>\n",
       "    <tr>\n",
       "      <th>6</th>\n",
       "      <td>new super mario bros.</td>\n",
       "      <td>DS</td>\n",
       "      <td>2006</td>\n",
       "      <td>platform</td>\n",
       "      <td>11.28</td>\n",
       "      <td>9.14</td>\n",
       "      <td>6.50</td>\n",
       "      <td>2.88</td>\n",
       "      <td>89.0</td>\n",
       "      <td>8.5</td>\n",
       "      <td>E</td>\n",
       "      <td>29.80</td>\n",
       "    </tr>\n",
       "    <tr>\n",
       "      <th>7</th>\n",
       "      <td>wii play</td>\n",
       "      <td>Wii</td>\n",
       "      <td>2006</td>\n",
       "      <td>misc</td>\n",
       "      <td>13.96</td>\n",
       "      <td>9.18</td>\n",
       "      <td>2.93</td>\n",
       "      <td>2.84</td>\n",
       "      <td>58.0</td>\n",
       "      <td>6.6</td>\n",
       "      <td>E</td>\n",
       "      <td>28.91</td>\n",
       "    </tr>\n",
       "    <tr>\n",
       "      <th>8</th>\n",
       "      <td>new super mario bros. wii</td>\n",
       "      <td>Wii</td>\n",
       "      <td>2009</td>\n",
       "      <td>platform</td>\n",
       "      <td>14.44</td>\n",
       "      <td>6.94</td>\n",
       "      <td>4.70</td>\n",
       "      <td>2.24</td>\n",
       "      <td>87.0</td>\n",
       "      <td>8.4</td>\n",
       "      <td>E</td>\n",
       "      <td>28.32</td>\n",
       "    </tr>\n",
       "    <tr>\n",
       "      <th>9</th>\n",
       "      <td>duck hunt</td>\n",
       "      <td>NES</td>\n",
       "      <td>1984</td>\n",
       "      <td>shooter</td>\n",
       "      <td>26.93</td>\n",
       "      <td>0.63</td>\n",
       "      <td>0.28</td>\n",
       "      <td>0.47</td>\n",
       "      <td>NaN</td>\n",
       "      <td>NaN</td>\n",
       "      <td>не указан</td>\n",
       "      <td>28.31</td>\n",
       "    </tr>\n",
       "  </tbody>\n",
       "</table>\n",
       "</div>"
      ],
      "text/plain": [
       "                        name platform  year_of_release         genre  \\\n",
       "0                 wii sports      Wii             2006        sports   \n",
       "1          super mario bros.      NES             1985      platform   \n",
       "2             mario kart wii      Wii             2008        racing   \n",
       "3          wii sports resort      Wii             2009        sports   \n",
       "4   pokemon red/pokemon blue       GB             1996  role-playing   \n",
       "5                     tetris       GB             1989        puzzle   \n",
       "6      new super mario bros.       DS             2006      platform   \n",
       "7                   wii play      Wii             2006          misc   \n",
       "8  new super mario bros. wii      Wii             2009      platform   \n",
       "9                  duck hunt      NES             1984       shooter   \n",
       "\n",
       "   na_sales  eu_sales  jp_sales  other_sales  critic_score  user_score  \\\n",
       "0     41.36     28.96      3.77         8.45          76.0         8.0   \n",
       "1     29.08      3.58      6.81         0.77           NaN         NaN   \n",
       "2     15.68     12.76      3.79         3.29          82.0         8.3   \n",
       "3     15.61     10.93      3.28         2.95          80.0         8.0   \n",
       "4     11.27      8.89     10.22         1.00           NaN         NaN   \n",
       "5     23.20      2.26      4.22         0.58           NaN         NaN   \n",
       "6     11.28      9.14      6.50         2.88          89.0         8.5   \n",
       "7     13.96      9.18      2.93         2.84          58.0         6.6   \n",
       "8     14.44      6.94      4.70         2.24          87.0         8.4   \n",
       "9     26.93      0.63      0.28         0.47           NaN         NaN   \n",
       "\n",
       "      rating  total_sales  \n",
       "0          E        82.54  \n",
       "1  не указан        40.24  \n",
       "2          E        35.52  \n",
       "3          E        32.77  \n",
       "4  не указан        31.38  \n",
       "5  не указан        30.26  \n",
       "6          E        29.80  \n",
       "7          E        28.91  \n",
       "8          E        28.32  \n",
       "9  не указан        28.31  "
      ]
     },
     "execution_count": 26,
     "metadata": {},
     "output_type": "execute_result"
    }
   ],
   "source": [
    "# запишем в отдельный столбец суммарные продажи во всех регионах\n",
    "df['total_sales'] = df[['na_sales','eu_sales','jp_sales', 'other_sales']].sum(axis = 1)\n",
    "df.head(10)"
   ]
  },
  {
   "cell_type": "markdown",
   "metadata": {},
   "source": [
    "## Исследовательский анализ данных."
   ]
  },
  {
   "cell_type": "markdown",
   "metadata": {},
   "source": [
    "### Cколько игр выпускалось в разные годы."
   ]
  },
  {
   "cell_type": "markdown",
   "metadata": {},
   "source": [
    "Проверим, сколько игр выпускалось в разные годы. Посмотрим, важны ли данные за все периоды."
   ]
  },
  {
   "cell_type": "code",
   "execution_count": 27,
   "metadata": {},
   "outputs": [
    {
     "data": {
      "text/plain": [
       "year_of_release\n",
       "1980       9\n",
       "1981      46\n",
       "1982      36\n",
       "1983      17\n",
       "1984      14\n",
       "1985      14\n",
       "1986      21\n",
       "1987      16\n",
       "1988      15\n",
       "1989      17\n",
       "1990      16\n",
       "1991      41\n",
       "1992      43\n",
       "1993      60\n",
       "1994     121\n",
       "1995     219\n",
       "1996     263\n",
       "1997     289\n",
       "1998     379\n",
       "1999     338\n",
       "2000     350\n",
       "2001     482\n",
       "2002     829\n",
       "2003     775\n",
       "2004     762\n",
       "2005     939\n",
       "2006    1006\n",
       "2007    1197\n",
       "2008    1427\n",
       "2009    1426\n",
       "2010    1255\n",
       "2011    1136\n",
       "2012     653\n",
       "2013     544\n",
       "2014     581\n",
       "2015     606\n",
       "2016     502\n",
       "Name: name, dtype: int64"
      ]
     },
     "execution_count": 27,
     "metadata": {},
     "output_type": "execute_result"
    }
   ],
   "source": [
    "# сгруппируем данные по году выпуска, для каждого года посчитаем кол-во игр по столбцу name\n",
    "group_year_name = df.groupby('year_of_release')['name'].count()\n",
    "group_year_name"
   ]
  },
  {
   "cell_type": "code",
   "execution_count": 28,
   "metadata": {},
   "outputs": [
    {
     "data": {
      "image/png": "[encoded data removed]",
      "text/plain": [
       "<Figure size 1080x720 with 1 Axes>"
      ]
     },
     "metadata": {
      "needs_background": "light"
     },
     "output_type": "display_data"
    }
   ],
   "source": [
    "group_year_name.plot(grid=True, figsize=(15,10), title='Кол-во игр по годам').legend(loc='upper left')\n",
    "\n",
    "# меняем название горизонтальной оси ('X')\n",
    "plt.xlabel('Годы продаж игр')\n",
    "# меняем название вертикальной оси ('Y')\n",
    "plt.ylabel('Кол-во экземпляров (млн.)')\n",
    "plt.show()"
   ]
  },
  {
   "cell_type": "markdown",
   "metadata": {},
   "source": [
    "**Вывод:** судя по данной выгрузке период до 1994 года можно не брать. Период 2006-2011 г.г. тут самое максимальное кол-во игр, рост до 2009 г., далее их кол-во пошло на спад."
   ]
  },
  {
   "cell_type": "markdown",
   "metadata": {},
   "source": [
    "### Как менялись продажи по платформам. Характерный срок появления и упадка платформы."
   ]
  },
  {
   "cell_type": "markdown",
   "metadata": {},
   "source": [
    "Посмотрим, как менялись продажи по платформам. Выберем платформы с наибольшими суммарными продажами и построим распределение по годам. Посмотрим, за какой характерный срок появляются новые и исчезают старые платформы."
   ]
  },
  {
   "cell_type": "code",
   "execution_count": 29,
   "metadata": {},
   "outputs": [
    {
     "data": {
      "text/html": [
       "<div>\n",
       "<style scoped>\n",
       "    .dataframe tbody tr th:only-of-type {\n",
       "        vertical-align: middle;\n",
       "    }\n",
       "\n",
       "    .dataframe tbody tr th {\n",
       "        vertical-align: top;\n",
       "    }\n",
       "\n",
       "    .dataframe thead th {\n",
       "        text-align: right;\n",
       "    }\n",
       "</style>\n",
       "<table border=\"1\" class=\"dataframe\">\n",
       "  <thead>\n",
       "    <tr style=\"text-align: right;\">\n",
       "      <th></th>\n",
       "      <th>platform</th>\n",
       "      <th>total_sales</th>\n",
       "    </tr>\n",
       "  </thead>\n",
       "  <tbody>\n",
       "    <tr>\n",
       "      <th>0</th>\n",
       "      <td>PS2</td>\n",
       "      <td>1233.56</td>\n",
       "    </tr>\n",
       "    <tr>\n",
       "      <th>1</th>\n",
       "      <td>X360</td>\n",
       "      <td>961.24</td>\n",
       "    </tr>\n",
       "    <tr>\n",
       "      <th>2</th>\n",
       "      <td>PS3</td>\n",
       "      <td>931.34</td>\n",
       "    </tr>\n",
       "    <tr>\n",
       "      <th>3</th>\n",
       "      <td>Wii</td>\n",
       "      <td>891.18</td>\n",
       "    </tr>\n",
       "    <tr>\n",
       "      <th>4</th>\n",
       "      <td>DS</td>\n",
       "      <td>802.78</td>\n",
       "    </tr>\n",
       "    <tr>\n",
       "      <th>5</th>\n",
       "      <td>PS</td>\n",
       "      <td>727.58</td>\n",
       "    </tr>\n",
       "    <tr>\n",
       "      <th>6</th>\n",
       "      <td>PS4</td>\n",
       "      <td>314.14</td>\n",
       "    </tr>\n",
       "    <tr>\n",
       "      <th>7</th>\n",
       "      <td>GBA</td>\n",
       "      <td>312.88</td>\n",
       "    </tr>\n",
       "    <tr>\n",
       "      <th>8</th>\n",
       "      <td>PSP</td>\n",
       "      <td>289.53</td>\n",
       "    </tr>\n",
       "    <tr>\n",
       "      <th>9</th>\n",
       "      <td>3DS</td>\n",
       "      <td>257.81</td>\n",
       "    </tr>\n",
       "    <tr>\n",
       "      <th>10</th>\n",
       "      <td>PC</td>\n",
       "      <td>255.76</td>\n",
       "    </tr>\n",
       "    <tr>\n",
       "      <th>11</th>\n",
       "      <td>GB</td>\n",
       "      <td>254.43</td>\n",
       "    </tr>\n",
       "    <tr>\n",
       "      <th>12</th>\n",
       "      <td>XB</td>\n",
       "      <td>251.57</td>\n",
       "    </tr>\n",
       "    <tr>\n",
       "      <th>13</th>\n",
       "      <td>NES</td>\n",
       "      <td>251.05</td>\n",
       "    </tr>\n",
       "    <tr>\n",
       "      <th>14</th>\n",
       "      <td>N64</td>\n",
       "      <td>218.01</td>\n",
       "    </tr>\n",
       "    <tr>\n",
       "      <th>15</th>\n",
       "      <td>SNES</td>\n",
       "      <td>200.04</td>\n",
       "    </tr>\n",
       "    <tr>\n",
       "      <th>16</th>\n",
       "      <td>GC</td>\n",
       "      <td>196.73</td>\n",
       "    </tr>\n",
       "    <tr>\n",
       "      <th>17</th>\n",
       "      <td>XOne</td>\n",
       "      <td>159.32</td>\n",
       "    </tr>\n",
       "    <tr>\n",
       "      <th>18</th>\n",
       "      <td>2600</td>\n",
       "      <td>86.48</td>\n",
       "    </tr>\n",
       "    <tr>\n",
       "      <th>19</th>\n",
       "      <td>WiiU</td>\n",
       "      <td>82.19</td>\n",
       "    </tr>\n",
       "    <tr>\n",
       "      <th>20</th>\n",
       "      <td>PSV</td>\n",
       "      <td>53.81</td>\n",
       "    </tr>\n",
       "    <tr>\n",
       "      <th>21</th>\n",
       "      <td>SAT</td>\n",
       "      <td>33.59</td>\n",
       "    </tr>\n",
       "    <tr>\n",
       "      <th>22</th>\n",
       "      <td>GEN</td>\n",
       "      <td>28.35</td>\n",
       "    </tr>\n",
       "    <tr>\n",
       "      <th>23</th>\n",
       "      <td>DC</td>\n",
       "      <td>15.95</td>\n",
       "    </tr>\n",
       "    <tr>\n",
       "      <th>24</th>\n",
       "      <td>SCD</td>\n",
       "      <td>1.86</td>\n",
       "    </tr>\n",
       "    <tr>\n",
       "      <th>25</th>\n",
       "      <td>NG</td>\n",
       "      <td>1.44</td>\n",
       "    </tr>\n",
       "    <tr>\n",
       "      <th>26</th>\n",
       "      <td>WS</td>\n",
       "      <td>1.42</td>\n",
       "    </tr>\n",
       "    <tr>\n",
       "      <th>27</th>\n",
       "      <td>TG16</td>\n",
       "      <td>0.16</td>\n",
       "    </tr>\n",
       "    <tr>\n",
       "      <th>28</th>\n",
       "      <td>3DO</td>\n",
       "      <td>0.10</td>\n",
       "    </tr>\n",
       "    <tr>\n",
       "      <th>29</th>\n",
       "      <td>GG</td>\n",
       "      <td>0.04</td>\n",
       "    </tr>\n",
       "    <tr>\n",
       "      <th>30</th>\n",
       "      <td>PCFX</td>\n",
       "      <td>0.03</td>\n",
       "    </tr>\n",
       "  </tbody>\n",
       "</table>\n",
       "</div>"
      ],
      "text/plain": [
       "   platform  total_sales\n",
       "0       PS2      1233.56\n",
       "1      X360       961.24\n",
       "2       PS3       931.34\n",
       "3       Wii       891.18\n",
       "4        DS       802.78\n",
       "5        PS       727.58\n",
       "6       PS4       314.14\n",
       "7       GBA       312.88\n",
       "8       PSP       289.53\n",
       "9       3DS       257.81\n",
       "10       PC       255.76\n",
       "11       GB       254.43\n",
       "12       XB       251.57\n",
       "13      NES       251.05\n",
       "14      N64       218.01\n",
       "15     SNES       200.04\n",
       "16       GC       196.73\n",
       "17     XOne       159.32\n",
       "18     2600        86.48\n",
       "19     WiiU        82.19\n",
       "20      PSV        53.81\n",
       "21      SAT        33.59\n",
       "22      GEN        28.35\n",
       "23       DC        15.95\n",
       "24      SCD         1.86\n",
       "25       NG         1.44\n",
       "26       WS         1.42\n",
       "27     TG16         0.16\n",
       "28      3DO         0.10\n",
       "29       GG         0.04\n",
       "30     PCFX         0.03"
      ]
     },
     "execution_count": 29,
     "metadata": {},
     "output_type": "execute_result"
    }
   ],
   "source": [
    "# построим таблицу: суммарные продажи для каждой платформы\n",
    "group_platform_tsales = df.pivot_table(index='platform', values='total_sales', aggfunc='sum') \\\n",
    ".sort_values('total_sales', ascending=False).reset_index()\n",
    "group_platform_tsales"
   ]
  },
  {
   "cell_type": "code",
   "execution_count": 30,
   "metadata": {},
   "outputs": [
    {
     "data": {
      "image/png": "[encoded data removed]",
      "text/plain": [
       "<Figure size 1440x576 with 1 Axes>"
      ]
     },
     "metadata": {
      "needs_background": "light"
     },
     "output_type": "display_data"
    }
   ],
   "source": [
    "group_platform_tsales.plot(x='platform', y='total_sales', kind='bar', \\\n",
    "                 figsize=(20,8), grid=True, title = 'Общие продажи по платформам за весь период')\n",
    "# меняем название горизонтальной оси ('X')\n",
    "plt.xlabel('Платформы')\n",
    "# меняем название вертикальной оси ('Y')\n",
    "plt.ylabel('Общие продажи (млн.)')\n",
    "plt.show()"
   ]
  },
  {
   "cell_type": "markdown",
   "metadata": {},
   "source": [
    "Это была группировка по платформам с подсчетом общего кол-ва продаж для каждой платформы. Но нужна еще и разбивка по годам, чтобы понимать динамику."
   ]
  },
  {
   "cell_type": "markdown",
   "metadata": {},
   "source": [
    "Выделим топ-8 платформ с наибольшим кол-во продаж."
   ]
  },
  {
   "cell_type": "code",
   "execution_count": 31,
   "metadata": {},
   "outputs": [
    {
     "data": {
      "text/plain": [
       "['PS2', 'X360', 'PS3', 'Wii', 'DS', 'PS', 'PS4', 'GBA']"
      ]
     },
     "execution_count": 31,
     "metadata": {},
     "output_type": "execute_result"
    }
   ],
   "source": [
    "list_pl_8 = group_platform_tsales.loc[0:7,'platform'].to_list()\n",
    "list_pl_8"
   ]
  },
  {
   "cell_type": "markdown",
   "metadata": {},
   "source": [
    "Для топ-8 платформ посмотрим динамику продаж по годам. Возьмем годы с 2006 когда начинался рост в кол-ве игр."
   ]
  },
  {
   "cell_type": "code",
   "execution_count": 32,
   "metadata": {},
   "outputs": [
    {
     "data": {
      "image/png": "[encoded data removed]",
      "text/plain": [
       "<Figure size 1080x720 with 1 Axes>"
      ]
     },
     "metadata": {
      "needs_background": "light"
     },
     "output_type": "display_data"
    }
   ],
   "source": [
    "df.query('platform in @list_pl_8 and year_of_release >= 2006') \\\n",
    ".pivot_table(index='year_of_release', columns='platform', values='total_sales', aggfunc='sum') \\\n",
    ".plot(grid=True, figsize=(15,10), title='Кол-во продаж игровых платформ').legend(loc='upper left')\n",
    "\n",
    "# меняем название горизонтальной оси ('X')\n",
    "plt.xlabel('Годы продаж игровых платформ')\n",
    "# меняем название вертикальной оси ('Y')\n",
    "plt.ylabel('Кол-во экземпляров (млн.)')\n",
    "plt.show()"
   ]
  },
  {
   "cell_type": "markdown",
   "metadata": {},
   "source": [
    "**Вывод:** судя по графику характерный срок появления новой платформы 1-2 года. Далее продажи идут на спад. Исчезновение старых платформ происходит постепенно, может происходить от 1 года до 4-6 лет."
   ]
  },
  {
   "cell_type": "code",
   "execution_count": 33,
   "metadata": {},
   "outputs": [
    {
     "data": {
      "text/plain": [
       "6.571428571428571"
      ]
     },
     "execution_count": 33,
     "metadata": {},
     "output_type": "execute_result"
    }
   ],
   "source": [
    "# построим сводную таблицу: берем платформы из топ-8 и определяем для них год старта продаж (min)\n",
    "# и год завершения продаж (max)\n",
    "df_1 = df.query('platform in @list_pl_8 and year_of_release >= 2006')\\\n",
    ".pivot_table(index='platform', values='year_of_release', aggfunc=['max','min']).reset_index()\n",
    "df_1.columns = ['platform', 'max_year', 'min_year']\n",
    "# определим время существования платформы (max - min) и найдем среднее значение\n",
    "df_1['platf_time'] = df_1['max_year'] - df_1['min_year']\n",
    "df_1['platf_time'].mean()"
   ]
  },
  {
   "cell_type": "markdown",
   "metadata": {},
   "source": [
    "**Вывод:** Средний период жизни платформы - 6,5 лет. Также можно на графике определить даты начала и завершения продаж, и разница между ними - как раз период существования платформы."
   ]
  },
  {
   "cell_type": "markdown",
   "metadata": {},
   "source": [
    "### Определение актуального периода для дальнейшего анализа."
   ]
  },
  {
   "cell_type": "markdown",
   "metadata": {},
   "source": [
    "Ранее отсекли период до 1994 г., там малое кол-во продаж, он не информативен. Основной рост в кол-ве игр был с 2006 г. За этот период посмотрели динамику продаж для топ-8 платформ. Для некоторых платформ можем наблюдать практически полный цикл: от старта до спада продаж."
   ]
  },
  {
   "cell_type": "markdown",
   "metadata": {},
   "source": [
    "**Вывод:** Определим актуальный период для прогноза на 2017 г. как период 2014-2016 гг. За это время можно отследить какие платформы идут на спад, какие появились не так давно. Сюда войдет платформы из топ-8 платформ по продажам. На основании этого можно выявить разные закономерности."
   ]
  },
  {
   "cell_type": "markdown",
   "metadata": {},
   "source": [
    "### Определение платформ, которые лидируют по продажам, растут или падают. Выбор несколько потенциально прибыльных платформ."
   ]
  },
  {
   "cell_type": "markdown",
   "metadata": {},
   "source": [
    "Для визуализации снова построим график продаж по платформам в динамике по годам из актуального периода."
   ]
  },
  {
   "cell_type": "code",
   "execution_count": 34,
   "metadata": {},
   "outputs": [
    {
     "data": {
      "image/png": "[encoded data removed]",
      "text/plain": [
       "<Figure size 1080x720 with 1 Axes>"
      ]
     },
     "metadata": {
      "needs_background": "light"
     },
     "output_type": "display_data"
    }
   ],
   "source": [
    "df.query('year_of_release >= 2014') \\\n",
    ".pivot_table(index='year_of_release', columns='platform', values='total_sales', aggfunc='sum') \\\n",
    ".plot(grid=True, figsize=(15,10), title='Кол-во продаж игровых платформ').legend(loc='upper left')\n",
    "\n",
    "# меняем название горизонтальной оси ('X')\n",
    "plt.xlabel('Годы продаж игровых платформ')\n",
    "# меняем название вертикальной оси ('Y')\n",
    "plt.ylabel('Кол-во экземпляров (млн.)')\n",
    "plt.show()"
   ]
  },
  {
   "cell_type": "markdown",
   "metadata": {},
   "source": [
    "**Вывод:** исходя из графика достаточно интересны платформы X360, 3DS, PS3 - продажи в итоге пошли на спад, который занял продолжительное время, но были достаточно длительные периоды роста. <br>\n",
    "Невысокие продажи (почти весь период существования платформы) были у платформ PC, PSV. <br>\n",
    "В качестве потенциально прибыльных платформ будем рассматривать PS4, XOne, т.к. их старт начался отностельно недавно, сейчас их продажи самые восокие, выше остальных от нуля."
   ]
  },
  {
   "cell_type": "markdown",
   "metadata": {},
   "source": [
    "### Построение графика «ящик с усами» по глобальным продажам игр в разбивке по платформам."
   ]
  },
  {
   "cell_type": "code",
   "execution_count": 35,
   "metadata": {
    "scrolled": true
   },
   "outputs": [
    {
     "data": {
      "image/png": "[encoded data removed]",
      "text/plain": [
       "<Figure size 432x288 with 1 Axes>"
      ]
     },
     "metadata": {
      "needs_background": "light"
     },
     "output_type": "display_data"
    }
   ],
   "source": [
    "df_good_platf = df.query(\"platform == ['PS4','XOne'] and year_of_release >=2014\")\n",
    "df_good_platf.boxplot(column='total_sales', by='platform').set_title(\"Общие продажи по платформам\")\n",
    "plt.suptitle(' ') # удаляем заголовок boxplot по умолчанию\n",
    "plt.ylim(-0.5, 1.8)\n",
    "plt.show()"
   ]
  },
  {
   "cell_type": "code",
   "execution_count": 36,
   "metadata": {
    "scrolled": true
   },
   "outputs": [
    {
     "data": {
      "text/html": [
       "<div>\n",
       "<style scoped>\n",
       "    .dataframe tbody tr th:only-of-type {\n",
       "        vertical-align: middle;\n",
       "    }\n",
       "\n",
       "    .dataframe tbody tr th {\n",
       "        vertical-align: top;\n",
       "    }\n",
       "\n",
       "    .dataframe thead th {\n",
       "        text-align: right;\n",
       "    }\n",
       "</style>\n",
       "<table border=\"1\" class=\"dataframe\">\n",
       "  <thead>\n",
       "    <tr style=\"text-align: right;\">\n",
       "      <th></th>\n",
       "      <th>count</th>\n",
       "      <th>mean</th>\n",
       "      <th>std</th>\n",
       "      <th>min</th>\n",
       "      <th>25%</th>\n",
       "      <th>50%</th>\n",
       "      <th>75%</th>\n",
       "      <th>max</th>\n",
       "    </tr>\n",
       "    <tr>\n",
       "      <th>platform</th>\n",
       "      <th></th>\n",
       "      <th></th>\n",
       "      <th></th>\n",
       "      <th></th>\n",
       "      <th></th>\n",
       "      <th></th>\n",
       "      <th></th>\n",
       "      <th></th>\n",
       "    </tr>\n",
       "  </thead>\n",
       "  <tbody>\n",
       "    <tr>\n",
       "      <th>PS4</th>\n",
       "      <td>376.0</td>\n",
       "      <td>0.766356</td>\n",
       "      <td>1.614969</td>\n",
       "      <td>0.01</td>\n",
       "      <td>0.0575</td>\n",
       "      <td>0.185</td>\n",
       "      <td>0.6900</td>\n",
       "      <td>14.63</td>\n",
       "    </tr>\n",
       "    <tr>\n",
       "      <th>XOne</th>\n",
       "      <td>228.0</td>\n",
       "      <td>0.615614</td>\n",
       "      <td>1.046513</td>\n",
       "      <td>0.01</td>\n",
       "      <td>0.0500</td>\n",
       "      <td>0.205</td>\n",
       "      <td>0.6325</td>\n",
       "      <td>7.39</td>\n",
       "    </tr>\n",
       "  </tbody>\n",
       "</table>\n",
       "</div>"
      ],
      "text/plain": [
       "          count      mean       std   min     25%    50%     75%    max\n",
       "platform                                                               \n",
       "PS4       376.0  0.766356  1.614969  0.01  0.0575  0.185  0.6900  14.63\n",
       "XOne      228.0  0.615614  1.046513  0.01  0.0500  0.205  0.6325   7.39"
      ]
     },
     "execution_count": 36,
     "metadata": {},
     "output_type": "execute_result"
    }
   ],
   "source": [
    "df_good_platf.groupby('platform')['total_sales'].describe()"
   ]
  },
  {
   "cell_type": "code",
   "execution_count": 37,
   "metadata": {
    "scrolled": true
   },
   "outputs": [
    {
     "data": {
      "image/png": "[encoded data removed]",
      "text/plain": [
       "<Figure size 432x288 with 1 Axes>"
      ]
     },
     "metadata": {
      "needs_background": "light"
     },
     "output_type": "display_data"
    }
   ],
   "source": [
    "df_good_platf[df_good_platf['platform']=='PS4'].plot(y='total_sales', title='PS4', kind='hist', bins=60)\n",
    "plt.show()"
   ]
  },
  {
   "cell_type": "code",
   "execution_count": 38,
   "metadata": {},
   "outputs": [
    {
     "data": {
      "image/png": "[encoded data removed]",
      "text/plain": [
       "<Figure size 432x288 with 1 Axes>"
      ]
     },
     "metadata": {
      "needs_background": "light"
     },
     "output_type": "display_data"
    }
   ],
   "source": [
    "df_good_platf[df_good_platf['platform']=='XOne'].plot(y='total_sales', title='XOne', kind='hist', bins=60)\n",
    "plt.show()"
   ]
  },
  {
   "cell_type": "markdown",
   "metadata": {},
   "source": [
    "Для платформ PS4, XOne вывели основные характеристики. На графике \"ящик с усами\" (поменяли масштаб) также видно, что медиана и квантиль Q3 практически одинаковые. "
   ]
  },
  {
   "cell_type": "code",
   "execution_count": 39,
   "metadata": {
    "scrolled": false
   },
   "outputs": [
    {
     "data": {
      "image/png": "[encoded data removed]",
      "text/plain": [
       "<Figure size 432x288 with 1 Axes>"
      ]
     },
     "metadata": {
      "needs_background": "light"
     },
     "output_type": "display_data"
    }
   ],
   "source": [
    "df_good_platf.groupby('platform')['total_sales'].plot(kind='hist', bins=10, alpha=0.5)\n",
    "plt.legend(['PS4', 'XOne'])\n",
    "plt.xlabel('общие продажи ')\n",
    "plt.ylabel('частота')\n",
    "plt.show()"
   ]
  },
  {
   "cell_type": "markdown",
   "metadata": {},
   "source": [
    "Посмотрели характеристики и распределение доходов от игр платформ PS4, XOne. Показатель медианы можем расшифровать как - насколько «в среднем» платформа прибыльна. Получается, что у XOne в среднем около 205 тыс. продаж игр (их жанров), а у PS4 - 185 тыс."
   ]
  },
  {
   "cell_type": "markdown",
   "metadata": {},
   "source": [
    "Для сравнения исследуем достаточно интересные платформы X360, 3DS, PS3."
   ]
  },
  {
   "cell_type": "code",
   "execution_count": 40,
   "metadata": {
    "scrolled": true
   },
   "outputs": [
    {
     "data": {
      "image/png": "[encoded data removed]",
      "text/plain": [
       "<Figure size 432x288 with 1 Axes>"
      ]
     },
     "metadata": {
      "needs_background": "light"
     },
     "output_type": "display_data"
    }
   ],
   "source": [
    "df_int_platf = df.query(\"platform == ['X360', '3DS', 'PS3'] and year_of_release >=2014\")\n",
    "df_int_platf.boxplot(column='total_sales', by='platform').set_title(\"Общие продажи по платформам\")\n",
    "plt.suptitle(' ') # удаляем заголовок boxplot по умолчанию\n",
    "plt.ylim(-0.2, 1.3)\n",
    "plt.show()"
   ]
  },
  {
   "cell_type": "code",
   "execution_count": 41,
   "metadata": {
    "scrolled": true
   },
   "outputs": [
    {
     "data": {
      "text/html": [
       "<div>\n",
       "<style scoped>\n",
       "    .dataframe tbody tr th:only-of-type {\n",
       "        vertical-align: middle;\n",
       "    }\n",
       "\n",
       "    .dataframe tbody tr th {\n",
       "        vertical-align: top;\n",
       "    }\n",
       "\n",
       "    .dataframe thead th {\n",
       "        text-align: right;\n",
       "    }\n",
       "</style>\n",
       "<table border=\"1\" class=\"dataframe\">\n",
       "  <thead>\n",
       "    <tr style=\"text-align: right;\">\n",
       "      <th></th>\n",
       "      <th>count</th>\n",
       "      <th>mean</th>\n",
       "      <th>std</th>\n",
       "      <th>min</th>\n",
       "      <th>25%</th>\n",
       "      <th>50%</th>\n",
       "      <th>75%</th>\n",
       "      <th>max</th>\n",
       "    </tr>\n",
       "    <tr>\n",
       "      <th>platform</th>\n",
       "      <th></th>\n",
       "      <th></th>\n",
       "      <th></th>\n",
       "      <th></th>\n",
       "      <th></th>\n",
       "      <th></th>\n",
       "      <th></th>\n",
       "      <th></th>\n",
       "    </tr>\n",
       "  </thead>\n",
       "  <tbody>\n",
       "    <tr>\n",
       "      <th>3DS</th>\n",
       "      <td>212.0</td>\n",
       "      <td>0.408868</td>\n",
       "      <td>1.188368</td>\n",
       "      <td>0.01</td>\n",
       "      <td>0.03</td>\n",
       "      <td>0.09</td>\n",
       "      <td>0.250</td>\n",
       "      <td>11.68</td>\n",
       "    </tr>\n",
       "    <tr>\n",
       "      <th>PS3</th>\n",
       "      <td>219.0</td>\n",
       "      <td>0.311324</td>\n",
       "      <td>0.633059</td>\n",
       "      <td>0.01</td>\n",
       "      <td>0.04</td>\n",
       "      <td>0.11</td>\n",
       "      <td>0.325</td>\n",
       "      <td>5.27</td>\n",
       "    </tr>\n",
       "    <tr>\n",
       "      <th>X360</th>\n",
       "      <td>111.0</td>\n",
       "      <td>0.434414</td>\n",
       "      <td>0.628967</td>\n",
       "      <td>0.01</td>\n",
       "      <td>0.07</td>\n",
       "      <td>0.18</td>\n",
       "      <td>0.505</td>\n",
       "      <td>4.28</td>\n",
       "    </tr>\n",
       "  </tbody>\n",
       "</table>\n",
       "</div>"
      ],
      "text/plain": [
       "          count      mean       std   min   25%   50%    75%    max\n",
       "platform                                                           \n",
       "3DS       212.0  0.408868  1.188368  0.01  0.03  0.09  0.250  11.68\n",
       "PS3       219.0  0.311324  0.633059  0.01  0.04  0.11  0.325   5.27\n",
       "X360      111.0  0.434414  0.628967  0.01  0.07  0.18  0.505   4.28"
      ]
     },
     "execution_count": 41,
     "metadata": {},
     "output_type": "execute_result"
    }
   ],
   "source": [
    "df_int_platf.groupby('platform')['total_sales'].describe()"
   ]
  },
  {
   "cell_type": "code",
   "execution_count": 42,
   "metadata": {},
   "outputs": [
    {
     "data": {
      "image/png": "[encoded data removed]",
      "text/plain": [
       "<Figure size 432x288 with 1 Axes>"
      ]
     },
     "metadata": {
      "needs_background": "light"
     },
     "output_type": "display_data"
    }
   ],
   "source": [
    "df_int_platf.groupby('platform')['total_sales'].plot(kind='hist', bins=10, alpha=0.6)\n",
    "plt.legend(['3DS', 'PS3', 'X360'])\n",
    "plt.xlabel('общие продажи ')\n",
    "plt.ylabel('частота')\n",
    "plt.show()"
   ]
  },
  {
   "cell_type": "markdown",
   "metadata": {},
   "source": [
    "**Вывод:** построили диаграмму размаха для платформ PS4, XOne. Для обоих платформ есть выбросы, для PS4 их больше. Есть точечные выбросы. Может быть вышли какие-то новые игры, обновления, и начался резкий скачок продаж. Показатель медианы можем расшифровать как - насколько «в среднем» платформа прибыльна. Получается, что у XOne в среднем около 205 тыс. продаж игр (их жанров), а у PS4 - 185 тыс. <br>\n",
    "Также исследовали достаточно интересные платформы X360, 3DS, PS3. Здесь наиболее прибыльной оказалась платформа X360, в среднем 180 тыс. проданных жанров игр."
   ]
  },
  {
   "cell_type": "markdown",
   "metadata": {},
   "source": [
    "### Влияют ли на продажи внутри одной популярной платформы отзывы пользователей и критиков. "
   ]
  },
  {
   "cell_type": "markdown",
   "metadata": {},
   "source": [
    "Возьмем для рассмотрения платформу PS4, т.к. у нее продажи выше."
   ]
  },
  {
   "cell_type": "code",
   "execution_count": 43,
   "metadata": {
    "scrolled": true
   },
   "outputs": [
    {
     "data": {
      "text/html": [
       "<div>\n",
       "<style scoped>\n",
       "    .dataframe tbody tr th:only-of-type {\n",
       "        vertical-align: middle;\n",
       "    }\n",
       "\n",
       "    .dataframe tbody tr th {\n",
       "        vertical-align: top;\n",
       "    }\n",
       "\n",
       "    .dataframe thead th {\n",
       "        text-align: right;\n",
       "    }\n",
       "</style>\n",
       "<table border=\"1\" class=\"dataframe\">\n",
       "  <thead>\n",
       "    <tr style=\"text-align: right;\">\n",
       "      <th></th>\n",
       "      <th>name</th>\n",
       "      <th>platform</th>\n",
       "      <th>year_of_release</th>\n",
       "      <th>genre</th>\n",
       "      <th>na_sales</th>\n",
       "      <th>eu_sales</th>\n",
       "      <th>jp_sales</th>\n",
       "      <th>other_sales</th>\n",
       "      <th>critic_score</th>\n",
       "      <th>user_score</th>\n",
       "      <th>rating</th>\n",
       "      <th>total_sales</th>\n",
       "    </tr>\n",
       "  </thead>\n",
       "  <tbody>\n",
       "    <tr>\n",
       "      <th>31</th>\n",
       "      <td>call of duty: black ops 3</td>\n",
       "      <td>PS4</td>\n",
       "      <td>2015</td>\n",
       "      <td>shooter</td>\n",
       "      <td>6.03</td>\n",
       "      <td>5.86</td>\n",
       "      <td>0.36</td>\n",
       "      <td>2.38</td>\n",
       "      <td>NaN</td>\n",
       "      <td>NaN</td>\n",
       "      <td>не указан</td>\n",
       "      <td>14.63</td>\n",
       "    </tr>\n",
       "    <tr>\n",
       "      <th>42</th>\n",
       "      <td>grand theft auto v</td>\n",
       "      <td>PS4</td>\n",
       "      <td>2014</td>\n",
       "      <td>action</td>\n",
       "      <td>3.96</td>\n",
       "      <td>6.31</td>\n",
       "      <td>0.38</td>\n",
       "      <td>1.97</td>\n",
       "      <td>97.0</td>\n",
       "      <td>8.3</td>\n",
       "      <td>M</td>\n",
       "      <td>12.62</td>\n",
       "    </tr>\n",
       "    <tr>\n",
       "      <th>77</th>\n",
       "      <td>fifa 16</td>\n",
       "      <td>PS4</td>\n",
       "      <td>2015</td>\n",
       "      <td>sports</td>\n",
       "      <td>1.12</td>\n",
       "      <td>6.12</td>\n",
       "      <td>0.06</td>\n",
       "      <td>1.28</td>\n",
       "      <td>82.0</td>\n",
       "      <td>4.3</td>\n",
       "      <td>E</td>\n",
       "      <td>8.58</td>\n",
       "    </tr>\n",
       "    <tr>\n",
       "      <th>87</th>\n",
       "      <td>star wars battlefront (2015)</td>\n",
       "      <td>PS4</td>\n",
       "      <td>2015</td>\n",
       "      <td>shooter</td>\n",
       "      <td>2.99</td>\n",
       "      <td>3.49</td>\n",
       "      <td>0.22</td>\n",
       "      <td>1.28</td>\n",
       "      <td>NaN</td>\n",
       "      <td>NaN</td>\n",
       "      <td>не указан</td>\n",
       "      <td>7.98</td>\n",
       "    </tr>\n",
       "    <tr>\n",
       "      <th>92</th>\n",
       "      <td>call of duty: advanced warfare</td>\n",
       "      <td>PS4</td>\n",
       "      <td>2014</td>\n",
       "      <td>shooter</td>\n",
       "      <td>2.81</td>\n",
       "      <td>3.48</td>\n",
       "      <td>0.14</td>\n",
       "      <td>1.23</td>\n",
       "      <td>83.0</td>\n",
       "      <td>5.7</td>\n",
       "      <td>M</td>\n",
       "      <td>7.66</td>\n",
       "    </tr>\n",
       "    <tr>\n",
       "      <th>...</th>\n",
       "      <td>...</td>\n",
       "      <td>...</td>\n",
       "      <td>...</td>\n",
       "      <td>...</td>\n",
       "      <td>...</td>\n",
       "      <td>...</td>\n",
       "      <td>...</td>\n",
       "      <td>...</td>\n",
       "      <td>...</td>\n",
       "      <td>...</td>\n",
       "      <td>...</td>\n",
       "      <td>...</td>\n",
       "    </tr>\n",
       "    <tr>\n",
       "      <th>16500</th>\n",
       "      <td>root letter</td>\n",
       "      <td>PS4</td>\n",
       "      <td>2016</td>\n",
       "      <td>adventure</td>\n",
       "      <td>0.00</td>\n",
       "      <td>0.00</td>\n",
       "      <td>0.01</td>\n",
       "      <td>0.00</td>\n",
       "      <td>69.0</td>\n",
       "      <td>7.5</td>\n",
       "      <td>не указан</td>\n",
       "      <td>0.01</td>\n",
       "    </tr>\n",
       "    <tr>\n",
       "      <th>16503</th>\n",
       "      <td>shin hayarigami 2</td>\n",
       "      <td>PS4</td>\n",
       "      <td>2016</td>\n",
       "      <td>adventure</td>\n",
       "      <td>0.00</td>\n",
       "      <td>0.00</td>\n",
       "      <td>0.01</td>\n",
       "      <td>0.00</td>\n",
       "      <td>NaN</td>\n",
       "      <td>NaN</td>\n",
       "      <td>не указан</td>\n",
       "      <td>0.01</td>\n",
       "    </tr>\n",
       "    <tr>\n",
       "      <th>16526</th>\n",
       "      <td>dungeons 2</td>\n",
       "      <td>PS4</td>\n",
       "      <td>2016</td>\n",
       "      <td>role-playing</td>\n",
       "      <td>0.01</td>\n",
       "      <td>0.00</td>\n",
       "      <td>0.00</td>\n",
       "      <td>0.00</td>\n",
       "      <td>61.0</td>\n",
       "      <td>7.9</td>\n",
       "      <td>T</td>\n",
       "      <td>0.01</td>\n",
       "    </tr>\n",
       "    <tr>\n",
       "      <th>16530</th>\n",
       "      <td>carmageddon: max damage</td>\n",
       "      <td>PS4</td>\n",
       "      <td>2016</td>\n",
       "      <td>action</td>\n",
       "      <td>0.01</td>\n",
       "      <td>0.00</td>\n",
       "      <td>0.00</td>\n",
       "      <td>0.00</td>\n",
       "      <td>51.0</td>\n",
       "      <td>5.5</td>\n",
       "      <td>M</td>\n",
       "      <td>0.01</td>\n",
       "    </tr>\n",
       "    <tr>\n",
       "      <th>16585</th>\n",
       "      <td>farming 2017 - the simulation</td>\n",
       "      <td>PS4</td>\n",
       "      <td>2016</td>\n",
       "      <td>simulation</td>\n",
       "      <td>0.00</td>\n",
       "      <td>0.01</td>\n",
       "      <td>0.00</td>\n",
       "      <td>0.00</td>\n",
       "      <td>NaN</td>\n",
       "      <td>NaN</td>\n",
       "      <td>не указан</td>\n",
       "      <td>0.01</td>\n",
       "    </tr>\n",
       "  </tbody>\n",
       "</table>\n",
       "<p>376 rows × 12 columns</p>\n",
       "</div>"
      ],
      "text/plain": [
       "                                 name platform  year_of_release         genre  \\\n",
       "31          call of duty: black ops 3      PS4             2015       shooter   \n",
       "42                 grand theft auto v      PS4             2014        action   \n",
       "77                            fifa 16      PS4             2015        sports   \n",
       "87       star wars battlefront (2015)      PS4             2015       shooter   \n",
       "92     call of duty: advanced warfare      PS4             2014       shooter   \n",
       "...                               ...      ...              ...           ...   \n",
       "16500                     root letter      PS4             2016     adventure   \n",
       "16503               shin hayarigami 2      PS4             2016     adventure   \n",
       "16526                      dungeons 2      PS4             2016  role-playing   \n",
       "16530         carmageddon: max damage      PS4             2016        action   \n",
       "16585   farming 2017 - the simulation      PS4             2016    simulation   \n",
       "\n",
       "       na_sales  eu_sales  jp_sales  other_sales  critic_score  user_score  \\\n",
       "31         6.03      5.86      0.36         2.38           NaN         NaN   \n",
       "42         3.96      6.31      0.38         1.97          97.0         8.3   \n",
       "77         1.12      6.12      0.06         1.28          82.0         4.3   \n",
       "87         2.99      3.49      0.22         1.28           NaN         NaN   \n",
       "92         2.81      3.48      0.14         1.23          83.0         5.7   \n",
       "...         ...       ...       ...          ...           ...         ...   \n",
       "16500      0.00      0.00      0.01         0.00          69.0         7.5   \n",
       "16503      0.00      0.00      0.01         0.00           NaN         NaN   \n",
       "16526      0.01      0.00      0.00         0.00          61.0         7.9   \n",
       "16530      0.01      0.00      0.00         0.00          51.0         5.5   \n",
       "16585      0.00      0.01      0.00         0.00           NaN         NaN   \n",
       "\n",
       "          rating  total_sales  \n",
       "31     не указан        14.63  \n",
       "42             M        12.62  \n",
       "77             E         8.58  \n",
       "87     не указан         7.98  \n",
       "92             M         7.66  \n",
       "...          ...          ...  \n",
       "16500  не указан         0.01  \n",
       "16503  не указан         0.01  \n",
       "16526          T         0.01  \n",
       "16530          M         0.01  \n",
       "16585  не указан         0.01  \n",
       "\n",
       "[376 rows x 12 columns]"
      ]
     },
     "execution_count": 43,
     "metadata": {},
     "output_type": "execute_result"
    }
   ],
   "source": [
    "df_good_platf[df_good_platf['platform']=='PS4']"
   ]
  },
  {
   "cell_type": "code",
   "execution_count": 44,
   "metadata": {
    "scrolled": true
   },
   "outputs": [
    {
     "data": {
      "image/png": "[encoded data removed]",
      "text/plain": [
       "<Figure size 576x576 with 1 Axes>"
      ]
     },
     "metadata": {
      "needs_background": "light"
     },
     "output_type": "display_data"
    }
   ],
   "source": [
    "# построим диаграмму рассеяния по платформе PS4, отобразив отзывы пользователей\n",
    "df_good_platf[df_good_platf['platform']=='PS4'].plot(x='user_score', \\\n",
    "                                            y='total_sales', kind='scatter', alpha=0.7, figsize=(8,8), grid=True)\n",
    "plt.show()"
   ]
  },
  {
   "cell_type": "code",
   "execution_count": 45,
   "metadata": {},
   "outputs": [
    {
     "data": {
      "image/png": "[encoded data removed]",
      "text/plain": [
       "<Figure size 576x576 with 1 Axes>"
      ]
     },
     "metadata": {
      "needs_background": "light"
     },
     "output_type": "display_data"
    }
   ],
   "source": [
    "# построим диаграмму рассеяния по платформе PS4, отобразив отзывы критиков\n",
    "df_good_platf[df_good_platf['platform']=='PS4'].plot(x='critic_score', \\\n",
    "                                            y='total_sales', kind='scatter', alpha=0.7, figsize=(8,8), grid=True)\n",
    "plt.show()"
   ]
  },
  {
   "cell_type": "markdown",
   "metadata": {},
   "source": [
    "Посчитаем коэф-т корреляции Пирсона для двух величин, чтобы оценить численно насколько тесная взаимосвязь между ними."
   ]
  },
  {
   "cell_type": "code",
   "execution_count": 46,
   "metadata": {},
   "outputs": [
    {
     "data": {
      "text/plain": [
       "-0.040131589472697356"
      ]
     },
     "execution_count": 46,
     "metadata": {},
     "output_type": "execute_result"
    }
   ],
   "source": [
    "df_ps4 = df_good_platf[df_good_platf['platform']=='PS4']\n",
    "df_ps4['user_score'].corr(df_ps4['total_sales']) # корреляция между оценками пользователеей и общими продажами"
   ]
  },
  {
   "cell_type": "code",
   "execution_count": 47,
   "metadata": {},
   "outputs": [
    {
     "data": {
      "text/plain": [
       "0.40266141068104083"
      ]
     },
     "execution_count": 47,
     "metadata": {},
     "output_type": "execute_result"
    }
   ],
   "source": [
    "df_ps4['critic_score'].corr(df_ps4['total_sales']) # корреляция между оценками критиков и общими продажами"
   ]
  },
  {
   "cell_type": "markdown",
   "metadata": {},
   "source": [
    "**Вывод:** построили диаграмму рассеяния по платформе PS4, отобразив отзывы пользователей и критиков. В основном оценки для платформы PS4 достаточно высокие. Зависимости между оценками пользователей и общими продажами тут нет. Также зависимость между оценками критиков и общими продажами слабо выраженная, положительная."
   ]
  },
  {
   "cell_type": "markdown",
   "metadata": {},
   "source": [
    "### Соотнесение выводов с продажами игр на других платформах."
   ]
  },
  {
   "cell_type": "markdown",
   "metadata": {},
   "source": [
    "Построим диаграмму рассеяния по другим платформам, отобразив общие продажи"
   ]
  },
  {
   "cell_type": "code",
   "execution_count": 48,
   "metadata": {},
   "outputs": [
    {
     "data": {
      "image/png": "[encoded data removed]",
      "text/plain": [
       "<Figure size 1800x504 with 1 Axes>"
      ]
     },
     "metadata": {
      "needs_background": "light"
     },
     "output_type": "display_data"
    }
   ],
   "source": [
    "df.query('year_of_release >= 2014') \\\n",
    ".boxplot(column='total_sales', by='platform', figsize=(25,7)).set_title(\"Общие продажи по платформам\")\n",
    "plt.suptitle(' ') # удаляем заголовок boxplot по умолчанию\n",
    "plt.show()"
   ]
  },
  {
   "cell_type": "markdown",
   "metadata": {},
   "source": [
    "По оси Y отрегулируем диапазон, чтобы посмотреть где есть частые выбросы, а где остаются редкие. "
   ]
  },
  {
   "cell_type": "code",
   "execution_count": 49,
   "metadata": {},
   "outputs": [
    {
     "data": {
      "image/png": "[encoded data removed]",
      "text/plain": [
       "<Figure size 1440x576 with 1 Axes>"
      ]
     },
     "metadata": {
      "needs_background": "light"
     },
     "output_type": "display_data"
    }
   ],
   "source": [
    "df.query('year_of_release >= 2014') \\\n",
    ".boxplot(column='total_sales', by='platform', figsize=(20,8)).set_title(\"Общие продажи по платформам\")\n",
    "plt.suptitle(' ') # удаляем заголовок boxplot по умолчанию\n",
    "plt.ylim(-0.1, 1.6)\n",
    "plt.show()"
   ]
  },
  {
   "cell_type": "markdown",
   "metadata": {},
   "source": [
    "**Вывод**: судя по диаграмме, платформы с высокими продажами: PS4, WiiU, Wii, XOne. У них высокие границы размаха - динный \"ус\" от Q3. Приблизительно на одном уровне находятся медианы у PS4, Wii, WiiU, XOne. Т.е. в среднем у них продажи в районе 190 тыс. игр. Медианы также выше чем у других платформ, и большая часть значений (продаж) лежит около 0.5 млн. Выбросы - возможно игры продавалась быстрее, например из-за актуальных доработок, обновлений и пр. "
   ]
  },
  {
   "cell_type": "markdown",
   "metadata": {},
   "source": [
    "### Оценка общего распределения игр по жанрам. Что можно сказать о самых прибыльных жанрах? Выделяются ли жанры с высокими и низкими продажами?"
   ]
  },
  {
   "cell_type": "markdown",
   "metadata": {},
   "source": [
    "Построим диаграмму рассеяния игр по жанрам, отобразив общие продажи"
   ]
  },
  {
   "cell_type": "code",
   "execution_count": 50,
   "metadata": {},
   "outputs": [
    {
     "data": {
      "image/png": "[encoded data removed]",
      "text/plain": [
       "<Figure size 1224x504 with 1 Axes>"
      ]
     },
     "metadata": {
      "needs_background": "light"
     },
     "output_type": "display_data"
    }
   ],
   "source": [
    "df.query('year_of_release >= 2014') \\\n",
    ".pivot_table(index='genre', values='total_sales', aggfunc='median')\\\n",
    ".boxplot(column='total_sales', by='genre', figsize=(17,7))\n",
    "plt.suptitle(' ') # удаляем заголовок boxplot по умолчанию\n",
    "plt.ylim(-0.1, 0.6)\n",
    "plt.show()"
   ]
  },
  {
   "cell_type": "code",
   "execution_count": 51,
   "metadata": {},
   "outputs": [
    {
     "data": {
      "image/png": "[encoded data removed]",
      "text/plain": [
       "<Figure size 864x360 with 1 Axes>"
      ]
     },
     "metadata": {
      "needs_background": "light"
     },
     "output_type": "display_data"
    }
   ],
   "source": [
    "df.query('year_of_release >= 2014') \\\n",
    ".pivot_table(index='genre', values='total_sales', aggfunc='median')\\\n",
    ".plot(y='total_sales', kind='bar', grid=True, figsize=(12, 5))\n",
    "plt.show()"
   ]
  },
  {
   "cell_type": "markdown",
   "metadata": {},
   "source": [
    "Судя по диаграмме получаем топ-5 самых популярных жанров:<br>\n",
    "shooter <br>\n",
    "sports <br>\n",
    "platform <br>\n",
    "fighting <br>\n",
    "action"
   ]
  },
  {
   "cell_type": "markdown",
   "metadata": {},
   "source": [
    "И топ-5 самых непопулярных жанров: <br>\n",
    "adventure <br>\n",
    "puzzle <br>\n",
    "strategy <br>\n",
    "simulation <br>\n",
    "misc <br>"
   ]
  },
  {
   "cell_type": "markdown",
   "metadata": {},
   "source": [
    "**Общий вывод:** <br>\n",
    "Начали анализ с определения - сколько игр выпускалось ежегодно. Определили, что период до 1994 года не информативен, было очень мало игр. Начиная с 2006 г. по 2011 был рост, а далее постепенный спад в выпуске игр.<br>\n",
    "Далее провели анализ продаж по платформам, сделали распределение по годам. Для нескольких платформ с максимальными продажами посмотрели динамику продаж. В результате этого определили, что в среднем характерный срок появления новой платформы 1-2 года. Далее продажи идут на спад. Исчезновение старых платформ происходит постепенно, может происходить от 1 года до 4-6 лет. Средний период жизни платформы 6,5 лет. <br>\n",
    "Определили актуальный период для прогноза на 2017 г. как период 2014-2016 гг. За это время можно отследить какие платформы идут на спад, какие появились не так давно. Сюда войдет платформы из топ-8 платформ по продажам. На основании этого можно выявить разные закономерности.<br>\n",
    "Выбрали потенциально прибыльные платформы. Ими оказались PS4, XOne.<br>\n",
    "После построения графиков распределения для лидирующих платформ выявили выбросы. Но их мы оставляем, т.к. они могут потребоваться для дальнейшего анализа.<br>\n",
    "Посмотрели, как влияют на продажи в рамках платформы PS4 отзывы. В основном оценки достаточно высокие. Но зависимость между оценками пользователей и общими продажами не выявлена. Также зависимость между оценками критиков и общими продажами слабо выражена, но положительная.<br>\n",
    "Также исследовали распределение игр по жанрам. Выделили топ-5 популярных жанров и топ-5 жанров с низкими продажами.<br>"
   ]
  },
  {
   "cell_type": "markdown",
   "metadata": {},
   "source": [
    "## Составление портрета пользователя каждого региона."
   ]
  },
  {
   "cell_type": "markdown",
   "metadata": {},
   "source": [
    "### Определение для пользователя каждого региона (NA, EU, JP) самых популярных платформ (топ-5)."
   ]
  },
  {
   "cell_type": "markdown",
   "metadata": {},
   "source": [
    "#### Топ-5 самых популярных платформ в Сев.Америке"
   ]
  },
  {
   "cell_type": "code",
   "execution_count": 52,
   "metadata": {},
   "outputs": [
    {
     "data": {
      "image/png": "[encoded data removed]",
      "text/plain": [
       "<Figure size 1440x576 with 1 Axes>"
      ]
     },
     "metadata": {
      "needs_background": "light"
     },
     "output_type": "display_data"
    }
   ],
   "source": [
    "df_new = df.query('year_of_release >= 2014') # создадим новый датафрейм с данными за актуальный период\n",
    "\n",
    "# группируем продажи в Сев.Америке по платформам\n",
    "platform_na = df_new.groupby('platform')['na_sales'].sum().sort_values(ascending=False).head(5)\n",
    "# построим гистограмму\n",
    "platform_na.plot(x='platform', y='na_sales', kind='bar', \\\n",
    "                 figsize=(20,8), grid=True, title = 'Топ-5 самых популярных платформ в Сев.Америке')\n",
    "# меняем название горизонтальной оси ('X')\n",
    "plt.xlabel('Платформа')\n",
    "# меняем название вертикальной оси ('Y')\n",
    "plt.ylabel('Продажи экземпляров (млн.)')\n",
    "plt.show()"
   ]
  },
  {
   "cell_type": "code",
   "execution_count": 53,
   "metadata": {},
   "outputs": [
    {
     "name": "stdout",
     "output_type": "stream",
     "text": [
      "Доля продаж в Сев.Америке:\n",
      "platform\n",
      "X360    58.689341\n",
      "XOne    57.901111\n",
      "PS4     34.221760\n",
      "PS3     32.340862\n",
      "3DS     26.119059\n",
      "dtype: float64\n"
     ]
    }
   ],
   "source": [
    "# найдем долю продаж в Сев.Америке\n",
    "\n",
    "# переменной platform_total присвоим сумму общих продаж по всем платформам\n",
    "platform_total = df_new.groupby('platform')['total_sales'].sum()\n",
    "\n",
    "# вычисляем долю (процентное соотношение)\n",
    "percent_na = platform_na / platform_total * 100\n",
    "print('Доля продаж в Сев.Америке:')\n",
    "print(percent_na.sort_values(ascending=False).head(5))"
   ]
  },
  {
   "cell_type": "markdown",
   "metadata": {},
   "source": [
    "По гистограмме видно, что платформа PS4 лидер по продажам в Сев.Америке, но при этом доля относительно общих продаж у платформы занимает 3-е место. На это могут влиять предпочтения пользователей в отдельно взятом регионе и в остальных регионах вместе взятых. Может быть в анализируемый период времени в др. регионах проходили различные активности для стимулирования продаж."
   ]
  },
  {
   "cell_type": "markdown",
   "metadata": {},
   "source": [
    "#### Топ-5 самых популярных платформ в Европе"
   ]
  },
  {
   "cell_type": "code",
   "execution_count": 54,
   "metadata": {
    "scrolled": false
   },
   "outputs": [
    {
     "data": {
      "image/png": "[encoded data removed]",
      "text/plain": [
       "<Figure size 1440x576 with 1 Axes>"
      ]
     },
     "metadata": {
      "needs_background": "light"
     },
     "output_type": "display_data"
    }
   ],
   "source": [
    "# группируем продажи в Европе по платформам\n",
    "platform_eu = df_new.groupby('platform')['eu_sales'].sum().sort_values(ascending=False).head(5)\n",
    "# построим гистограмму\n",
    "platform_eu.plot(x='platform', y='eu_sales', kind='bar', \\\n",
    "                 figsize=(20,8), grid=True, title = 'Топ-5 самых популярных платформ в Европе')\n",
    "# меняем название горизонтальной оси ('X')\n",
    "plt.xlabel('Платформа')\n",
    "# меняем название вертикальной оси ('Y')\n",
    "plt.ylabel('Продажи экземпляров (млн.)')\n",
    "plt.show()"
   ]
  },
  {
   "cell_type": "code",
   "execution_count": 55,
   "metadata": {},
   "outputs": [
    {
     "name": "stdout",
     "output_type": "stream",
     "text": [
      "Доля продаж в Европе:\n",
      "platform\n",
      "PC      66.432532\n",
      "PS4     45.129273\n",
      "PS3     37.459666\n",
      "XOne    32.950983\n",
      "3DS     18.597139\n",
      "dtype: float64\n"
     ]
    }
   ],
   "source": [
    "# вычисляем долю (процентное соотношение)\n",
    "percent_eu = platform_eu / platform_total * 100\n",
    "print('Доля продаж в Европе:')\n",
    "print(percent_eu.sort_values(ascending=False).head(5))"
   ]
  },
  {
   "cell_type": "markdown",
   "metadata": {},
   "source": [
    "В Европе также платформа PS4 лидер по продажам, а доля относительно общих продаж у платформы занимает 2-е место. Видимо также на это могут влиять предпочтения пользователей в отдельно взятом регионе и в остальных регионах вместе взятых."
   ]
  },
  {
   "cell_type": "markdown",
   "metadata": {},
   "source": [
    "#### Топ-5 самых популярных платформ в Японии"
   ]
  },
  {
   "cell_type": "code",
   "execution_count": 56,
   "metadata": {},
   "outputs": [
    {
     "data": {
      "image/png": "[encoded data removed]",
      "text/plain": [
       "<Figure size 1440x576 with 1 Axes>"
      ]
     },
     "metadata": {
      "needs_background": "light"
     },
     "output_type": "display_data"
    }
   ],
   "source": [
    "# группируем продажи в Японии по платформам\n",
    "platform_jp = df_new.groupby('platform')['jp_sales'].sum().sort_values(ascending=False).head(5)\n",
    "# построим гистограмму\n",
    "platform_jp.plot(x='platform', y='jp_sales', kind='bar', \\\n",
    "                 figsize=(20,8), grid=True, title = 'Топ-5 самых популярных платформ в Японии')\n",
    "# меняем название горизонтальной оси ('X')\n",
    "plt.xlabel('Платформа')\n",
    "# меняем название вертикальной оси ('Y')\n",
    "plt.ylabel('Продажи экземпляров (млн.)')\n",
    "plt.show()"
   ]
  },
  {
   "cell_type": "code",
   "execution_count": 57,
   "metadata": {},
   "outputs": [
    {
     "name": "stdout",
     "output_type": "stream",
     "text": [
      "Доля продаж в Японии:\n",
      "platform\n",
      "PSV     64.910714\n",
      "3DS     51.038302\n",
      "WiiU    17.007911\n",
      "PS3     16.456439\n",
      "PS4      5.212563\n",
      "dtype: float64\n"
     ]
    }
   ],
   "source": [
    "# вычисляем долю (процентное соотношение)\n",
    "percent_jp = platform_jp / platform_total * 100\n",
    "print('Доля продаж в Японии:')\n",
    "print(percent_jp.sort_values(ascending=False).head(5))"
   ]
  },
  {
   "cell_type": "markdown",
   "metadata": {},
   "source": [
    "#### Топ-5 самых популярных платформ в других регионах"
   ]
  },
  {
   "cell_type": "code",
   "execution_count": 58,
   "metadata": {},
   "outputs": [
    {
     "data": {
      "image/png": "[encoded data removed]",
      "text/plain": [
       "<Figure size 1440x576 with 1 Axes>"
      ]
     },
     "metadata": {
      "needs_background": "light"
     },
     "output_type": "display_data"
    }
   ],
   "source": [
    "# группируем продажи по платформам\n",
    "platform_other = df_new.groupby('platform')['other_sales'].sum().sort_values(ascending=False).head(5)\n",
    "# построим гистограмму\n",
    "platform_other.plot(x='platform', y='other_sales', kind='bar', \\\n",
    "                 figsize=(20,8), grid=True, title = 'Топ-5 самых популярных платформ в других регионах')\n",
    "# меняем название горизонтальной оси ('X')\n",
    "plt.xlabel('Платформа')\n",
    "# меняем название вертикальной оси ('Y')\n",
    "plt.ylabel('Продажи экземпляров (млн.)')\n",
    "plt.show()"
   ]
  },
  {
   "cell_type": "code",
   "execution_count": 59,
   "metadata": {},
   "outputs": [
    {
     "name": "stdout",
     "output_type": "stream",
     "text": [
      "Доля продаж в др.регионах:\n",
      "platform\n",
      "PS4     15.436405\n",
      "PS3     13.743033\n",
      "X360     9.021153\n",
      "XOne     8.919920\n",
      "3DS      4.245501\n",
      "dtype: float64\n"
     ]
    }
   ],
   "source": [
    "# вычисляем долю (процентное соотношение)\n",
    "percent_other = platform_other / platform_total * 100\n",
    "print('Доля продаж в др.регионах:')\n",
    "print(percent_other.sort_values(ascending=False).head(5))"
   ]
  },
  {
   "cell_type": "markdown",
   "metadata": {},
   "source": [
    "**Вывод:** Выявили топ-5 платформ для 4 регионов. Две платформы есть в топ-5 у всех регионов - это PS3, PS4. Но платформа может быть не на первом месте в одном регионе, и при этом ее доля в регионе относительно всех продаж может быть максимальной. Например, платформа PC в Европе. <br>\n",
    "Или платформа PS4 лидер по продажам в Сев.Америке и Европе, но при этом доля относительно общих продаж у платформы занимает 3-е  и 2-е место соответственно. На это могут влиять предпочтения пользователей в отдельно взятом регионе и в остальных регионах вместе взятых. Может быть в анализируемый период времени в др. регионах проходили различные активности для стимулирования продаж."
   ]
  },
  {
   "cell_type": "markdown",
   "metadata": {},
   "source": [
    "### Определение для пользователя каждого региона (NA, EU, JP) самых популярных жанров (топ-5)."
   ]
  },
  {
   "cell_type": "markdown",
   "metadata": {},
   "source": [
    "#### Топ-5 самых популярных жанров в Сев.Америке"
   ]
  },
  {
   "cell_type": "code",
   "execution_count": 60,
   "metadata": {},
   "outputs": [
    {
     "data": {
      "image/png": "[encoded data removed]",
      "text/plain": [
       "<Figure size 1440x576 with 1 Axes>"
      ]
     },
     "metadata": {
      "needs_background": "light"
     },
     "output_type": "display_data"
    }
   ],
   "source": [
    "# группируем продажи в Сев.Америке по жанрам\n",
    "genre_na = df_new.groupby('genre')['na_sales'].sum().sort_values(ascending=False).head(5)\n",
    "# построим гистограмму\n",
    "genre_na.plot(x='genre', y='na_sales', kind='bar', \\\n",
    "                 figsize=(20,8), grid=True, title = 'Топ-5 самых популярных жанров в Сев.Америке')\n",
    "# меняем название горизонтальной оси ('X')\n",
    "plt.xlabel('Жанр')\n",
    "# меняем название вертикальной оси ('Y')\n",
    "plt.ylabel('Продажи экземпляров (млн.)')\n",
    "plt.show()"
   ]
  },
  {
   "cell_type": "code",
   "execution_count": 61,
   "metadata": {},
   "outputs": [
    {
     "name": "stdout",
     "output_type": "stream",
     "text": [
      "Доля продаж в Сев.Америке:\n",
      "genre\n",
      "shooter         46.226746\n",
      "sports          42.135550\n",
      "misc            40.079893\n",
      "action          36.381421\n",
      "role-playing    32.994874\n",
      "dtype: float64\n"
     ]
    }
   ],
   "source": [
    "# найдем долю продаж в Сев.Америке\n",
    "\n",
    "# переменной genre_total присвоим сумму общих продаж по всем платформам\n",
    "genre_total = df_new.groupby('genre')['total_sales'].sum()\n",
    "\n",
    "# вычисляем долю (процентное соотношение)\n",
    "percent_genre_na = genre_na / genre_total * 100\n",
    "print('Доля продаж в Сев.Америке:')\n",
    "print(percent_genre_na.sort_values(ascending=False).head(5))"
   ]
  },
  {
   "cell_type": "markdown",
   "metadata": {},
   "source": [
    "#### Топ-5 самых популярных жанров в Европе"
   ]
  },
  {
   "cell_type": "code",
   "execution_count": 62,
   "metadata": {},
   "outputs": [
    {
     "data": {
      "image/png": "[encoded data removed]",
      "text/plain": [
       "<Figure size 1440x576 with 1 Axes>"
      ]
     },
     "metadata": {
      "needs_background": "light"
     },
     "output_type": "display_data"
    }
   ],
   "source": [
    "# группируем продажи в Европе по жанрам\n",
    "genre_eu = df_new.groupby('genre')['eu_sales'].sum().sort_values(ascending=False).head(5)\n",
    "# построим гистограмму\n",
    "genre_eu.plot(x='genre', y='eu_sales', kind='bar', \\\n",
    "                 figsize=(20,8), grid=True, title = 'Топ-5 самых популярных жанров в Европе')\n",
    "# меняем название горизонтальной оси ('X')\n",
    "plt.xlabel('Жанр')\n",
    "# меняем название вертикальной оси ('Y')\n",
    "plt.ylabel('Продажи экземпляров (млн.)')\n",
    "plt.show()"
   ]
  },
  {
   "cell_type": "code",
   "execution_count": 63,
   "metadata": {},
   "outputs": [
    {
     "name": "stdout",
     "output_type": "stream",
     "text": [
      "Доля продаж в Европе:\n",
      "genre\n",
      "racing          51.344477\n",
      "sports          41.770186\n",
      "shooter         38.329238\n",
      "action          37.459872\n",
      "role-playing    27.770110\n",
      "dtype: float64\n"
     ]
    }
   ],
   "source": [
    "# вычисляем долю (процентное соотношение)\n",
    "percent_genre_eu = genre_eu / genre_total * 100\n",
    "print('Доля продаж в Европе:')\n",
    "print(percent_genre_eu.sort_values(ascending=False).head(5))"
   ]
  },
  {
   "cell_type": "markdown",
   "metadata": {},
   "source": [
    "#### Топ-5 самых популярных жанров в Японии"
   ]
  },
  {
   "cell_type": "code",
   "execution_count": 64,
   "metadata": {},
   "outputs": [
    {
     "data": {
      "image/png": "[encoded data removed]",
      "text/plain": [
       "<Figure size 1440x576 with 1 Axes>"
      ]
     },
     "metadata": {
      "needs_background": "light"
     },
     "output_type": "display_data"
    }
   ],
   "source": [
    "# группируем продажи в Японии по жанрам\n",
    "genre_jp = df_new.groupby('genre')['jp_sales'].sum().sort_values(ascending=False).head(5)\n",
    "# построим гистограмму\n",
    "genre_jp.plot(x='genre', y='jp_sales', kind='bar', \\\n",
    "                 figsize=(20,8), grid=True, title = 'Топ-5 самых популярных жанров в Японии')\n",
    "# меняем название горизонтальной оси ('X')\n",
    "plt.xlabel('Жанр')\n",
    "# меняем название вертикальной оси ('Y')\n",
    "plt.ylabel('Продажи экземпляров (млн.)')\n",
    "plt.show()"
   ]
  },
  {
   "cell_type": "code",
   "execution_count": 65,
   "metadata": {},
   "outputs": [
    {
     "name": "stdout",
     "output_type": "stream",
     "text": [
      "Доля продаж в Японии:\n",
      "genre\n",
      "role-playing    30.717666\n",
      "fighting        22.572644\n",
      "misc            14.940080\n",
      "action          14.837480\n",
      "shooter          2.848953\n",
      "dtype: float64\n"
     ]
    }
   ],
   "source": [
    "# вычисляем долю (процентное соотношение)\n",
    "percent_genre_jp = genre_jp / genre_total * 100\n",
    "print('Доля продаж в Японии:')\n",
    "print(percent_genre_jp.sort_values(ascending=False).head(5))"
   ]
  },
  {
   "cell_type": "markdown",
   "metadata": {},
   "source": [
    "#### Топ-5 самых популярных жанров в других регионах"
   ]
  },
  {
   "cell_type": "code",
   "execution_count": 66,
   "metadata": {},
   "outputs": [
    {
     "data": {
      "image/png": "[encoded data removed]",
      "text/plain": [
       "<Figure size 1440x576 with 1 Axes>"
      ]
     },
     "metadata": {
      "needs_background": "light"
     },
     "output_type": "display_data"
    }
   ],
   "source": [
    "# группируем продажи в других регионах по жанрам\n",
    "genre_other = df_new.groupby('genre')['other_sales'].sum().sort_values(ascending=False).head(5)\n",
    "# построим гистограмму\n",
    "genre_other.plot(x='genre', y='other_sales', kind='bar', \\\n",
    "                 figsize=(20,8), grid=True, title = 'Топ-5 самых популярных жанров в других регионах')\n",
    "# меняем название горизонтальной оси ('X')\n",
    "plt.xlabel('Жанр')\n",
    "# меняем название вертикальной оси ('Y')\n",
    "plt.ylabel('Продажи экземпляров (млн.)')\n",
    "plt.show()"
   ]
  },
  {
   "cell_type": "code",
   "execution_count": 67,
   "metadata": {},
   "outputs": [
    {
     "name": "stdout",
     "output_type": "stream",
     "text": [
      "Доля продаж в других регионах:\n",
      "genre\n",
      "sports          13.116551\n",
      "shooter         12.595063\n",
      "action          11.321228\n",
      "misc            10.732357\n",
      "role-playing     8.517350\n",
      "dtype: float64\n"
     ]
    }
   ],
   "source": [
    "# вычисляем долю (процентное соотношение)\n",
    "percent_genre_other = genre_other / genre_total * 100\n",
    "print('Доля продаж в других регионах:')\n",
    "print(percent_genre_other.sort_values(ascending=False).head(5))"
   ]
  },
  {
   "cell_type": "markdown",
   "metadata": {},
   "source": [
    "**Вывод:** Выявили топ-5 жанров для 4 регионов. Практически все полученные жанры входят в топ-5 всех регионов, но отличаются объемами продаж. В одном регионе жанр может быть самым продаваемым, а в другом - на третьем месте. И также как с платформой, жанр может быть лидером продаж в одном регионе, и при этом его доля в регионе относительно всех продаж может быть минимальной."
   ]
  },
  {
   "cell_type": "markdown",
   "metadata": {},
   "source": [
    "###  Влияет ли рейтинг ESRB на продажи в отдельном регионе?"
   ]
  },
  {
   "cell_type": "markdown",
   "metadata": {},
   "source": [
    "#### Рейтинг от ESRB в Сев.Америке"
   ]
  },
  {
   "cell_type": "code",
   "execution_count": 68,
   "metadata": {},
   "outputs": [
    {
     "data": {
      "image/png": "[encoded data removed]",
      "text/plain": [
       "<Figure size 1440x576 with 1 Axes>"
      ]
     },
     "metadata": {
      "needs_background": "light"
     },
     "output_type": "display_data"
    }
   ],
   "source": [
    "# группируем данные по рейтингу\n",
    "rating_na = df_new.groupby('rating')['na_sales'].sum().sort_values(ascending=False)\n",
    "# построим гистограмму\n",
    "rating_na.plot(x='rating', y='na_sales', kind ='bar', \\\n",
    "               figsize=(20,8), grid=True, title = 'Рейтинг от организации ESRB в Сев.Америке')\n",
    "# меняем название горизонтальной оси ('X')\n",
    "plt.xlabel('Жанр')\n",
    "# меняем название вертикальной оси ('Y')\n",
    "plt.ylabel('Продажи экземпляров (млн.)')\n",
    "plt.show()"
   ]
  },
  {
   "cell_type": "markdown",
   "metadata": {},
   "source": [
    "В Сев.Америке больше всего продаж у игр с рейтингом M («Mature») — «От 17 лет»."
   ]
  },
  {
   "cell_type": "markdown",
   "metadata": {},
   "source": [
    "#### Рейтинг от ESRB в Европе"
   ]
  },
  {
   "cell_type": "code",
   "execution_count": 69,
   "metadata": {},
   "outputs": [
    {
     "data": {
      "image/png": "[encoded data removed]",
      "text/plain": [
       "<Figure size 1440x576 with 1 Axes>"
      ]
     },
     "metadata": {
      "needs_background": "light"
     },
     "output_type": "display_data"
    }
   ],
   "source": [
    "# группируем данные по рейтингу\n",
    "rating_eu = df_new.groupby('rating')['eu_sales'].sum().sort_values(ascending=False)\n",
    "# построим гистограмму\n",
    "rating_eu.plot(x='rating', y='eu_sales', kind ='bar', \\\n",
    "               figsize=(20,8), grid=True, title = 'Рейтинг от организации ESRB в Европе')\n",
    "# меняем название горизонтальной оси ('X')\n",
    "plt.xlabel('Жанр')\n",
    "# меняем название вертикальной оси ('Y')\n",
    "plt.ylabel('Продажи экземпляров (млн.)')\n",
    "plt.show()"
   ]
  },
  {
   "cell_type": "markdown",
   "metadata": {},
   "source": [
    "В Европе тоже самые большие продажи у игр с рейтингом M, а потом игры с неопределенным рейтингом."
   ]
  },
  {
   "cell_type": "markdown",
   "metadata": {},
   "source": [
    "#### Рейтинг от ESRB в Японии"
   ]
  },
  {
   "cell_type": "code",
   "execution_count": 70,
   "metadata": {},
   "outputs": [
    {
     "data": {
      "image/png": "[encoded data removed]",
      "text/plain": [
       "<Figure size 1440x576 with 1 Axes>"
      ]
     },
     "metadata": {
      "needs_background": "light"
     },
     "output_type": "display_data"
    }
   ],
   "source": [
    "# группируем данные по рейтингу\n",
    "rating_jp = df_new.groupby('rating')['jp_sales'].sum().sort_values(ascending=False)\n",
    "# построим гистограмму\n",
    "rating_jp.plot(x='rating', y='jp_sales', kind ='bar', \\\n",
    "               figsize=(20,8), grid=True, title = 'Рейтинг от организации ESRB в Японии')\n",
    "# меняем название горизонтальной оси ('X')\n",
    "plt.xlabel('Жанр')\n",
    "# меняем название вертикальной оси ('Y')\n",
    "plt.ylabel('Продажи экземпляров (млн.)')\n",
    "plt.show()"
   ]
  },
  {
   "cell_type": "markdown",
   "metadata": {},
   "source": [
    "В Японии на первом месте игры с неопределенным рейтингом, далее с рейтингом T (13+)."
   ]
  },
  {
   "cell_type": "markdown",
   "metadata": {},
   "source": [
    "#### Рейтинг от ESRB в других регионах"
   ]
  },
  {
   "cell_type": "code",
   "execution_count": 71,
   "metadata": {},
   "outputs": [
    {
     "data": {
      "image/png": "[encoded data removed]",
      "text/plain": [
       "<Figure size 1440x576 with 1 Axes>"
      ]
     },
     "metadata": {
      "needs_background": "light"
     },
     "output_type": "display_data"
    }
   ],
   "source": [
    "# группируем данные по рейтингу\n",
    "rating_other = df_new.groupby('rating')['other_sales'].sum().sort_values(ascending=False)\n",
    "# построим гистограмму\n",
    "rating_other.plot(x='rating', y='other_sales', kind ='bar', \\\n",
    "               figsize=(20,8), grid=True, title = 'Рейтинг от организации ESRB в других регионах')\n",
    "# меняем название горизонтальной оси ('X')\n",
    "plt.xlabel('Жанр')\n",
    "# меняем название вертикальной оси ('Y')\n",
    "plt.ylabel('Продажи экземпляров (млн.)')\n",
    "plt.show()"
   ]
  },
  {
   "cell_type": "markdown",
   "metadata": {},
   "source": [
    "В других регионах - больше продаж игр с ретингм M."
   ]
  },
  {
   "cell_type": "markdown",
   "metadata": {},
   "source": [
    "**Вывод:** Для всех регионов две платформы вошли в топ-5: PS3, PS4. PS4 самая продаваемая. По жанрам предпочтения пользователей у всех регионов практически совпали, позиции в топ-5 жанров одни и теже (кроме Японии: там есть жанр fighting, нет sports). Относительно рейтинга от ESRB - везде в лидерах игры для пользователей категории M."
   ]
  },
  {
   "cell_type": "markdown",
   "metadata": {},
   "source": [
    "## Проверка гипотез."
   ]
  },
  {
   "cell_type": "markdown",
   "metadata": {},
   "source": [
    "### Проверка гипотезы: средние пользовательские рейтинги платформ Xbox One и PC одинаковые"
   ]
  },
  {
   "cell_type": "markdown",
   "metadata": {},
   "source": [
    "Сформулируем нулевую и альтернативную гипотезы: <br>\n",
    "H0 - \"средние польз-кие рейтинги платформы Xbox One равны средним польз-ким рейтингам платформы PC\" <br>\n",
    "H1 - \"средние польз-кие рейтинги платформы Xbox One не равны средним польз-ким рейтингам платформы PC\""
   ]
  },
  {
   "cell_type": "code",
   "execution_count": 75,
   "metadata": {},
   "outputs": [
    {
     "data": {
      "text/plain": [
       "99       NaN\n",
       "165      7.9\n",
       "179      5.4\n",
       "242      6.4\n",
       "270      6.2\n",
       "        ... \n",
       "16630    8.2\n",
       "16643    6.6\n",
       "16645    NaN\n",
       "16660    6.7\n",
       "16672    NaN\n",
       "Name: user_score, Length: 228, dtype: float64"
      ]
     },
     "execution_count": 75,
     "metadata": {},
     "output_type": "execute_result"
    }
   ],
   "source": [
    "df_xbox['user_score']"
   ]
  },
  {
   "cell_type": "code",
   "execution_count": 72,
   "metadata": {},
   "outputs": [
    {
     "name": "stdout",
     "output_type": "stream",
     "text": [
      "p-значение: 0.11601398086668943\n",
      "Не получилось отвергнуть нулевую гипотезу\n"
     ]
    }
   ],
   "source": [
    "# используем датасет с актуальным периодом df_new\n",
    "# создадим две выборки по платформам XOne и PC\n",
    "\n",
    "df_xbox = df_new[df_new['platform'] == 'XOne']\n",
    "df_pc = df_new[df_new['platform'] == 'PC']\n",
    "\n",
    "# обозначим две выборки конкретных столбцов с пользовательскими рейтингами\n",
    "xbox_1 = df_xbox['user_score']\n",
    "pc_1 = df_pc['user_score']\n",
    "\n",
    "alpha = 0.05 # обозначим критический уровень статистической значимости\n",
    "# если p-value окажется меньше alpha - отвергнем гипотезу H0\n",
    "\n",
    "results = st.ttest_ind(xbox_1, pc_1, equal_var=False, nan_policy='omit')\n",
    "# задали доп.парамерт nan_policy='omit' - игнорировать в выборках пропуски NaN\n",
    "print('p-значение:', results.pvalue)\n",
    "if results.pvalue < alpha:\n",
    "    print(\"Отвергаем нулевую гипотезу\")\n",
    "else:\n",
    "    print(\"Не получилось отвергнуть нулевую гипотезу\")"
   ]
  },
  {
   "cell_type": "markdown",
   "metadata": {},
   "source": [
    "Значение p-value показывает: с вероятностью 11% средние пользовательские рейтинги для этих платформ совпадут. Это достаточно большая вероятность для нулевой гипотезы, чтобы ее оставить."
   ]
  },
  {
   "cell_type": "markdown",
   "metadata": {},
   "source": [
    "### Проверка гипотезы: Средние пользовательские рейтинги жанров Action (англ. «действие», экшен-игры) и Sports (англ. «спортивные соревнования») разные"
   ]
  },
  {
   "cell_type": "markdown",
   "metadata": {},
   "source": [
    "Сформулируем нулевую и альтернативную гипотезы: <br>\n",
    "H0 - \"средние польз-кие рейтинги жанра Action равны средним польз-ким рейтингам жанра Sports\" <br>\n",
    "H1 - \"средние польз-кие рейтинги жанра Action не равны средним польз-ким рейтингам жанра Sports\""
   ]
  },
  {
   "cell_type": "code",
   "execution_count": 73,
   "metadata": {},
   "outputs": [
    {
     "name": "stdout",
     "output_type": "stream",
     "text": [
      "p-значение: 1.182555038264477e-14\n",
      "Отвергаем нулевую гипотезу\n"
     ]
    }
   ],
   "source": [
    "# используем датасет с актуальным периодом df_new\n",
    "# создадим две выборки по жанрам action и sports\n",
    "\n",
    "df_action = df_new[df_new['genre'] == 'action']\n",
    "df_sports = df_new[df_new['genre'] == 'sports']\n",
    "\n",
    "# обозначим две выборки конкретных столбцов с пользовательскими рейтингами\n",
    "action_1 = df_action['user_score']\n",
    "sports_1 = df_sports['user_score']\n",
    "\n",
    "alpha = 0.05 # обозначим критический уровень статистической значимости\n",
    "# если p-value окажется меньше alpha - отвергнем гипотезу H0\n",
    "\n",
    "results = st.ttest_ind(action_1, sports_1, equal_var=False, nan_policy='omit')\n",
    "# задали доп.парамерт nan_policy='omit' - игнорировать в выборках пропуски NaN\n",
    "print('p-значение:', results.pvalue)\n",
    "if results.pvalue < alpha:\n",
    "    print(\"Отвергаем нулевую гипотезу\")\n",
    "else:\n",
    "    print(\"Не получилось отвергнуть нулевую гипотезу\")"
   ]
  },
  {
   "cell_type": "markdown",
   "metadata": {},
   "source": [
    "Значение p-value очень маленькое, меньше alpha = 0.05. Нельзя утверждать, что пользователям в среднем одинаково нравятся оба жанра."
   ]
  },
  {
   "cell_type": "markdown",
   "metadata": {},
   "source": [
    "Для проверки гипотез сначала сформулировали нулевую гипотезу H0. H0 всегда формулируется так, чтобы использовать знак равенства. Поэтому предположили, что рейтинги платформ/жанров равны. Соответственно альтернативная гипотеза H1 - что рейтинги платформ/жанров не равны. <br>\n",
    "Далее для проверки гипотез использовали метод для проверки гипотезы о равенстве среднего двух генеральных совокупностей по взятым из них выборкам: scipy.stats.ttest_ind (array1, array2, equal_var)."
   ]
  },
  {
   "cell_type": "markdown",
   "metadata": {},
   "source": [
    "## Общий вывод."
   ]
  },
  {
   "cell_type": "markdown",
   "metadata": {},
   "source": [
    "Была определена задача: выявить определяющие успешность игры закономерности, чтобы сделать ставку на потенциально популярный продукт и спланировать рекламные кампании. <br>\n",
    "<br>\n",
    "Такими закономерностями/факторами могут быть зарекомендовавшие себя популярные платформы, жанры игр, рейтинг от ESRB. Также могут стимулировать продажи, например, новинки игр от топовых платформ, какие-то обновления и пр.<br>\n",
    "<br>\n",
    "В результате исслед. анализа определили, что характерный срок появления платформы 1 год, а спад происходит гораздо медленее и может занять от 1 года до 4-6 лет. Средний период жизни платформы - 6,5 лет. <br>\n",
    "<br>\n",
    "Был анализирован период 2014-2016 гг. В этот период определили потенциально прибыльные платформы: PS4 и XOne (на этот момент обладали самыми большими продажами и были в тренде).<br>\n",
    "На следующий год ставку можно делать на платформу PS4, т.к. она популярна в большинстве регионов.<br>\n",
    "<br>\n",
    "Также интересны платформы X360, 3DS, PS3 - продажи в итоге пошли на спад, который занял продолжительное время, но были достаточно длительные периоды роста.<br>\n",
    "<br>\n",
    "Для пользователей всех регионов интересны платформы PS3 и PS4. <br>\n",
    "В разных странах пользователи предпочитают разные жанры игр, но большинство склоняются к жанру shooter. Также в ТОП жанров попали: action, role-playing (в Японии).<br>\n",
    "<br>\n",
    "Топ-рейтинг от организации ESRB: категория M («Для взрослых»: 17+). В Японии второе место у категории T (13+).<br>\n",
    "<br>\n",
    "В результате анализа гипотез определили:<br>\n",
    "- нельзя исключать вероятность, что средние пользовательские рейтинги для платформ Xbox One и PC совпадут.<br>\n",
    "- нельзя утверждать, что пользователям в среднем одинаково нравятся оба жанра Action и Sports. "
   ]
  }
 ],
 "metadata": {
  "ExecuteTimeLog": [
   {
    "duration": 49,
    "start_time": "2023-01-30T09:40:51.351Z"
   },
   {
    "duration": 626,
    "start_time": "2023-01-30T10:32:38.717Z"
   },
   {
    "duration": 69,
    "start_time": "2023-01-30T10:32:51.755Z"
   },
   {
    "duration": 48,
    "start_time": "2023-01-30T11:49:44.712Z"
   },
   {
    "duration": 12,
    "start_time": "2023-01-30T12:03:49.406Z"
   },
   {
    "duration": 19,
    "start_time": "2023-01-30T12:04:39.267Z"
   },
   {
    "duration": 54,
    "start_time": "2023-01-30T18:35:47.978Z"
   },
   {
    "duration": 513,
    "start_time": "2023-01-30T18:35:59.981Z"
   },
   {
    "duration": 15,
    "start_time": "2023-01-30T18:36:00.496Z"
   },
   {
    "duration": 57,
    "start_time": "2023-01-30T18:36:00.512Z"
   },
   {
    "duration": 9,
    "start_time": "2023-01-30T18:36:03.967Z"
   },
   {
    "duration": 37,
    "start_time": "2023-01-30T18:36:10.186Z"
   },
   {
    "duration": 3,
    "start_time": "2023-01-30T18:43:27.257Z"
   },
   {
    "duration": 514,
    "start_time": "2023-01-30T18:43:45.657Z"
   },
   {
    "duration": 23,
    "start_time": "2023-01-30T18:43:46.174Z"
   },
   {
    "duration": 3,
    "start_time": "2023-01-30T18:43:46.200Z"
   },
   {
    "duration": 57,
    "start_time": "2023-01-30T18:43:46.205Z"
   },
   {
    "duration": 115,
    "start_time": "2023-01-30T19:05:43.972Z"
   },
   {
    "duration": 548,
    "start_time": "2023-01-30T19:06:16.609Z"
   },
   {
    "duration": 24,
    "start_time": "2023-01-30T19:06:17.159Z"
   },
   {
    "duration": 37,
    "start_time": "2023-01-30T19:06:17.186Z"
   },
   {
    "duration": 129,
    "start_time": "2023-01-30T19:06:17.225Z"
   },
   {
    "duration": 434,
    "start_time": "2023-01-30T19:11:19.077Z"
   },
   {
    "duration": 540,
    "start_time": "2023-01-30T19:11:47.761Z"
   },
   {
    "duration": 15,
    "start_time": "2023-01-30T19:11:48.304Z"
   },
   {
    "duration": 20,
    "start_time": "2023-01-30T19:11:48.321Z"
   },
   {
    "duration": 466,
    "start_time": "2023-01-30T19:11:48.344Z"
   },
   {
    "duration": 0,
    "start_time": "2023-01-30T19:11:48.813Z"
   },
   {
    "duration": 16,
    "start_time": "2023-01-30T19:19:54.437Z"
   },
   {
    "duration": 31,
    "start_time": "2023-01-30T19:20:36.725Z"
   },
   {
    "duration": 453,
    "start_time": "2023-01-30T19:20:50.307Z"
   },
   {
    "duration": 18,
    "start_time": "2023-01-30T19:20:50.762Z"
   },
   {
    "duration": 16,
    "start_time": "2023-01-30T19:20:50.782Z"
   },
   {
    "duration": 36,
    "start_time": "2023-01-30T19:20:50.801Z"
   },
   {
    "duration": 2,
    "start_time": "2023-01-30T19:20:50.839Z"
   },
   {
    "duration": 18,
    "start_time": "2023-01-30T19:20:50.843Z"
   },
   {
    "duration": 78,
    "start_time": "2023-01-30T19:23:35.106Z"
   },
   {
    "duration": 17,
    "start_time": "2023-01-30T19:24:33.514Z"
   },
   {
    "duration": 11,
    "start_time": "2023-01-30T19:25:21.485Z"
   },
   {
    "duration": 11,
    "start_time": "2023-01-30T19:26:01.445Z"
   },
   {
    "duration": 14,
    "start_time": "2023-01-30T19:30:24.624Z"
   },
   {
    "duration": 12,
    "start_time": "2023-01-30T19:31:22.435Z"
   },
   {
    "duration": 33,
    "start_time": "2023-01-30T19:44:29.052Z"
   },
   {
    "duration": 25,
    "start_time": "2023-01-30T19:53:31.779Z"
   },
   {
    "duration": 8,
    "start_time": "2023-01-30T20:12:08.780Z"
   },
   {
    "duration": 498,
    "start_time": "2023-01-30T20:21:37.168Z"
   },
   {
    "duration": 14,
    "start_time": "2023-01-30T20:21:37.668Z"
   },
   {
    "duration": 2,
    "start_time": "2023-01-30T20:21:37.684Z"
   },
   {
    "duration": 14,
    "start_time": "2023-01-30T20:21:37.688Z"
   },
   {
    "duration": 7,
    "start_time": "2023-01-30T20:21:37.704Z"
   },
   {
    "duration": 32,
    "start_time": "2023-01-30T20:21:37.712Z"
   },
   {
    "duration": 6,
    "start_time": "2023-01-30T20:21:37.746Z"
   },
   {
    "duration": 10,
    "start_time": "2023-01-30T20:39:13.972Z"
   },
   {
    "duration": 33,
    "start_time": "2023-01-30T20:43:06.682Z"
   },
   {
    "duration": 15,
    "start_time": "2023-01-30T20:45:55.919Z"
   },
   {
    "duration": 18,
    "start_time": "2023-01-30T20:47:12.888Z"
   },
   {
    "duration": 14,
    "start_time": "2023-01-30T20:57:06.622Z"
   },
   {
    "duration": 647,
    "start_time": "2023-01-31T09:03:11.620Z"
   },
   {
    "duration": 14,
    "start_time": "2023-01-31T09:03:12.269Z"
   },
   {
    "duration": 10,
    "start_time": "2023-01-31T09:03:12.285Z"
   },
   {
    "duration": 36,
    "start_time": "2023-01-31T09:03:12.296Z"
   },
   {
    "duration": 18,
    "start_time": "2023-01-31T09:03:12.333Z"
   },
   {
    "duration": 35,
    "start_time": "2023-01-31T09:03:12.352Z"
   },
   {
    "duration": 35,
    "start_time": "2023-01-31T09:03:12.389Z"
   },
   {
    "duration": 30,
    "start_time": "2023-01-31T09:03:12.425Z"
   },
   {
    "duration": 33,
    "start_time": "2023-01-31T09:03:12.457Z"
   },
   {
    "duration": 18,
    "start_time": "2023-01-31T09:03:12.492Z"
   },
   {
    "duration": 28,
    "start_time": "2023-01-31T09:03:12.511Z"
   },
   {
    "duration": 10,
    "start_time": "2023-01-31T09:03:34.623Z"
   },
   {
    "duration": 13,
    "start_time": "2023-01-31T09:06:40.991Z"
   },
   {
    "duration": 9,
    "start_time": "2023-01-31T09:07:22.763Z"
   },
   {
    "duration": 521,
    "start_time": "2023-01-31T09:07:36.524Z"
   },
   {
    "duration": 15,
    "start_time": "2023-01-31T09:07:37.047Z"
   },
   {
    "duration": 9,
    "start_time": "2023-01-31T09:07:37.064Z"
   },
   {
    "duration": 34,
    "start_time": "2023-01-31T09:07:37.075Z"
   },
   {
    "duration": 33,
    "start_time": "2023-01-31T09:07:37.111Z"
   },
   {
    "duration": 33,
    "start_time": "2023-01-31T09:07:37.146Z"
   },
   {
    "duration": 35,
    "start_time": "2023-01-31T09:07:37.181Z"
   },
   {
    "duration": 30,
    "start_time": "2023-01-31T09:07:37.218Z"
   },
   {
    "duration": 21,
    "start_time": "2023-01-31T09:07:37.249Z"
   },
   {
    "duration": 28,
    "start_time": "2023-01-31T09:07:37.272Z"
   },
   {
    "duration": 25,
    "start_time": "2023-01-31T09:07:37.302Z"
   },
   {
    "duration": 31,
    "start_time": "2023-01-31T09:07:37.329Z"
   },
   {
    "duration": 12,
    "start_time": "2023-01-31T09:07:37.362Z"
   },
   {
    "duration": 20,
    "start_time": "2023-01-31T09:08:11.144Z"
   },
   {
    "duration": 14,
    "start_time": "2023-01-31T09:08:37.393Z"
   },
   {
    "duration": 8,
    "start_time": "2023-01-31T09:35:30.120Z"
   },
   {
    "duration": 81,
    "start_time": "2023-01-31T09:36:45.960Z"
   },
   {
    "duration": 9,
    "start_time": "2023-01-31T09:37:24.481Z"
   },
   {
    "duration": 17,
    "start_time": "2023-01-31T09:45:58.827Z"
   },
   {
    "duration": 32,
    "start_time": "2023-01-31T09:46:48.284Z"
   },
   {
    "duration": 500,
    "start_time": "2023-01-31T09:47:15.978Z"
   },
   {
    "duration": 16,
    "start_time": "2023-01-31T09:47:16.480Z"
   },
   {
    "duration": 4,
    "start_time": "2023-01-31T09:47:16.497Z"
   },
   {
    "duration": 26,
    "start_time": "2023-01-31T09:47:16.502Z"
   },
   {
    "duration": 8,
    "start_time": "2023-01-31T09:47:16.538Z"
   },
   {
    "duration": 10,
    "start_time": "2023-01-31T09:47:16.548Z"
   },
   {
    "duration": 21,
    "start_time": "2023-01-31T09:47:16.560Z"
   },
   {
    "duration": 20,
    "start_time": "2023-01-31T09:47:16.583Z"
   },
   {
    "duration": 44,
    "start_time": "2023-01-31T09:47:16.605Z"
   },
   {
    "duration": 13,
    "start_time": "2023-01-31T09:47:16.651Z"
   },
   {
    "duration": 21,
    "start_time": "2023-01-31T09:47:16.666Z"
   },
   {
    "duration": 24,
    "start_time": "2023-01-31T09:47:16.689Z"
   },
   {
    "duration": 27,
    "start_time": "2023-01-31T09:47:16.715Z"
   },
   {
    "duration": 3,
    "start_time": "2023-01-31T09:47:16.745Z"
   },
   {
    "duration": 6,
    "start_time": "2023-01-31T09:47:16.750Z"
   },
   {
    "duration": 8,
    "start_time": "2023-01-31T09:49:48.879Z"
   },
   {
    "duration": 21,
    "start_time": "2023-01-31T09:49:51.414Z"
   },
   {
    "duration": 8,
    "start_time": "2023-01-31T09:53:22.135Z"
   },
   {
    "duration": 15,
    "start_time": "2023-01-31T09:53:29.638Z"
   },
   {
    "duration": 7,
    "start_time": "2023-01-31T10:18:58.023Z"
   },
   {
    "duration": 24,
    "start_time": "2023-01-31T10:20:24.502Z"
   },
   {
    "duration": 10,
    "start_time": "2023-01-31T10:40:01.904Z"
   },
   {
    "duration": 12,
    "start_time": "2023-01-31T10:40:22.824Z"
   },
   {
    "duration": 9,
    "start_time": "2023-01-31T10:42:24.873Z"
   },
   {
    "duration": 469,
    "start_time": "2023-01-31T10:42:32.301Z"
   },
   {
    "duration": 15,
    "start_time": "2023-01-31T10:42:32.772Z"
   },
   {
    "duration": 40,
    "start_time": "2023-01-31T10:42:32.789Z"
   },
   {
    "duration": 77,
    "start_time": "2023-01-31T10:42:32.832Z"
   },
   {
    "duration": 23,
    "start_time": "2023-01-31T10:42:32.910Z"
   },
   {
    "duration": 42,
    "start_time": "2023-01-31T10:42:32.935Z"
   },
   {
    "duration": 45,
    "start_time": "2023-01-31T10:42:32.979Z"
   },
   {
    "duration": 31,
    "start_time": "2023-01-31T10:42:33.025Z"
   },
   {
    "duration": 21,
    "start_time": "2023-01-31T10:42:33.059Z"
   },
   {
    "duration": 47,
    "start_time": "2023-01-31T10:42:33.082Z"
   },
   {
    "duration": 35,
    "start_time": "2023-01-31T10:42:33.131Z"
   },
   {
    "duration": 54,
    "start_time": "2023-01-31T10:42:33.168Z"
   },
   {
    "duration": 30,
    "start_time": "2023-01-31T10:42:33.224Z"
   },
   {
    "duration": 61,
    "start_time": "2023-01-31T10:42:33.256Z"
   },
   {
    "duration": 44,
    "start_time": "2023-01-31T10:42:33.319Z"
   },
   {
    "duration": 65,
    "start_time": "2023-01-31T10:42:33.365Z"
   },
   {
    "duration": 39,
    "start_time": "2023-01-31T10:42:33.432Z"
   },
   {
    "duration": 8,
    "start_time": "2023-01-31T10:46:08.312Z"
   },
   {
    "duration": 13,
    "start_time": "2023-01-31T11:07:48.168Z"
   },
   {
    "duration": 15,
    "start_time": "2023-01-31T11:11:31.879Z"
   },
   {
    "duration": 20,
    "start_time": "2023-01-31T11:19:19.878Z"
   },
   {
    "duration": 513,
    "start_time": "2023-01-31T11:53:43.211Z"
   },
   {
    "duration": 15,
    "start_time": "2023-01-31T11:53:43.726Z"
   },
   {
    "duration": 11,
    "start_time": "2023-01-31T11:53:43.743Z"
   },
   {
    "duration": 15,
    "start_time": "2023-01-31T11:53:43.756Z"
   },
   {
    "duration": 8,
    "start_time": "2023-01-31T11:53:43.772Z"
   },
   {
    "duration": 18,
    "start_time": "2023-01-31T11:53:43.783Z"
   },
   {
    "duration": 21,
    "start_time": "2023-01-31T11:53:43.803Z"
   },
   {
    "duration": 25,
    "start_time": "2023-01-31T11:53:43.826Z"
   },
   {
    "duration": 17,
    "start_time": "2023-01-31T11:53:43.853Z"
   },
   {
    "duration": 8,
    "start_time": "2023-01-31T11:53:43.873Z"
   },
   {
    "duration": 9,
    "start_time": "2023-01-31T11:53:43.883Z"
   },
   {
    "duration": 15,
    "start_time": "2023-01-31T11:53:43.894Z"
   },
   {
    "duration": 28,
    "start_time": "2023-01-31T11:53:43.910Z"
   },
   {
    "duration": 26,
    "start_time": "2023-01-31T11:53:43.940Z"
   },
   {
    "duration": 12,
    "start_time": "2023-01-31T11:53:43.968Z"
   },
   {
    "duration": 7,
    "start_time": "2023-01-31T11:53:43.982Z"
   },
   {
    "duration": 12,
    "start_time": "2023-01-31T11:53:43.991Z"
   },
   {
    "duration": 34,
    "start_time": "2023-01-31T11:53:44.004Z"
   },
   {
    "duration": 2,
    "start_time": "2023-01-31T11:53:44.040Z"
   },
   {
    "duration": 6,
    "start_time": "2023-01-31T11:55:32.424Z"
   },
   {
    "duration": 7,
    "start_time": "2023-01-31T11:55:48.866Z"
   },
   {
    "duration": 12,
    "start_time": "2023-01-31T12:57:00.000Z"
   },
   {
    "duration": 84,
    "start_time": "2023-01-31T13:22:58.723Z"
   },
   {
    "duration": 5,
    "start_time": "2023-01-31T13:23:25.645Z"
   },
   {
    "duration": 18,
    "start_time": "2023-01-31T13:23:27.525Z"
   },
   {
    "duration": 555,
    "start_time": "2023-01-31T13:24:38.028Z"
   },
   {
    "duration": 18,
    "start_time": "2023-01-31T13:24:38.585Z"
   },
   {
    "duration": 16,
    "start_time": "2023-01-31T13:24:38.605Z"
   },
   {
    "duration": 24,
    "start_time": "2023-01-31T13:24:38.623Z"
   },
   {
    "duration": 13,
    "start_time": "2023-01-31T13:24:38.649Z"
   },
   {
    "duration": 16,
    "start_time": "2023-01-31T13:24:38.665Z"
   },
   {
    "duration": 23,
    "start_time": "2023-01-31T13:24:38.683Z"
   },
   {
    "duration": 42,
    "start_time": "2023-01-31T13:24:38.708Z"
   },
   {
    "duration": 34,
    "start_time": "2023-01-31T13:24:38.752Z"
   },
   {
    "duration": 33,
    "start_time": "2023-01-31T13:24:38.790Z"
   },
   {
    "duration": 44,
    "start_time": "2023-01-31T13:24:38.825Z"
   },
   {
    "duration": 44,
    "start_time": "2023-01-31T13:24:38.871Z"
   },
   {
    "duration": 34,
    "start_time": "2023-01-31T13:24:38.918Z"
   },
   {
    "duration": 49,
    "start_time": "2023-01-31T13:24:38.954Z"
   },
   {
    "duration": 57,
    "start_time": "2023-01-31T13:24:39.006Z"
   },
   {
    "duration": 34,
    "start_time": "2023-01-31T13:24:39.065Z"
   },
   {
    "duration": 51,
    "start_time": "2023-01-31T13:24:39.102Z"
   },
   {
    "duration": 23,
    "start_time": "2023-01-31T13:24:39.155Z"
   },
   {
    "duration": 52,
    "start_time": "2023-01-31T13:24:39.181Z"
   },
   {
    "duration": 52,
    "start_time": "2023-01-31T13:24:39.235Z"
   },
   {
    "duration": 97,
    "start_time": "2023-01-31T13:24:39.290Z"
   },
   {
    "duration": 86,
    "start_time": "2023-01-31T13:24:39.388Z"
   },
   {
    "duration": 49,
    "start_time": "2023-01-31T13:24:39.476Z"
   },
   {
    "duration": 483,
    "start_time": "2023-01-31T13:27:17.596Z"
   },
   {
    "duration": 15,
    "start_time": "2023-01-31T13:27:18.082Z"
   },
   {
    "duration": 25,
    "start_time": "2023-01-31T13:27:18.099Z"
   },
   {
    "duration": 41,
    "start_time": "2023-01-31T13:27:18.127Z"
   },
   {
    "duration": 25,
    "start_time": "2023-01-31T13:27:18.171Z"
   },
   {
    "duration": 34,
    "start_time": "2023-01-31T13:27:18.199Z"
   },
   {
    "duration": 42,
    "start_time": "2023-01-31T13:27:18.234Z"
   },
   {
    "duration": 27,
    "start_time": "2023-01-31T13:27:18.278Z"
   },
   {
    "duration": 27,
    "start_time": "2023-01-31T13:27:18.307Z"
   },
   {
    "duration": 36,
    "start_time": "2023-01-31T13:27:18.337Z"
   },
   {
    "duration": 36,
    "start_time": "2023-01-31T13:27:18.375Z"
   },
   {
    "duration": 72,
    "start_time": "2023-01-31T13:27:18.413Z"
   },
   {
    "duration": 52,
    "start_time": "2023-01-31T13:27:18.487Z"
   },
   {
    "duration": 66,
    "start_time": "2023-01-31T13:27:18.542Z"
   },
   {
    "duration": 43,
    "start_time": "2023-01-31T13:27:18.610Z"
   },
   {
    "duration": 34,
    "start_time": "2023-01-31T13:27:18.656Z"
   },
   {
    "duration": 34,
    "start_time": "2023-01-31T13:27:18.692Z"
   },
   {
    "duration": 18,
    "start_time": "2023-01-31T13:27:18.728Z"
   },
   {
    "duration": 44,
    "start_time": "2023-01-31T13:27:18.747Z"
   },
   {
    "duration": 32,
    "start_time": "2023-01-31T13:27:18.793Z"
   },
   {
    "duration": 26,
    "start_time": "2023-01-31T13:27:18.827Z"
   },
   {
    "duration": 25,
    "start_time": "2023-01-31T13:27:18.855Z"
   },
   {
    "duration": 15,
    "start_time": "2023-01-31T14:39:51.715Z"
   },
   {
    "duration": 28,
    "start_time": "2023-01-31T14:42:21.269Z"
   },
   {
    "duration": 8,
    "start_time": "2023-01-31T14:57:47.556Z"
   },
   {
    "duration": 7,
    "start_time": "2023-01-31T14:58:44.645Z"
   },
   {
    "duration": 424,
    "start_time": "2023-01-31T14:58:55.885Z"
   },
   {
    "duration": 15,
    "start_time": "2023-01-31T14:58:56.311Z"
   },
   {
    "duration": 27,
    "start_time": "2023-01-31T14:58:56.328Z"
   },
   {
    "duration": 36,
    "start_time": "2023-01-31T14:58:56.357Z"
   },
   {
    "duration": 10,
    "start_time": "2023-01-31T14:58:56.395Z"
   },
   {
    "duration": 30,
    "start_time": "2023-01-31T14:58:56.407Z"
   },
   {
    "duration": 32,
    "start_time": "2023-01-31T14:58:56.439Z"
   },
   {
    "duration": 18,
    "start_time": "2023-01-31T14:58:56.473Z"
   },
   {
    "duration": 30,
    "start_time": "2023-01-31T14:58:56.493Z"
   },
   {
    "duration": 13,
    "start_time": "2023-01-31T14:58:56.526Z"
   },
   {
    "duration": 21,
    "start_time": "2023-01-31T14:58:56.540Z"
   },
   {
    "duration": 36,
    "start_time": "2023-01-31T14:58:56.563Z"
   },
   {
    "duration": 18,
    "start_time": "2023-01-31T14:58:56.600Z"
   },
   {
    "duration": 39,
    "start_time": "2023-01-31T14:58:56.620Z"
   },
   {
    "duration": 15,
    "start_time": "2023-01-31T14:58:56.661Z"
   },
   {
    "duration": 16,
    "start_time": "2023-01-31T14:58:56.677Z"
   },
   {
    "duration": 14,
    "start_time": "2023-01-31T14:58:56.694Z"
   },
   {
    "duration": 7,
    "start_time": "2023-01-31T14:58:56.710Z"
   },
   {
    "duration": 25,
    "start_time": "2023-01-31T14:58:56.719Z"
   },
   {
    "duration": 15,
    "start_time": "2023-01-31T14:58:56.746Z"
   },
   {
    "duration": 34,
    "start_time": "2023-01-31T14:58:56.764Z"
   },
   {
    "duration": 12,
    "start_time": "2023-01-31T14:58:56.800Z"
   },
   {
    "duration": 31,
    "start_time": "2023-01-31T14:58:56.814Z"
   },
   {
    "duration": 32,
    "start_time": "2023-01-31T14:58:56.846Z"
   },
   {
    "duration": 6,
    "start_time": "2023-01-31T14:58:56.880Z"
   },
   {
    "duration": 7,
    "start_time": "2023-01-31T15:12:18.219Z"
   },
   {
    "duration": 464,
    "start_time": "2023-01-31T15:13:55.952Z"
   },
   {
    "duration": 13,
    "start_time": "2023-01-31T15:13:56.418Z"
   },
   {
    "duration": 14,
    "start_time": "2023-01-31T15:13:56.433Z"
   },
   {
    "duration": 15,
    "start_time": "2023-01-31T15:13:56.449Z"
   },
   {
    "duration": 10,
    "start_time": "2023-01-31T15:13:56.465Z"
   },
   {
    "duration": 10,
    "start_time": "2023-01-31T15:13:56.476Z"
   },
   {
    "duration": 30,
    "start_time": "2023-01-31T15:13:56.488Z"
   },
   {
    "duration": 13,
    "start_time": "2023-01-31T15:13:56.520Z"
   },
   {
    "duration": 10,
    "start_time": "2023-01-31T15:13:56.536Z"
   },
   {
    "duration": 8,
    "start_time": "2023-01-31T15:13:56.550Z"
   },
   {
    "duration": 10,
    "start_time": "2023-01-31T15:13:56.561Z"
   },
   {
    "duration": 23,
    "start_time": "2023-01-31T15:13:56.573Z"
   },
   {
    "duration": 9,
    "start_time": "2023-01-31T15:13:56.600Z"
   },
   {
    "duration": 40,
    "start_time": "2023-01-31T15:13:56.611Z"
   },
   {
    "duration": 10,
    "start_time": "2023-01-31T15:13:56.653Z"
   },
   {
    "duration": 10,
    "start_time": "2023-01-31T15:13:56.665Z"
   },
   {
    "duration": 13,
    "start_time": "2023-01-31T15:13:56.676Z"
   },
   {
    "duration": 4,
    "start_time": "2023-01-31T15:13:56.691Z"
   },
   {
    "duration": 12,
    "start_time": "2023-01-31T15:13:56.697Z"
   },
   {
    "duration": 28,
    "start_time": "2023-01-31T15:13:56.711Z"
   },
   {
    "duration": 17,
    "start_time": "2023-01-31T15:13:56.741Z"
   },
   {
    "duration": 4,
    "start_time": "2023-01-31T15:13:56.759Z"
   },
   {
    "duration": 24,
    "start_time": "2023-01-31T15:13:56.764Z"
   },
   {
    "duration": 23,
    "start_time": "2023-01-31T15:13:56.789Z"
   },
   {
    "duration": 24,
    "start_time": "2023-01-31T15:13:56.814Z"
   },
   {
    "duration": 15,
    "start_time": "2023-01-31T15:13:56.839Z"
   },
   {
    "duration": 9,
    "start_time": "2023-01-31T15:15:25.252Z"
   },
   {
    "duration": 39,
    "start_time": "2023-01-31T15:18:26.551Z"
   },
   {
    "duration": 19,
    "start_time": "2023-01-31T15:27:33.152Z"
   },
   {
    "duration": 36,
    "start_time": "2023-01-31T15:28:20.927Z"
   },
   {
    "duration": 16,
    "start_time": "2023-01-31T15:28:41.161Z"
   },
   {
    "duration": 9,
    "start_time": "2023-01-31T15:32:53.040Z"
   },
   {
    "duration": 79,
    "start_time": "2023-01-31T19:44:48.602Z"
   },
   {
    "duration": 972,
    "start_time": "2023-01-31T19:44:59.393Z"
   },
   {
    "duration": 17,
    "start_time": "2023-01-31T19:45:00.372Z"
   },
   {
    "duration": 40,
    "start_time": "2023-01-31T19:45:00.391Z"
   },
   {
    "duration": 60,
    "start_time": "2023-01-31T19:45:00.433Z"
   },
   {
    "duration": 27,
    "start_time": "2023-01-31T19:45:00.495Z"
   },
   {
    "duration": 29,
    "start_time": "2023-01-31T19:45:00.524Z"
   },
   {
    "duration": 53,
    "start_time": "2023-01-31T19:45:00.555Z"
   },
   {
    "duration": 15,
    "start_time": "2023-01-31T19:45:00.610Z"
   },
   {
    "duration": 59,
    "start_time": "2023-01-31T19:45:00.627Z"
   },
   {
    "duration": 27,
    "start_time": "2023-01-31T19:45:00.688Z"
   },
   {
    "duration": 61,
    "start_time": "2023-01-31T19:45:00.717Z"
   },
   {
    "duration": 30,
    "start_time": "2023-01-31T19:45:00.780Z"
   },
   {
    "duration": 8,
    "start_time": "2023-01-31T19:45:00.812Z"
   },
   {
    "duration": 62,
    "start_time": "2023-01-31T19:45:00.822Z"
   },
   {
    "duration": 19,
    "start_time": "2023-01-31T19:45:00.886Z"
   },
   {
    "duration": 26,
    "start_time": "2023-01-31T19:45:00.907Z"
   },
   {
    "duration": 25,
    "start_time": "2023-01-31T19:45:00.935Z"
   },
   {
    "duration": 31,
    "start_time": "2023-01-31T19:45:00.962Z"
   },
   {
    "duration": 35,
    "start_time": "2023-01-31T19:45:00.994Z"
   },
   {
    "duration": 33,
    "start_time": "2023-01-31T19:45:01.031Z"
   },
   {
    "duration": 39,
    "start_time": "2023-01-31T19:45:01.067Z"
   },
   {
    "duration": 5,
    "start_time": "2023-01-31T19:45:01.107Z"
   },
   {
    "duration": 40,
    "start_time": "2023-01-31T19:45:01.114Z"
   },
   {
    "duration": 48,
    "start_time": "2023-01-31T19:45:01.160Z"
   },
   {
    "duration": 15,
    "start_time": "2023-01-31T19:45:01.209Z"
   },
   {
    "duration": 69,
    "start_time": "2023-01-31T19:45:01.226Z"
   },
   {
    "duration": 15,
    "start_time": "2023-01-31T20:17:46.517Z"
   },
   {
    "duration": 105,
    "start_time": "2023-01-31T20:24:04.663Z"
   },
   {
    "duration": 460,
    "start_time": "2023-01-31T20:25:54.467Z"
   },
   {
    "duration": 13,
    "start_time": "2023-01-31T20:25:54.929Z"
   },
   {
    "duration": 3,
    "start_time": "2023-01-31T20:25:54.945Z"
   },
   {
    "duration": 14,
    "start_time": "2023-01-31T20:25:54.950Z"
   },
   {
    "duration": 7,
    "start_time": "2023-01-31T20:25:54.966Z"
   },
   {
    "duration": 11,
    "start_time": "2023-01-31T20:25:54.975Z"
   },
   {
    "duration": 30,
    "start_time": "2023-01-31T20:25:54.987Z"
   },
   {
    "duration": 37,
    "start_time": "2023-01-31T20:25:55.020Z"
   },
   {
    "duration": 12,
    "start_time": "2023-01-31T20:25:55.059Z"
   },
   {
    "duration": 25,
    "start_time": "2023-01-31T20:25:55.073Z"
   },
   {
    "duration": 18,
    "start_time": "2023-01-31T20:25:55.100Z"
   },
   {
    "duration": 20,
    "start_time": "2023-01-31T20:25:55.121Z"
   },
   {
    "duration": 26,
    "start_time": "2023-01-31T20:25:55.144Z"
   },
   {
    "duration": 27,
    "start_time": "2023-01-31T20:25:55.173Z"
   },
   {
    "duration": 12,
    "start_time": "2023-01-31T20:25:55.202Z"
   },
   {
    "duration": 7,
    "start_time": "2023-01-31T20:25:55.216Z"
   },
   {
    "duration": 14,
    "start_time": "2023-01-31T20:25:55.225Z"
   },
   {
    "duration": 11,
    "start_time": "2023-01-31T20:25:55.247Z"
   },
   {
    "duration": 20,
    "start_time": "2023-01-31T20:25:55.260Z"
   },
   {
    "duration": 8,
    "start_time": "2023-01-31T20:25:55.282Z"
   },
   {
    "duration": 15,
    "start_time": "2023-01-31T20:25:55.292Z"
   },
   {
    "duration": 3,
    "start_time": "2023-01-31T20:25:55.309Z"
   },
   {
    "duration": 18,
    "start_time": "2023-01-31T20:25:55.313Z"
   },
   {
    "duration": 31,
    "start_time": "2023-01-31T20:25:55.332Z"
   },
   {
    "duration": 8,
    "start_time": "2023-01-31T20:25:55.364Z"
   },
   {
    "duration": 16,
    "start_time": "2023-01-31T20:25:55.373Z"
   },
   {
    "duration": 78,
    "start_time": "2023-01-31T20:25:55.390Z"
   },
   {
    "duration": 18,
    "start_time": "2023-01-31T20:53:47.321Z"
   },
   {
    "duration": 16,
    "start_time": "2023-01-31T20:54:37.603Z"
   },
   {
    "duration": 17,
    "start_time": "2023-01-31T21:25:47.293Z"
   },
   {
    "duration": 18,
    "start_time": "2023-01-31T21:26:01.681Z"
   },
   {
    "duration": 5,
    "start_time": "2023-01-31T21:29:51.137Z"
   },
   {
    "duration": 5,
    "start_time": "2023-01-31T21:30:35.980Z"
   },
   {
    "duration": 48,
    "start_time": "2023-01-31T21:47:16.456Z"
   },
   {
    "duration": 448,
    "start_time": "2023-01-31T21:47:40.570Z"
   },
   {
    "duration": 14,
    "start_time": "2023-01-31T21:47:41.021Z"
   },
   {
    "duration": 24,
    "start_time": "2023-01-31T21:47:41.036Z"
   },
   {
    "duration": 15,
    "start_time": "2023-01-31T21:47:41.062Z"
   },
   {
    "duration": 7,
    "start_time": "2023-01-31T21:47:41.079Z"
   },
   {
    "duration": 11,
    "start_time": "2023-01-31T21:47:41.088Z"
   },
   {
    "duration": 21,
    "start_time": "2023-01-31T21:47:41.101Z"
   },
   {
    "duration": 12,
    "start_time": "2023-01-31T21:47:41.123Z"
   },
   {
    "duration": 14,
    "start_time": "2023-01-31T21:47:41.136Z"
   },
   {
    "duration": 23,
    "start_time": "2023-01-31T21:47:41.154Z"
   },
   {
    "duration": 13,
    "start_time": "2023-01-31T21:47:41.179Z"
   },
   {
    "duration": 19,
    "start_time": "2023-01-31T21:47:41.194Z"
   },
   {
    "duration": 9,
    "start_time": "2023-01-31T21:47:41.215Z"
   },
   {
    "duration": 36,
    "start_time": "2023-01-31T21:47:41.225Z"
   },
   {
    "duration": 7,
    "start_time": "2023-01-31T21:47:41.263Z"
   },
   {
    "duration": 10,
    "start_time": "2023-01-31T21:47:41.271Z"
   },
   {
    "duration": 13,
    "start_time": "2023-01-31T21:47:41.283Z"
   },
   {
    "duration": 6,
    "start_time": "2023-01-31T21:47:41.298Z"
   },
   {
    "duration": 16,
    "start_time": "2023-01-31T21:47:41.305Z"
   },
   {
    "duration": 5,
    "start_time": "2023-01-31T21:47:41.322Z"
   },
   {
    "duration": 31,
    "start_time": "2023-01-31T21:47:41.329Z"
   },
   {
    "duration": 6,
    "start_time": "2023-01-31T21:47:41.362Z"
   },
   {
    "duration": 19,
    "start_time": "2023-01-31T21:47:41.369Z"
   },
   {
    "duration": 17,
    "start_time": "2023-01-31T21:47:41.389Z"
   },
   {
    "duration": 6,
    "start_time": "2023-01-31T21:47:41.407Z"
   },
   {
    "duration": 43,
    "start_time": "2023-01-31T21:47:41.415Z"
   },
   {
    "duration": 4,
    "start_time": "2023-01-31T21:47:41.460Z"
   },
   {
    "duration": 39,
    "start_time": "2023-01-31T21:47:41.466Z"
   },
   {
    "duration": 49,
    "start_time": "2023-01-31T21:48:04.684Z"
   },
   {
    "duration": 65,
    "start_time": "2023-01-31T21:48:32.933Z"
   },
   {
    "duration": 866,
    "start_time": "2023-01-31T21:48:54.916Z"
   },
   {
    "duration": 3,
    "start_time": "2023-01-31T21:50:38.224Z"
   },
   {
    "duration": 5,
    "start_time": "2023-01-31T21:50:52.057Z"
   },
   {
    "duration": 5,
    "start_time": "2023-01-31T21:56:02.708Z"
   },
   {
    "duration": 452,
    "start_time": "2023-01-31T21:56:10.872Z"
   },
   {
    "duration": 464,
    "start_time": "2023-01-31T21:57:08.170Z"
   },
   {
    "duration": 18,
    "start_time": "2023-01-31T21:57:08.636Z"
   },
   {
    "duration": 26,
    "start_time": "2023-01-31T21:57:08.656Z"
   },
   {
    "duration": 44,
    "start_time": "2023-01-31T21:57:08.684Z"
   },
   {
    "duration": 12,
    "start_time": "2023-01-31T21:57:08.730Z"
   },
   {
    "duration": 43,
    "start_time": "2023-01-31T21:57:08.744Z"
   },
   {
    "duration": 28,
    "start_time": "2023-01-31T21:57:08.789Z"
   },
   {
    "duration": 12,
    "start_time": "2023-01-31T21:57:08.819Z"
   },
   {
    "duration": 42,
    "start_time": "2023-01-31T21:57:08.832Z"
   },
   {
    "duration": 19,
    "start_time": "2023-01-31T21:57:08.876Z"
   },
   {
    "duration": 14,
    "start_time": "2023-01-31T21:57:08.896Z"
   },
   {
    "duration": 54,
    "start_time": "2023-01-31T21:57:08.912Z"
   },
   {
    "duration": 25,
    "start_time": "2023-01-31T21:57:08.968Z"
   },
   {
    "duration": 32,
    "start_time": "2023-01-31T21:57:08.994Z"
   },
   {
    "duration": 29,
    "start_time": "2023-01-31T21:57:09.027Z"
   },
   {
    "duration": 26,
    "start_time": "2023-01-31T21:57:09.063Z"
   },
   {
    "duration": 19,
    "start_time": "2023-01-31T21:57:09.091Z"
   },
   {
    "duration": 41,
    "start_time": "2023-01-31T21:57:09.111Z"
   },
   {
    "duration": 48,
    "start_time": "2023-01-31T21:57:09.155Z"
   },
   {
    "duration": 5,
    "start_time": "2023-01-31T21:57:09.204Z"
   },
   {
    "duration": 34,
    "start_time": "2023-01-31T21:57:09.211Z"
   },
   {
    "duration": 26,
    "start_time": "2023-01-31T21:57:09.252Z"
   },
   {
    "duration": 32,
    "start_time": "2023-01-31T21:57:09.280Z"
   },
   {
    "duration": 25,
    "start_time": "2023-01-31T21:57:09.314Z"
   },
   {
    "duration": 18,
    "start_time": "2023-01-31T21:57:09.341Z"
   },
   {
    "duration": 38,
    "start_time": "2023-01-31T21:57:09.360Z"
   },
   {
    "duration": 4,
    "start_time": "2023-01-31T21:57:09.399Z"
   },
   {
    "duration": 772,
    "start_time": "2023-01-31T21:57:09.405Z"
   },
   {
    "duration": 21,
    "start_time": "2023-01-31T22:03:28.564Z"
   },
   {
    "duration": 45,
    "start_time": "2023-01-31T22:05:12.112Z"
   },
   {
    "duration": 81,
    "start_time": "2023-01-31T22:06:43.777Z"
   },
   {
    "duration": 12,
    "start_time": "2023-01-31T22:07:18.489Z"
   },
   {
    "duration": 484,
    "start_time": "2023-01-31T22:09:14.062Z"
   },
   {
    "duration": 19,
    "start_time": "2023-01-31T22:09:14.550Z"
   },
   {
    "duration": 7,
    "start_time": "2023-01-31T22:09:14.571Z"
   },
   {
    "duration": 14,
    "start_time": "2023-01-31T22:09:14.580Z"
   },
   {
    "duration": 6,
    "start_time": "2023-01-31T22:09:14.596Z"
   },
   {
    "duration": 8,
    "start_time": "2023-01-31T22:09:14.604Z"
   },
   {
    "duration": 56,
    "start_time": "2023-01-31T22:09:14.614Z"
   },
   {
    "duration": 21,
    "start_time": "2023-01-31T22:09:14.671Z"
   },
   {
    "duration": 20,
    "start_time": "2023-01-31T22:09:14.694Z"
   },
   {
    "duration": 31,
    "start_time": "2023-01-31T22:09:14.718Z"
   },
   {
    "duration": 38,
    "start_time": "2023-01-31T22:09:14.753Z"
   },
   {
    "duration": 30,
    "start_time": "2023-01-31T22:09:14.793Z"
   },
   {
    "duration": 10,
    "start_time": "2023-01-31T22:09:14.825Z"
   },
   {
    "duration": 28,
    "start_time": "2023-01-31T22:09:14.837Z"
   },
   {
    "duration": 10,
    "start_time": "2023-01-31T22:09:14.867Z"
   },
   {
    "duration": 7,
    "start_time": "2023-01-31T22:09:14.879Z"
   },
   {
    "duration": 14,
    "start_time": "2023-01-31T22:09:14.888Z"
   },
   {
    "duration": 12,
    "start_time": "2023-01-31T22:09:14.904Z"
   },
   {
    "duration": 43,
    "start_time": "2023-01-31T22:09:14.918Z"
   },
   {
    "duration": 15,
    "start_time": "2023-01-31T22:09:14.962Z"
   },
   {
    "duration": 21,
    "start_time": "2023-01-31T22:09:14.979Z"
   },
   {
    "duration": 22,
    "start_time": "2023-01-31T22:09:15.001Z"
   },
   {
    "duration": 52,
    "start_time": "2023-01-31T22:09:15.025Z"
   },
   {
    "duration": 22,
    "start_time": "2023-01-31T22:09:15.078Z"
   },
   {
    "duration": 6,
    "start_time": "2023-01-31T22:09:15.102Z"
   },
   {
    "duration": 22,
    "start_time": "2023-01-31T22:09:15.110Z"
   },
   {
    "duration": 5,
    "start_time": "2023-01-31T22:09:15.134Z"
   },
   {
    "duration": 735,
    "start_time": "2023-01-31T22:09:15.146Z"
   },
   {
    "duration": 460,
    "start_time": "2023-01-31T22:15:36.970Z"
   },
   {
    "duration": 487,
    "start_time": "2023-01-31T22:16:53.135Z"
   },
   {
    "duration": 472,
    "start_time": "2023-01-31T22:17:27.132Z"
   },
   {
    "duration": 391,
    "start_time": "2023-01-31T22:27:00.243Z"
   },
   {
    "duration": 450,
    "start_time": "2023-01-31T22:28:45.661Z"
   },
   {
    "duration": 676,
    "start_time": "2023-01-31T22:30:04.141Z"
   },
   {
    "duration": 13,
    "start_time": "2023-01-31T22:30:04.818Z"
   },
   {
    "duration": 54,
    "start_time": "2023-01-31T22:30:04.832Z"
   },
   {
    "duration": 15,
    "start_time": "2023-01-31T22:30:04.888Z"
   },
   {
    "duration": 12,
    "start_time": "2023-01-31T22:30:04.904Z"
   },
   {
    "duration": 11,
    "start_time": "2023-01-31T22:30:04.918Z"
   },
   {
    "duration": 54,
    "start_time": "2023-01-31T22:30:04.931Z"
   },
   {
    "duration": 15,
    "start_time": "2023-01-31T22:30:04.987Z"
   },
   {
    "duration": 69,
    "start_time": "2023-01-31T22:30:05.004Z"
   },
   {
    "duration": 12,
    "start_time": "2023-01-31T22:30:05.076Z"
   },
   {
    "duration": 11,
    "start_time": "2023-01-31T22:30:05.090Z"
   },
   {
    "duration": 17,
    "start_time": "2023-01-31T22:30:05.103Z"
   },
   {
    "duration": 11,
    "start_time": "2023-01-31T22:30:05.122Z"
   },
   {
    "duration": 29,
    "start_time": "2023-01-31T22:30:05.134Z"
   },
   {
    "duration": 17,
    "start_time": "2023-01-31T22:30:05.165Z"
   },
   {
    "duration": 7,
    "start_time": "2023-01-31T22:30:05.184Z"
   },
   {
    "duration": 20,
    "start_time": "2023-01-31T22:30:05.193Z"
   },
   {
    "duration": 35,
    "start_time": "2023-01-31T22:30:05.214Z"
   },
   {
    "duration": 28,
    "start_time": "2023-01-31T22:30:05.250Z"
   },
   {
    "duration": 17,
    "start_time": "2023-01-31T22:30:05.280Z"
   },
   {
    "duration": 58,
    "start_time": "2023-01-31T22:30:05.298Z"
   },
   {
    "duration": 8,
    "start_time": "2023-01-31T22:30:05.358Z"
   },
   {
    "duration": 27,
    "start_time": "2023-01-31T22:30:05.367Z"
   },
   {
    "duration": 19,
    "start_time": "2023-01-31T22:30:05.395Z"
   },
   {
    "duration": 6,
    "start_time": "2023-01-31T22:30:05.415Z"
   },
   {
    "duration": 17,
    "start_time": "2023-01-31T22:30:05.423Z"
   },
   {
    "duration": 9,
    "start_time": "2023-01-31T22:30:05.446Z"
   },
   {
    "duration": 443,
    "start_time": "2023-01-31T22:30:05.458Z"
   },
   {
    "duration": 282,
    "start_time": "2023-01-31T22:41:08.980Z"
   },
   {
    "duration": 347,
    "start_time": "2023-01-31T22:41:33.668Z"
   },
   {
    "duration": 329,
    "start_time": "2023-01-31T22:44:04.881Z"
   },
   {
    "duration": 249,
    "start_time": "2023-01-31T22:53:15.705Z"
   },
   {
    "duration": 84,
    "start_time": "2023-01-31T22:55:29.265Z"
   },
   {
    "duration": 631,
    "start_time": "2023-01-31T22:55:37.159Z"
   },
   {
    "duration": 12,
    "start_time": "2023-01-31T22:55:37.792Z"
   },
   {
    "duration": 3,
    "start_time": "2023-01-31T22:55:37.805Z"
   },
   {
    "duration": 12,
    "start_time": "2023-01-31T22:55:37.810Z"
   },
   {
    "duration": 5,
    "start_time": "2023-01-31T22:55:37.824Z"
   },
   {
    "duration": 20,
    "start_time": "2023-01-31T22:55:37.830Z"
   },
   {
    "duration": 17,
    "start_time": "2023-01-31T22:55:37.851Z"
   },
   {
    "duration": 11,
    "start_time": "2023-01-31T22:55:37.870Z"
   },
   {
    "duration": 11,
    "start_time": "2023-01-31T22:55:37.883Z"
   },
   {
    "duration": 7,
    "start_time": "2023-01-31T22:55:37.897Z"
   },
   {
    "duration": 10,
    "start_time": "2023-01-31T22:55:37.906Z"
   },
   {
    "duration": 34,
    "start_time": "2023-01-31T22:55:37.917Z"
   },
   {
    "duration": 9,
    "start_time": "2023-01-31T22:55:37.952Z"
   },
   {
    "duration": 23,
    "start_time": "2023-01-31T22:55:37.962Z"
   },
   {
    "duration": 7,
    "start_time": "2023-01-31T22:55:37.987Z"
   },
   {
    "duration": 6,
    "start_time": "2023-01-31T22:55:37.995Z"
   },
   {
    "duration": 12,
    "start_time": "2023-01-31T22:55:38.003Z"
   },
   {
    "duration": 27,
    "start_time": "2023-01-31T22:55:38.017Z"
   },
   {
    "duration": 12,
    "start_time": "2023-01-31T22:55:38.046Z"
   },
   {
    "duration": 6,
    "start_time": "2023-01-31T22:55:38.060Z"
   },
   {
    "duration": 20,
    "start_time": "2023-01-31T22:55:38.067Z"
   },
   {
    "duration": 13,
    "start_time": "2023-01-31T22:55:38.088Z"
   },
   {
    "duration": 20,
    "start_time": "2023-01-31T22:55:38.102Z"
   },
   {
    "duration": 16,
    "start_time": "2023-01-31T22:55:38.123Z"
   },
   {
    "duration": 6,
    "start_time": "2023-01-31T22:55:38.143Z"
   },
   {
    "duration": 16,
    "start_time": "2023-01-31T22:55:38.150Z"
   },
   {
    "duration": 3,
    "start_time": "2023-01-31T22:55:38.168Z"
   },
   {
    "duration": 295,
    "start_time": "2023-01-31T22:55:38.173Z"
   },
   {
    "duration": 4,
    "start_time": "2023-01-31T22:56:06.489Z"
   },
   {
    "duration": 676,
    "start_time": "2023-01-31T22:56:20.530Z"
   },
   {
    "duration": 13,
    "start_time": "2023-01-31T22:56:21.209Z"
   },
   {
    "duration": 2,
    "start_time": "2023-01-31T22:56:21.224Z"
   },
   {
    "duration": 13,
    "start_time": "2023-01-31T22:56:21.228Z"
   },
   {
    "duration": 5,
    "start_time": "2023-01-31T22:56:21.242Z"
   },
   {
    "duration": 11,
    "start_time": "2023-01-31T22:56:21.248Z"
   },
   {
    "duration": 18,
    "start_time": "2023-01-31T22:56:21.261Z"
   },
   {
    "duration": 12,
    "start_time": "2023-01-31T22:56:21.281Z"
   },
   {
    "duration": 10,
    "start_time": "2023-01-31T22:56:21.295Z"
   },
   {
    "duration": 8,
    "start_time": "2023-01-31T22:56:21.307Z"
   },
   {
    "duration": 35,
    "start_time": "2023-01-31T22:56:21.316Z"
   },
   {
    "duration": 16,
    "start_time": "2023-01-31T22:56:21.352Z"
   },
   {
    "duration": 7,
    "start_time": "2023-01-31T22:56:21.369Z"
   },
   {
    "duration": 24,
    "start_time": "2023-01-31T22:56:21.378Z"
   },
   {
    "duration": 7,
    "start_time": "2023-01-31T22:56:21.403Z"
   },
   {
    "duration": 6,
    "start_time": "2023-01-31T22:56:21.411Z"
   },
   {
    "duration": 29,
    "start_time": "2023-01-31T22:56:21.418Z"
   },
   {
    "duration": 4,
    "start_time": "2023-01-31T22:56:21.449Z"
   },
   {
    "duration": 16,
    "start_time": "2023-01-31T22:56:21.454Z"
   },
   {
    "duration": 7,
    "start_time": "2023-01-31T22:56:21.471Z"
   },
   {
    "duration": 12,
    "start_time": "2023-01-31T22:56:21.480Z"
   },
   {
    "duration": 6,
    "start_time": "2023-01-31T22:56:21.493Z"
   },
   {
    "duration": 17,
    "start_time": "2023-01-31T22:56:21.500Z"
   },
   {
    "duration": 39,
    "start_time": "2023-01-31T22:56:21.518Z"
   },
   {
    "duration": 5,
    "start_time": "2023-01-31T22:56:21.559Z"
   },
   {
    "duration": 24,
    "start_time": "2023-01-31T22:56:21.566Z"
   },
   {
    "duration": 4,
    "start_time": "2023-01-31T22:56:21.592Z"
   },
   {
    "duration": 310,
    "start_time": "2023-01-31T22:56:21.599Z"
   },
   {
    "duration": 363,
    "start_time": "2023-01-31T23:30:21.650Z"
   },
   {
    "duration": 893,
    "start_time": "2023-02-01T08:37:21.038Z"
   },
   {
    "duration": 15,
    "start_time": "2023-02-01T08:37:21.933Z"
   },
   {
    "duration": 10,
    "start_time": "2023-02-01T08:37:21.950Z"
   },
   {
    "duration": 28,
    "start_time": "2023-02-01T08:37:21.962Z"
   },
   {
    "duration": 19,
    "start_time": "2023-02-01T08:37:21.992Z"
   },
   {
    "duration": 31,
    "start_time": "2023-02-01T08:37:22.013Z"
   },
   {
    "duration": 26,
    "start_time": "2023-02-01T08:37:22.046Z"
   },
   {
    "duration": 13,
    "start_time": "2023-02-01T08:37:22.074Z"
   },
   {
    "duration": 25,
    "start_time": "2023-02-01T08:37:22.089Z"
   },
   {
    "duration": 22,
    "start_time": "2023-02-01T08:37:22.117Z"
   },
   {
    "duration": 9,
    "start_time": "2023-02-01T08:37:22.141Z"
   },
   {
    "duration": 34,
    "start_time": "2023-02-01T08:37:22.151Z"
   },
   {
    "duration": 26,
    "start_time": "2023-02-01T08:37:22.187Z"
   },
   {
    "duration": 32,
    "start_time": "2023-02-01T08:37:22.215Z"
   },
   {
    "duration": 8,
    "start_time": "2023-02-01T08:37:22.248Z"
   },
   {
    "duration": 26,
    "start_time": "2023-02-01T08:37:22.257Z"
   },
   {
    "duration": 15,
    "start_time": "2023-02-01T08:37:22.285Z"
   },
   {
    "duration": 5,
    "start_time": "2023-02-01T08:37:22.302Z"
   },
   {
    "duration": 16,
    "start_time": "2023-02-01T08:37:22.309Z"
   },
   {
    "duration": 4,
    "start_time": "2023-02-01T08:37:22.327Z"
   },
   {
    "duration": 33,
    "start_time": "2023-02-01T08:37:22.333Z"
   },
   {
    "duration": 16,
    "start_time": "2023-02-01T08:37:22.367Z"
   },
   {
    "duration": 27,
    "start_time": "2023-02-01T08:37:22.384Z"
   },
   {
    "duration": 23,
    "start_time": "2023-02-01T08:37:22.413Z"
   },
   {
    "duration": 6,
    "start_time": "2023-02-01T08:37:22.438Z"
   },
   {
    "duration": 21,
    "start_time": "2023-02-01T08:37:22.446Z"
   },
   {
    "duration": 4,
    "start_time": "2023-02-01T08:37:22.469Z"
   },
   {
    "duration": 335,
    "start_time": "2023-02-01T08:37:22.476Z"
   },
   {
    "duration": 246,
    "start_time": "2023-02-01T08:40:05.712Z"
   },
   {
    "duration": 460,
    "start_time": "2023-02-01T08:41:41.040Z"
   },
   {
    "duration": 302,
    "start_time": "2023-02-01T08:43:13.474Z"
   },
   {
    "duration": 69,
    "start_time": "2023-02-01T09:06:15.682Z"
   },
   {
    "duration": 22,
    "start_time": "2023-02-01T09:06:23.488Z"
   },
   {
    "duration": 11,
    "start_time": "2023-02-01T09:10:56.600Z"
   },
   {
    "duration": 796,
    "start_time": "2023-02-01T09:11:10.311Z"
   },
   {
    "duration": 20,
    "start_time": "2023-02-01T09:11:11.109Z"
   },
   {
    "duration": 4,
    "start_time": "2023-02-01T09:11:11.131Z"
   },
   {
    "duration": 18,
    "start_time": "2023-02-01T09:11:11.137Z"
   },
   {
    "duration": 10,
    "start_time": "2023-02-01T09:11:11.157Z"
   },
   {
    "duration": 14,
    "start_time": "2023-02-01T09:11:11.169Z"
   },
   {
    "duration": 43,
    "start_time": "2023-02-01T09:11:11.185Z"
   },
   {
    "duration": 18,
    "start_time": "2023-02-01T09:11:11.230Z"
   },
   {
    "duration": 13,
    "start_time": "2023-02-01T09:11:11.250Z"
   },
   {
    "duration": 13,
    "start_time": "2023-02-01T09:11:11.267Z"
   },
   {
    "duration": 16,
    "start_time": "2023-02-01T09:11:11.281Z"
   },
   {
    "duration": 33,
    "start_time": "2023-02-01T09:11:11.298Z"
   },
   {
    "duration": 11,
    "start_time": "2023-02-01T09:11:11.333Z"
   },
   {
    "duration": 31,
    "start_time": "2023-02-01T09:11:11.346Z"
   },
   {
    "duration": 8,
    "start_time": "2023-02-01T09:11:11.379Z"
   },
   {
    "duration": 14,
    "start_time": "2023-02-01T09:11:11.388Z"
   },
   {
    "duration": 34,
    "start_time": "2023-02-01T09:11:11.403Z"
   },
   {
    "duration": 29,
    "start_time": "2023-02-01T09:11:11.438Z"
   },
   {
    "duration": 14,
    "start_time": "2023-02-01T09:11:11.469Z"
   },
   {
    "duration": 5,
    "start_time": "2023-02-01T09:11:11.485Z"
   },
   {
    "duration": 17,
    "start_time": "2023-02-01T09:11:11.492Z"
   },
   {
    "duration": 4,
    "start_time": "2023-02-01T09:11:11.511Z"
   },
   {
    "duration": 18,
    "start_time": "2023-02-01T09:11:11.517Z"
   },
   {
    "duration": 19,
    "start_time": "2023-02-01T09:11:11.537Z"
   },
   {
    "duration": 6,
    "start_time": "2023-02-01T09:11:11.558Z"
   },
   {
    "duration": 18,
    "start_time": "2023-02-01T09:11:11.566Z"
   },
   {
    "duration": 9,
    "start_time": "2023-02-01T09:11:11.586Z"
   },
   {
    "duration": 5,
    "start_time": "2023-02-01T09:11:11.627Z"
   },
   {
    "duration": 329,
    "start_time": "2023-02-01T09:11:11.634Z"
   },
   {
    "duration": 72,
    "start_time": "2023-02-01T09:13:05.822Z"
   },
   {
    "duration": 13,
    "start_time": "2023-02-01T09:13:12.363Z"
   },
   {
    "duration": 21,
    "start_time": "2023-02-01T09:13:54.294Z"
   },
   {
    "duration": 19,
    "start_time": "2023-02-01T09:14:12.129Z"
   },
   {
    "duration": 81,
    "start_time": "2023-02-01T09:18:47.481Z"
   },
   {
    "duration": 284,
    "start_time": "2023-02-01T09:19:51.498Z"
   },
   {
    "duration": 288,
    "start_time": "2023-02-01T09:20:22.977Z"
   },
   {
    "duration": 243,
    "start_time": "2023-02-01T09:25:18.027Z"
   },
   {
    "duration": 361,
    "start_time": "2023-02-01T09:31:16.639Z"
   },
   {
    "duration": 738,
    "start_time": "2023-02-01T09:39:48.121Z"
   },
   {
    "duration": 15,
    "start_time": "2023-02-01T09:39:48.861Z"
   },
   {
    "duration": 15,
    "start_time": "2023-02-01T09:39:48.878Z"
   },
   {
    "duration": 21,
    "start_time": "2023-02-01T09:39:48.896Z"
   },
   {
    "duration": 10,
    "start_time": "2023-02-01T09:39:48.919Z"
   },
   {
    "duration": 24,
    "start_time": "2023-02-01T09:39:48.935Z"
   },
   {
    "duration": 19,
    "start_time": "2023-02-01T09:39:48.961Z"
   },
   {
    "duration": 13,
    "start_time": "2023-02-01T09:39:48.982Z"
   },
   {
    "duration": 13,
    "start_time": "2023-02-01T09:39:48.996Z"
   },
   {
    "duration": 25,
    "start_time": "2023-02-01T09:39:49.012Z"
   },
   {
    "duration": 13,
    "start_time": "2023-02-01T09:39:49.040Z"
   },
   {
    "duration": 17,
    "start_time": "2023-02-01T09:39:49.054Z"
   },
   {
    "duration": 9,
    "start_time": "2023-02-01T09:39:49.072Z"
   },
   {
    "duration": 30,
    "start_time": "2023-02-01T09:39:49.082Z"
   },
   {
    "duration": 20,
    "start_time": "2023-02-01T09:39:49.114Z"
   },
   {
    "duration": 14,
    "start_time": "2023-02-01T09:39:49.136Z"
   },
   {
    "duration": 15,
    "start_time": "2023-02-01T09:39:49.152Z"
   },
   {
    "duration": 19,
    "start_time": "2023-02-01T09:39:49.168Z"
   },
   {
    "duration": 26,
    "start_time": "2023-02-01T09:39:49.189Z"
   },
   {
    "duration": 6,
    "start_time": "2023-02-01T09:39:49.217Z"
   },
   {
    "duration": 30,
    "start_time": "2023-02-01T09:39:49.228Z"
   },
   {
    "duration": 7,
    "start_time": "2023-02-01T09:39:49.260Z"
   },
   {
    "duration": 22,
    "start_time": "2023-02-01T09:39:49.268Z"
   },
   {
    "duration": 36,
    "start_time": "2023-02-01T09:39:49.292Z"
   },
   {
    "duration": 13,
    "start_time": "2023-02-01T09:39:49.331Z"
   },
   {
    "duration": 29,
    "start_time": "2023-02-01T09:39:49.347Z"
   },
   {
    "duration": 5,
    "start_time": "2023-02-01T09:39:49.377Z"
   },
   {
    "duration": 359,
    "start_time": "2023-02-01T09:39:49.385Z"
   },
   {
    "duration": 379,
    "start_time": "2023-02-01T09:39:49.747Z"
   },
   {
    "duration": 358,
    "start_time": "2023-02-01T09:55:41.307Z"
   },
   {
    "duration": 434,
    "start_time": "2023-02-01T09:56:04.884Z"
   },
   {
    "duration": 376,
    "start_time": "2023-02-01T09:56:44.970Z"
   },
   {
    "duration": 351,
    "start_time": "2023-02-01T09:58:10.862Z"
   },
   {
    "duration": 396,
    "start_time": "2023-02-01T09:59:26.023Z"
   },
   {
    "duration": 330,
    "start_time": "2023-02-01T10:23:08.988Z"
   },
   {
    "duration": 291,
    "start_time": "2023-02-01T10:23:45.529Z"
   },
   {
    "duration": 313,
    "start_time": "2023-02-01T10:24:08.786Z"
   },
   {
    "duration": 421,
    "start_time": "2023-02-01T10:30:13.486Z"
   },
   {
    "duration": 348,
    "start_time": "2023-02-01T10:31:38.028Z"
   },
   {
    "duration": 83,
    "start_time": "2023-02-01T10:57:27.977Z"
   },
   {
    "duration": 83,
    "start_time": "2023-02-01T10:58:06.870Z"
   },
   {
    "duration": 692,
    "start_time": "2023-02-01T10:58:55.122Z"
   },
   {
    "duration": 15,
    "start_time": "2023-02-01T10:58:55.816Z"
   },
   {
    "duration": 27,
    "start_time": "2023-02-01T10:58:55.832Z"
   },
   {
    "duration": 40,
    "start_time": "2023-02-01T10:58:55.862Z"
   },
   {
    "duration": 51,
    "start_time": "2023-02-01T10:58:55.905Z"
   },
   {
    "duration": 47,
    "start_time": "2023-02-01T10:58:55.957Z"
   },
   {
    "duration": 38,
    "start_time": "2023-02-01T10:58:56.006Z"
   },
   {
    "duration": 22,
    "start_time": "2023-02-01T10:58:56.046Z"
   },
   {
    "duration": 47,
    "start_time": "2023-02-01T10:58:56.069Z"
   },
   {
    "duration": 30,
    "start_time": "2023-02-01T10:58:56.118Z"
   },
   {
    "duration": 42,
    "start_time": "2023-02-01T10:58:56.150Z"
   },
   {
    "duration": 25,
    "start_time": "2023-02-01T10:58:56.194Z"
   },
   {
    "duration": 31,
    "start_time": "2023-02-01T10:58:56.221Z"
   },
   {
    "duration": 41,
    "start_time": "2023-02-01T10:58:56.255Z"
   },
   {
    "duration": 37,
    "start_time": "2023-02-01T10:58:56.297Z"
   },
   {
    "duration": 48,
    "start_time": "2023-02-01T10:58:56.335Z"
   },
   {
    "duration": 63,
    "start_time": "2023-02-01T10:58:56.385Z"
   },
   {
    "duration": 21,
    "start_time": "2023-02-01T10:58:56.450Z"
   },
   {
    "duration": 33,
    "start_time": "2023-02-01T10:58:56.473Z"
   },
   {
    "duration": 30,
    "start_time": "2023-02-01T10:58:56.507Z"
   },
   {
    "duration": 44,
    "start_time": "2023-02-01T10:58:56.539Z"
   },
   {
    "duration": 23,
    "start_time": "2023-02-01T10:58:56.585Z"
   },
   {
    "duration": 41,
    "start_time": "2023-02-01T10:58:56.610Z"
   },
   {
    "duration": 32,
    "start_time": "2023-02-01T10:58:56.652Z"
   },
   {
    "duration": 23,
    "start_time": "2023-02-01T10:58:56.685Z"
   },
   {
    "duration": 37,
    "start_time": "2023-02-01T10:58:56.710Z"
   },
   {
    "duration": 7,
    "start_time": "2023-02-01T10:58:56.749Z"
   },
   {
    "duration": 321,
    "start_time": "2023-02-01T10:58:56.758Z"
   },
   {
    "duration": 324,
    "start_time": "2023-02-01T10:58:57.081Z"
   },
   {
    "duration": 67,
    "start_time": "2023-02-01T10:58:57.406Z"
   },
   {
    "duration": 81,
    "start_time": "2023-02-01T11:00:34.816Z"
   },
   {
    "duration": 85,
    "start_time": "2023-02-01T11:00:44.445Z"
   },
   {
    "duration": 7,
    "start_time": "2023-02-01T11:01:07.148Z"
   },
   {
    "duration": 9,
    "start_time": "2023-02-01T11:01:46.311Z"
   },
   {
    "duration": 127,
    "start_time": "2023-02-01T11:17:22.907Z"
   },
   {
    "duration": 181,
    "start_time": "2023-02-01T11:18:09.262Z"
   },
   {
    "duration": 147,
    "start_time": "2023-02-01T11:18:38.229Z"
   },
   {
    "duration": 116,
    "start_time": "2023-02-01T11:19:29.403Z"
   },
   {
    "duration": 129,
    "start_time": "2023-02-01T11:19:43.304Z"
   },
   {
    "duration": 134,
    "start_time": "2023-02-01T11:20:27.119Z"
   },
   {
    "duration": 142,
    "start_time": "2023-02-01T11:20:37.236Z"
   },
   {
    "duration": 74,
    "start_time": "2023-02-01T11:24:16.763Z"
   },
   {
    "duration": 132,
    "start_time": "2023-02-01T11:24:57.043Z"
   },
   {
    "duration": 115,
    "start_time": "2023-02-01T11:27:10.599Z"
   },
   {
    "duration": 133,
    "start_time": "2023-02-01T11:32:20.866Z"
   },
   {
    "duration": 136,
    "start_time": "2023-02-01T11:33:32.964Z"
   },
   {
    "duration": 129,
    "start_time": "2023-02-01T11:33:43.231Z"
   },
   {
    "duration": 21,
    "start_time": "2023-02-01T11:33:50.124Z"
   },
   {
    "duration": 297,
    "start_time": "2023-02-01T12:42:56.914Z"
   },
   {
    "duration": 158,
    "start_time": "2023-02-01T12:43:07.421Z"
   },
   {
    "duration": 166,
    "start_time": "2023-02-01T12:43:17.932Z"
   },
   {
    "duration": 162,
    "start_time": "2023-02-01T12:45:41.254Z"
   },
   {
    "duration": 679,
    "start_time": "2023-02-01T12:46:05.382Z"
   },
   {
    "duration": 16,
    "start_time": "2023-02-01T12:46:06.063Z"
   },
   {
    "duration": 15,
    "start_time": "2023-02-01T12:46:06.081Z"
   },
   {
    "duration": 23,
    "start_time": "2023-02-01T12:46:06.098Z"
   },
   {
    "duration": 7,
    "start_time": "2023-02-01T12:46:06.124Z"
   },
   {
    "duration": 10,
    "start_time": "2023-02-01T12:46:06.133Z"
   },
   {
    "duration": 26,
    "start_time": "2023-02-01T12:46:06.145Z"
   },
   {
    "duration": 14,
    "start_time": "2023-02-01T12:46:06.173Z"
   },
   {
    "duration": 14,
    "start_time": "2023-02-01T12:46:06.189Z"
   },
   {
    "duration": 30,
    "start_time": "2023-02-01T12:46:06.205Z"
   },
   {
    "duration": 12,
    "start_time": "2023-02-01T12:46:06.237Z"
   },
   {
    "duration": 13,
    "start_time": "2023-02-01T12:46:06.250Z"
   },
   {
    "duration": 16,
    "start_time": "2023-02-01T12:46:06.264Z"
   },
   {
    "duration": 25,
    "start_time": "2023-02-01T12:46:06.283Z"
   },
   {
    "duration": 12,
    "start_time": "2023-02-01T12:46:06.326Z"
   },
   {
    "duration": 12,
    "start_time": "2023-02-01T12:46:06.340Z"
   },
   {
    "duration": 13,
    "start_time": "2023-02-01T12:46:06.354Z"
   },
   {
    "duration": 20,
    "start_time": "2023-02-01T12:46:06.370Z"
   },
   {
    "duration": 18,
    "start_time": "2023-02-01T12:46:06.392Z"
   },
   {
    "duration": 17,
    "start_time": "2023-02-01T12:46:06.413Z"
   },
   {
    "duration": 24,
    "start_time": "2023-02-01T12:46:06.432Z"
   },
   {
    "duration": 6,
    "start_time": "2023-02-01T12:46:06.458Z"
   },
   {
    "duration": 21,
    "start_time": "2023-02-01T12:46:06.466Z"
   },
   {
    "duration": 20,
    "start_time": "2023-02-01T12:46:06.489Z"
   },
   {
    "duration": 8,
    "start_time": "2023-02-01T12:46:06.526Z"
   },
   {
    "duration": 22,
    "start_time": "2023-02-01T12:46:06.535Z"
   },
   {
    "duration": 4,
    "start_time": "2023-02-01T12:46:06.558Z"
   },
   {
    "duration": 347,
    "start_time": "2023-02-01T12:46:06.564Z"
   },
   {
    "duration": 345,
    "start_time": "2023-02-01T12:46:06.914Z"
   },
   {
    "duration": 138,
    "start_time": "2023-02-01T12:46:07.261Z"
   },
   {
    "duration": 27,
    "start_time": "2023-02-01T12:46:07.401Z"
   },
   {
    "duration": 225,
    "start_time": "2023-02-01T12:46:07.429Z"
   },
   {
    "duration": 199,
    "start_time": "2023-02-01T12:46:26.268Z"
   },
   {
    "duration": 158,
    "start_time": "2023-02-01T12:49:55.609Z"
   },
   {
    "duration": 57,
    "start_time": "2023-02-01T14:33:36.590Z"
   },
   {
    "duration": 972,
    "start_time": "2023-02-01T14:34:00.887Z"
   },
   {
    "duration": 19,
    "start_time": "2023-02-01T14:34:01.862Z"
   },
   {
    "duration": 26,
    "start_time": "2023-02-01T14:34:01.883Z"
   },
   {
    "duration": 24,
    "start_time": "2023-02-01T14:34:01.912Z"
   },
   {
    "duration": 20,
    "start_time": "2023-02-01T14:34:01.939Z"
   },
   {
    "duration": 18,
    "start_time": "2023-02-01T14:34:01.960Z"
   },
   {
    "duration": 39,
    "start_time": "2023-02-01T14:34:01.980Z"
   },
   {
    "duration": 20,
    "start_time": "2023-02-01T14:34:02.020Z"
   },
   {
    "duration": 25,
    "start_time": "2023-02-01T14:34:02.042Z"
   },
   {
    "duration": 22,
    "start_time": "2023-02-01T14:34:02.070Z"
   },
   {
    "duration": 20,
    "start_time": "2023-02-01T14:34:02.093Z"
   },
   {
    "duration": 21,
    "start_time": "2023-02-01T14:34:02.115Z"
   },
   {
    "duration": 17,
    "start_time": "2023-02-01T14:34:02.138Z"
   },
   {
    "duration": 32,
    "start_time": "2023-02-01T14:34:02.157Z"
   },
   {
    "duration": 20,
    "start_time": "2023-02-01T14:34:02.190Z"
   },
   {
    "duration": 18,
    "start_time": "2023-02-01T14:34:02.212Z"
   },
   {
    "duration": 22,
    "start_time": "2023-02-01T14:34:02.232Z"
   },
   {
    "duration": 7,
    "start_time": "2023-02-01T14:34:02.256Z"
   },
   {
    "duration": 36,
    "start_time": "2023-02-01T14:34:02.266Z"
   },
   {
    "duration": 7,
    "start_time": "2023-02-01T14:34:02.304Z"
   },
   {
    "duration": 24,
    "start_time": "2023-02-01T14:34:02.314Z"
   },
   {
    "duration": 7,
    "start_time": "2023-02-01T14:34:02.340Z"
   },
   {
    "duration": 32,
    "start_time": "2023-02-01T14:34:02.349Z"
   },
   {
    "duration": 29,
    "start_time": "2023-02-01T14:34:02.383Z"
   },
   {
    "duration": 11,
    "start_time": "2023-02-01T14:34:02.415Z"
   },
   {
    "duration": 50,
    "start_time": "2023-02-01T14:34:02.428Z"
   },
   {
    "duration": 9,
    "start_time": "2023-02-01T14:34:02.480Z"
   },
   {
    "duration": 370,
    "start_time": "2023-02-01T14:34:02.493Z"
   },
   {
    "duration": 381,
    "start_time": "2023-02-01T14:34:02.865Z"
   },
   {
    "duration": 159,
    "start_time": "2023-02-01T14:34:03.248Z"
   },
   {
    "duration": 26,
    "start_time": "2023-02-01T14:34:03.409Z"
   },
   {
    "duration": 256,
    "start_time": "2023-02-01T14:34:03.437Z"
   },
   {
    "duration": 195,
    "start_time": "2023-02-01T14:34:03.695Z"
   },
   {
    "duration": 8,
    "start_time": "2023-02-01T14:34:03.892Z"
   },
   {
    "duration": 4,
    "start_time": "2023-02-01T14:45:18.984Z"
   },
   {
    "duration": 23,
    "start_time": "2023-02-01T14:48:51.600Z"
   },
   {
    "duration": 24,
    "start_time": "2023-02-01T14:49:29.446Z"
   },
   {
    "duration": 6,
    "start_time": "2023-02-01T15:06:46.902Z"
   },
   {
    "duration": 336,
    "start_time": "2023-02-01T16:07:59.009Z"
   },
   {
    "duration": 347,
    "start_time": "2023-02-01T16:15:23.464Z"
   },
   {
    "duration": 383,
    "start_time": "2023-02-01T16:15:57.729Z"
   },
   {
    "duration": 346,
    "start_time": "2023-02-01T16:16:35.716Z"
   },
   {
    "duration": 409,
    "start_time": "2023-02-01T16:18:10.601Z"
   },
   {
    "duration": 313,
    "start_time": "2023-02-01T16:18:27.556Z"
   },
   {
    "duration": 309,
    "start_time": "2023-02-01T16:18:59.207Z"
   },
   {
    "duration": 332,
    "start_time": "2023-02-01T16:19:06.808Z"
   },
   {
    "duration": 399,
    "start_time": "2023-02-01T16:19:30.005Z"
   },
   {
    "duration": 46,
    "start_time": "2023-02-01T19:27:39.556Z"
   },
   {
    "duration": 1034,
    "start_time": "2023-02-01T19:28:16.430Z"
   },
   {
    "duration": 15,
    "start_time": "2023-02-01T19:28:17.466Z"
   },
   {
    "duration": 3,
    "start_time": "2023-02-01T19:28:17.483Z"
   },
   {
    "duration": 36,
    "start_time": "2023-02-01T19:28:17.488Z"
   },
   {
    "duration": 7,
    "start_time": "2023-02-01T19:28:17.526Z"
   },
   {
    "duration": 26,
    "start_time": "2023-02-01T19:28:17.534Z"
   },
   {
    "duration": 30,
    "start_time": "2023-02-01T19:28:17.562Z"
   },
   {
    "duration": 15,
    "start_time": "2023-02-01T19:28:17.594Z"
   },
   {
    "duration": 14,
    "start_time": "2023-02-01T19:28:17.610Z"
   },
   {
    "duration": 9,
    "start_time": "2023-02-01T19:28:17.626Z"
   },
   {
    "duration": 20,
    "start_time": "2023-02-01T19:28:17.636Z"
   },
   {
    "duration": 17,
    "start_time": "2023-02-01T19:28:17.657Z"
   },
   {
    "duration": 7,
    "start_time": "2023-02-01T19:28:17.675Z"
   },
   {
    "duration": 28,
    "start_time": "2023-02-01T19:28:17.685Z"
   },
   {
    "duration": 7,
    "start_time": "2023-02-01T19:28:17.714Z"
   },
   {
    "duration": 8,
    "start_time": "2023-02-01T19:28:17.722Z"
   },
   {
    "duration": 28,
    "start_time": "2023-02-01T19:28:17.731Z"
   },
   {
    "duration": 4,
    "start_time": "2023-02-01T19:28:17.761Z"
   },
   {
    "duration": 12,
    "start_time": "2023-02-01T19:28:17.767Z"
   },
   {
    "duration": 4,
    "start_time": "2023-02-01T19:28:17.780Z"
   },
   {
    "duration": 16,
    "start_time": "2023-02-01T19:28:17.785Z"
   },
   {
    "duration": 2,
    "start_time": "2023-02-01T19:28:17.803Z"
   },
   {
    "duration": 18,
    "start_time": "2023-02-01T19:28:17.807Z"
   },
   {
    "duration": 43,
    "start_time": "2023-02-01T19:28:17.826Z"
   },
   {
    "duration": 6,
    "start_time": "2023-02-01T19:28:17.871Z"
   },
   {
    "duration": 18,
    "start_time": "2023-02-01T19:28:17.878Z"
   },
   {
    "duration": 5,
    "start_time": "2023-02-01T19:28:17.897Z"
   },
   {
    "duration": 334,
    "start_time": "2023-02-01T19:28:17.903Z"
   },
   {
    "duration": 339,
    "start_time": "2023-02-01T19:28:18.238Z"
   },
   {
    "duration": 134,
    "start_time": "2023-02-01T19:28:18.579Z"
   },
   {
    "duration": 16,
    "start_time": "2023-02-01T19:28:18.715Z"
   },
   {
    "duration": 36,
    "start_time": "2023-02-01T19:28:18.733Z"
   },
   {
    "duration": 211,
    "start_time": "2023-02-01T19:28:18.771Z"
   },
   {
    "duration": 181,
    "start_time": "2023-02-01T19:28:18.983Z"
   },
   {
    "duration": 7,
    "start_time": "2023-02-01T19:28:19.166Z"
   },
   {
    "duration": 6,
    "start_time": "2023-02-01T19:28:19.174Z"
   },
   {
    "duration": 351,
    "start_time": "2023-02-01T19:28:19.182Z"
   },
   {
    "duration": 327,
    "start_time": "2023-02-01T19:28:19.535Z"
   },
   {
    "duration": 308,
    "start_time": "2023-02-01T19:28:19.864Z"
   },
   {
    "duration": 273,
    "start_time": "2023-02-01T19:28:47.851Z"
   },
   {
    "duration": 364,
    "start_time": "2023-02-01T19:29:35.702Z"
   },
   {
    "duration": 178,
    "start_time": "2023-02-01T19:32:05.821Z"
   },
   {
    "duration": 742,
    "start_time": "2023-02-01T20:40:34.278Z"
   },
   {
    "duration": 14,
    "start_time": "2023-02-01T20:40:35.022Z"
   },
   {
    "duration": 8,
    "start_time": "2023-02-01T20:40:35.038Z"
   },
   {
    "duration": 17,
    "start_time": "2023-02-01T20:40:35.048Z"
   },
   {
    "duration": 5,
    "start_time": "2023-02-01T20:40:35.067Z"
   },
   {
    "duration": 34,
    "start_time": "2023-02-01T20:40:35.073Z"
   },
   {
    "duration": 27,
    "start_time": "2023-02-01T20:40:35.108Z"
   },
   {
    "duration": 13,
    "start_time": "2023-02-01T20:40:35.136Z"
   },
   {
    "duration": 10,
    "start_time": "2023-02-01T20:40:35.150Z"
   },
   {
    "duration": 12,
    "start_time": "2023-02-01T20:40:35.162Z"
   },
   {
    "duration": 21,
    "start_time": "2023-02-01T20:40:35.176Z"
   },
   {
    "duration": 13,
    "start_time": "2023-02-01T20:40:35.199Z"
   },
   {
    "duration": 9,
    "start_time": "2023-02-01T20:40:35.213Z"
   },
   {
    "duration": 36,
    "start_time": "2023-02-01T20:40:35.224Z"
   },
   {
    "duration": 9,
    "start_time": "2023-02-01T20:40:35.261Z"
   },
   {
    "duration": 7,
    "start_time": "2023-02-01T20:40:35.271Z"
   },
   {
    "duration": 14,
    "start_time": "2023-02-01T20:40:35.279Z"
   },
   {
    "duration": 8,
    "start_time": "2023-02-01T20:40:35.295Z"
   },
   {
    "duration": 11,
    "start_time": "2023-02-01T20:40:35.304Z"
   },
   {
    "duration": 29,
    "start_time": "2023-02-01T20:40:35.316Z"
   },
   {
    "duration": 20,
    "start_time": "2023-02-01T20:40:35.347Z"
   },
   {
    "duration": 2,
    "start_time": "2023-02-01T20:40:35.369Z"
   },
   {
    "duration": 17,
    "start_time": "2023-02-01T20:40:35.373Z"
   },
   {
    "duration": 19,
    "start_time": "2023-02-01T20:40:35.391Z"
   },
   {
    "duration": 6,
    "start_time": "2023-02-01T20:40:35.411Z"
   },
   {
    "duration": 33,
    "start_time": "2023-02-01T20:40:35.418Z"
   },
   {
    "duration": 3,
    "start_time": "2023-02-01T20:40:35.452Z"
   },
   {
    "duration": 327,
    "start_time": "2023-02-01T20:40:35.458Z"
   },
   {
    "duration": 323,
    "start_time": "2023-02-01T20:40:35.787Z"
   },
   {
    "duration": 134,
    "start_time": "2023-02-01T20:40:36.111Z"
   },
   {
    "duration": 17,
    "start_time": "2023-02-01T20:40:36.247Z"
   },
   {
    "duration": 22,
    "start_time": "2023-02-01T20:40:36.265Z"
   },
   {
    "duration": 205,
    "start_time": "2023-02-01T20:40:36.288Z"
   },
   {
    "duration": 147,
    "start_time": "2023-02-01T20:40:36.494Z"
   },
   {
    "duration": 6,
    "start_time": "2023-02-01T20:40:36.643Z"
   },
   {
    "duration": 12,
    "start_time": "2023-02-01T20:40:36.651Z"
   },
   {
    "duration": 305,
    "start_time": "2023-02-01T20:40:36.664Z"
   },
   {
    "duration": 305,
    "start_time": "2023-02-01T20:40:36.971Z"
   },
   {
    "duration": 289,
    "start_time": "2023-02-01T20:40:37.278Z"
   },
   {
    "duration": 198,
    "start_time": "2023-02-01T20:40:37.568Z"
   },
   {
    "duration": 209,
    "start_time": "2023-02-01T20:40:37.767Z"
   },
   {
    "duration": 41,
    "start_time": "2023-02-01T20:44:24.121Z"
   },
   {
    "duration": 165,
    "start_time": "2023-02-01T20:45:22.481Z"
   },
   {
    "duration": 7,
    "start_time": "2023-02-01T20:55:43.713Z"
   },
   {
    "duration": 8,
    "start_time": "2023-02-01T21:00:32.162Z"
   },
   {
    "duration": 8,
    "start_time": "2023-02-01T21:02:47.530Z"
   },
   {
    "duration": 642,
    "start_time": "2023-02-01T21:36:44.899Z"
   },
   {
    "duration": 20,
    "start_time": "2023-02-01T21:36:45.543Z"
   },
   {
    "duration": 5,
    "start_time": "2023-02-01T21:36:45.565Z"
   },
   {
    "duration": 16,
    "start_time": "2023-02-01T21:36:45.572Z"
   },
   {
    "duration": 8,
    "start_time": "2023-02-01T21:36:45.589Z"
   },
   {
    "duration": 16,
    "start_time": "2023-02-01T21:36:45.599Z"
   },
   {
    "duration": 30,
    "start_time": "2023-02-01T21:36:45.617Z"
   },
   {
    "duration": 16,
    "start_time": "2023-02-01T21:36:45.649Z"
   },
   {
    "duration": 12,
    "start_time": "2023-02-01T21:36:45.667Z"
   },
   {
    "duration": 8,
    "start_time": "2023-02-01T21:36:45.682Z"
   },
   {
    "duration": 14,
    "start_time": "2023-02-01T21:36:45.692Z"
   },
   {
    "duration": 17,
    "start_time": "2023-02-01T21:36:45.708Z"
   },
   {
    "duration": 29,
    "start_time": "2023-02-01T21:36:45.727Z"
   },
   {
    "duration": 33,
    "start_time": "2023-02-01T21:36:45.758Z"
   },
   {
    "duration": 24,
    "start_time": "2023-02-01T21:36:45.795Z"
   },
   {
    "duration": 9,
    "start_time": "2023-02-01T21:36:45.820Z"
   },
   {
    "duration": 21,
    "start_time": "2023-02-01T21:36:45.830Z"
   },
   {
    "duration": 13,
    "start_time": "2023-02-01T21:36:45.852Z"
   },
   {
    "duration": 13,
    "start_time": "2023-02-01T21:36:45.866Z"
   },
   {
    "duration": 8,
    "start_time": "2023-02-01T21:36:45.880Z"
   },
   {
    "duration": 13,
    "start_time": "2023-02-01T21:36:45.889Z"
   },
   {
    "duration": 4,
    "start_time": "2023-02-01T21:36:45.903Z"
   },
   {
    "duration": 33,
    "start_time": "2023-02-01T21:36:45.908Z"
   },
   {
    "duration": 28,
    "start_time": "2023-02-01T21:36:45.942Z"
   },
   {
    "duration": 6,
    "start_time": "2023-02-01T21:36:45.972Z"
   },
   {
    "duration": 24,
    "start_time": "2023-02-01T21:36:45.979Z"
   },
   {
    "duration": 4,
    "start_time": "2023-02-01T21:36:46.004Z"
   },
   {
    "duration": 302,
    "start_time": "2023-02-01T21:36:46.011Z"
   },
   {
    "duration": 303,
    "start_time": "2023-02-01T21:36:46.314Z"
   },
   {
    "duration": 140,
    "start_time": "2023-02-01T21:36:46.619Z"
   },
   {
    "duration": 17,
    "start_time": "2023-02-01T21:36:46.761Z"
   },
   {
    "duration": 19,
    "start_time": "2023-02-01T21:36:46.780Z"
   },
   {
    "duration": 199,
    "start_time": "2023-02-01T21:36:46.801Z"
   },
   {
    "duration": 163,
    "start_time": "2023-02-01T21:36:47.002Z"
   },
   {
    "duration": 5,
    "start_time": "2023-02-01T21:36:47.167Z"
   },
   {
    "duration": 30,
    "start_time": "2023-02-01T21:36:47.174Z"
   },
   {
    "duration": 333,
    "start_time": "2023-02-01T21:36:47.205Z"
   },
   {
    "duration": 335,
    "start_time": "2023-02-01T21:36:47.540Z"
   },
   {
    "duration": 294,
    "start_time": "2023-02-01T21:36:47.876Z"
   },
   {
    "duration": 187,
    "start_time": "2023-02-01T21:36:48.171Z"
   },
   {
    "duration": 167,
    "start_time": "2023-02-01T21:36:48.360Z"
   },
   {
    "duration": 27,
    "start_time": "2023-02-01T21:36:48.529Z"
   },
   {
    "duration": 169,
    "start_time": "2023-02-01T21:36:48.558Z"
   },
   {
    "duration": 6,
    "start_time": "2023-02-01T21:38:59.323Z"
   },
   {
    "duration": 250,
    "start_time": "2023-02-01T21:43:31.661Z"
   },
   {
    "duration": 6,
    "start_time": "2023-02-01T21:43:47.606Z"
   },
   {
    "duration": 684,
    "start_time": "2023-02-01T21:43:54.496Z"
   },
   {
    "duration": 12,
    "start_time": "2023-02-01T21:43:55.182Z"
   },
   {
    "duration": 4,
    "start_time": "2023-02-01T21:43:55.196Z"
   },
   {
    "duration": 14,
    "start_time": "2023-02-01T21:43:55.202Z"
   },
   {
    "duration": 5,
    "start_time": "2023-02-01T21:43:55.217Z"
   },
   {
    "duration": 24,
    "start_time": "2023-02-01T21:43:55.224Z"
   },
   {
    "duration": 18,
    "start_time": "2023-02-01T21:43:55.249Z"
   },
   {
    "duration": 12,
    "start_time": "2023-02-01T21:43:55.268Z"
   },
   {
    "duration": 8,
    "start_time": "2023-02-01T21:43:55.281Z"
   },
   {
    "duration": 9,
    "start_time": "2023-02-01T21:43:55.292Z"
   },
   {
    "duration": 7,
    "start_time": "2023-02-01T21:43:55.302Z"
   },
   {
    "duration": 42,
    "start_time": "2023-02-01T21:43:55.311Z"
   },
   {
    "duration": 8,
    "start_time": "2023-02-01T21:43:55.355Z"
   },
   {
    "duration": 22,
    "start_time": "2023-02-01T21:43:55.364Z"
   },
   {
    "duration": 7,
    "start_time": "2023-02-01T21:43:55.388Z"
   },
   {
    "duration": 6,
    "start_time": "2023-02-01T21:43:55.397Z"
   },
   {
    "duration": 46,
    "start_time": "2023-02-01T21:43:55.404Z"
   },
   {
    "duration": 5,
    "start_time": "2023-02-01T21:43:55.452Z"
   },
   {
    "duration": 14,
    "start_time": "2023-02-01T21:43:55.459Z"
   },
   {
    "duration": 5,
    "start_time": "2023-02-01T21:43:55.474Z"
   },
   {
    "duration": 14,
    "start_time": "2023-02-01T21:43:55.480Z"
   },
   {
    "duration": 5,
    "start_time": "2023-02-01T21:43:55.495Z"
   },
   {
    "duration": 18,
    "start_time": "2023-02-01T21:43:55.501Z"
   },
   {
    "duration": 19,
    "start_time": "2023-02-01T21:43:55.544Z"
   },
   {
    "duration": 7,
    "start_time": "2023-02-01T21:43:55.564Z"
   },
   {
    "duration": 33,
    "start_time": "2023-02-01T21:43:55.572Z"
   },
   {
    "duration": 19,
    "start_time": "2023-02-01T21:43:55.607Z"
   },
   {
    "duration": 296,
    "start_time": "2023-02-01T21:43:55.629Z"
   },
   {
    "duration": 307,
    "start_time": "2023-02-01T21:43:55.926Z"
   },
   {
    "duration": 126,
    "start_time": "2023-02-01T21:43:56.235Z"
   },
   {
    "duration": 17,
    "start_time": "2023-02-01T21:43:56.363Z"
   },
   {
    "duration": 33,
    "start_time": "2023-02-01T21:43:56.381Z"
   },
   {
    "duration": 223,
    "start_time": "2023-02-01T21:43:56.416Z"
   },
   {
    "duration": 161,
    "start_time": "2023-02-01T21:43:56.644Z"
   },
   {
    "duration": 6,
    "start_time": "2023-02-01T21:43:56.806Z"
   },
   {
    "duration": 10,
    "start_time": "2023-02-01T21:43:56.813Z"
   },
   {
    "duration": 430,
    "start_time": "2023-02-01T21:43:56.824Z"
   },
   {
    "duration": 349,
    "start_time": "2023-02-01T21:43:57.256Z"
   },
   {
    "duration": 290,
    "start_time": "2023-02-01T21:43:57.606Z"
   },
   {
    "duration": 193,
    "start_time": "2023-02-01T21:43:57.897Z"
   },
   {
    "duration": 165,
    "start_time": "2023-02-01T21:43:58.091Z"
   },
   {
    "duration": 7,
    "start_time": "2023-02-01T21:43:58.257Z"
   },
   {
    "duration": 170,
    "start_time": "2023-02-01T21:43:58.266Z"
   },
   {
    "duration": 10,
    "start_time": "2023-02-01T21:43:58.437Z"
   },
   {
    "duration": 226,
    "start_time": "2023-02-01T21:43:58.448Z"
   },
   {
    "duration": 6,
    "start_time": "2023-02-01T21:43:58.675Z"
   },
   {
    "duration": 169,
    "start_time": "2023-02-01T21:49:44.840Z"
   },
   {
    "duration": 7,
    "start_time": "2023-02-01T21:49:57.918Z"
   },
   {
    "duration": 50,
    "start_time": "2023-02-02T10:16:12.665Z"
   },
   {
    "duration": 1220,
    "start_time": "2023-02-02T10:16:24.249Z"
   },
   {
    "duration": 18,
    "start_time": "2023-02-02T10:16:25.471Z"
   },
   {
    "duration": 4,
    "start_time": "2023-02-02T10:16:25.491Z"
   },
   {
    "duration": 14,
    "start_time": "2023-02-02T10:16:25.498Z"
   },
   {
    "duration": 7,
    "start_time": "2023-02-02T10:16:25.520Z"
   },
   {
    "duration": 10,
    "start_time": "2023-02-02T10:16:25.529Z"
   },
   {
    "duration": 22,
    "start_time": "2023-02-02T10:16:25.541Z"
   },
   {
    "duration": 14,
    "start_time": "2023-02-02T10:16:25.565Z"
   },
   {
    "duration": 44,
    "start_time": "2023-02-02T10:16:25.581Z"
   },
   {
    "duration": 9,
    "start_time": "2023-02-02T10:16:25.628Z"
   },
   {
    "duration": 13,
    "start_time": "2023-02-02T10:16:25.639Z"
   },
   {
    "duration": 19,
    "start_time": "2023-02-02T10:16:25.654Z"
   },
   {
    "duration": 10,
    "start_time": "2023-02-02T10:16:25.675Z"
   },
   {
    "duration": 43,
    "start_time": "2023-02-02T10:16:25.686Z"
   },
   {
    "duration": 13,
    "start_time": "2023-02-02T10:16:25.731Z"
   },
   {
    "duration": 11,
    "start_time": "2023-02-02T10:16:25.746Z"
   },
   {
    "duration": 13,
    "start_time": "2023-02-02T10:16:25.759Z"
   },
   {
    "duration": 6,
    "start_time": "2023-02-02T10:16:25.774Z"
   },
   {
    "duration": 43,
    "start_time": "2023-02-02T10:16:25.782Z"
   },
   {
    "duration": 5,
    "start_time": "2023-02-02T10:16:25.827Z"
   },
   {
    "duration": 24,
    "start_time": "2023-02-02T10:16:25.834Z"
   },
   {
    "duration": 4,
    "start_time": "2023-02-02T10:16:25.860Z"
   },
   {
    "duration": 20,
    "start_time": "2023-02-02T10:16:25.865Z"
   },
   {
    "duration": 47,
    "start_time": "2023-02-02T10:16:25.887Z"
   },
   {
    "duration": 7,
    "start_time": "2023-02-02T10:16:25.936Z"
   },
   {
    "duration": 25,
    "start_time": "2023-02-02T10:16:25.945Z"
   },
   {
    "duration": 6,
    "start_time": "2023-02-02T10:16:25.972Z"
   },
   {
    "duration": 390,
    "start_time": "2023-02-02T10:16:25.982Z"
   },
   {
    "duration": 375,
    "start_time": "2023-02-02T10:16:26.375Z"
   },
   {
    "duration": 175,
    "start_time": "2023-02-02T10:16:26.752Z"
   },
   {
    "duration": 31,
    "start_time": "2023-02-02T10:16:26.929Z"
   },
   {
    "duration": 24,
    "start_time": "2023-02-02T10:16:26.963Z"
   },
   {
    "duration": 266,
    "start_time": "2023-02-02T10:16:26.989Z"
   },
   {
    "duration": 178,
    "start_time": "2023-02-02T10:16:27.257Z"
   },
   {
    "duration": 8,
    "start_time": "2023-02-02T10:16:27.438Z"
   },
   {
    "duration": 7,
    "start_time": "2023-02-02T10:16:27.447Z"
   },
   {
    "duration": 375,
    "start_time": "2023-02-02T10:16:27.456Z"
   },
   {
    "duration": 377,
    "start_time": "2023-02-02T10:16:27.833Z"
   },
   {
    "duration": 357,
    "start_time": "2023-02-02T10:16:28.212Z"
   },
   {
    "duration": 252,
    "start_time": "2023-02-02T10:16:28.571Z"
   },
   {
    "duration": 224,
    "start_time": "2023-02-02T10:16:28.826Z"
   },
   {
    "duration": 11,
    "start_time": "2023-02-02T10:16:29.053Z"
   },
   {
    "duration": 229,
    "start_time": "2023-02-02T10:16:29.067Z"
   },
   {
    "duration": 6,
    "start_time": "2023-02-02T10:16:29.299Z"
   },
   {
    "duration": 279,
    "start_time": "2023-02-02T10:16:29.307Z"
   },
   {
    "duration": 8,
    "start_time": "2023-02-02T10:16:29.588Z"
   },
   {
    "duration": 206,
    "start_time": "2023-02-02T10:16:29.598Z"
   },
   {
    "duration": 6,
    "start_time": "2023-02-02T10:16:29.806Z"
   },
   {
    "duration": 200,
    "start_time": "2023-02-02T10:16:29.821Z"
   },
   {
    "duration": 9,
    "start_time": "2023-02-02T10:22:09.309Z"
   },
   {
    "duration": 215,
    "start_time": "2023-02-02T10:29:30.322Z"
   },
   {
    "duration": 8,
    "start_time": "2023-02-02T10:29:53.244Z"
   },
   {
    "duration": 211,
    "start_time": "2023-02-02T10:33:47.935Z"
   },
   {
    "duration": 7,
    "start_time": "2023-02-02T10:34:12.089Z"
   },
   {
    "duration": 210,
    "start_time": "2023-02-02T10:50:28.263Z"
   },
   {
    "duration": 7,
    "start_time": "2023-02-02T10:50:37.163Z"
   },
   {
    "duration": 3,
    "start_time": "2023-02-02T14:16:23.992Z"
   },
   {
    "duration": 55,
    "start_time": "2023-02-02T14:23:34.922Z"
   },
   {
    "duration": 1313,
    "start_time": "2023-02-02T14:23:42.959Z"
   },
   {
    "duration": 14,
    "start_time": "2023-02-02T14:23:44.274Z"
   },
   {
    "duration": 3,
    "start_time": "2023-02-02T14:23:44.290Z"
   },
   {
    "duration": 16,
    "start_time": "2023-02-02T14:23:44.295Z"
   },
   {
    "duration": 6,
    "start_time": "2023-02-02T14:23:44.313Z"
   },
   {
    "duration": 11,
    "start_time": "2023-02-02T14:23:44.320Z"
   },
   {
    "duration": 26,
    "start_time": "2023-02-02T14:23:44.344Z"
   },
   {
    "duration": 15,
    "start_time": "2023-02-02T14:23:44.372Z"
   },
   {
    "duration": 13,
    "start_time": "2023-02-02T14:23:44.388Z"
   },
   {
    "duration": 8,
    "start_time": "2023-02-02T14:23:44.403Z"
   },
   {
    "duration": 12,
    "start_time": "2023-02-02T14:23:44.413Z"
   },
   {
    "duration": 40,
    "start_time": "2023-02-02T14:23:44.426Z"
   },
   {
    "duration": 14,
    "start_time": "2023-02-02T14:23:44.468Z"
   },
   {
    "duration": 27,
    "start_time": "2023-02-02T14:23:44.485Z"
   },
   {
    "duration": 9,
    "start_time": "2023-02-02T14:23:44.513Z"
   },
   {
    "duration": 7,
    "start_time": "2023-02-02T14:23:44.524Z"
   },
   {
    "duration": 27,
    "start_time": "2023-02-02T14:23:44.532Z"
   },
   {
    "duration": 6,
    "start_time": "2023-02-02T14:23:44.561Z"
   },
   {
    "duration": 16,
    "start_time": "2023-02-02T14:23:44.569Z"
   },
   {
    "duration": 5,
    "start_time": "2023-02-02T14:23:44.587Z"
   },
   {
    "duration": 15,
    "start_time": "2023-02-02T14:23:44.593Z"
   },
   {
    "duration": 6,
    "start_time": "2023-02-02T14:23:44.610Z"
   },
   {
    "duration": 45,
    "start_time": "2023-02-02T14:23:44.617Z"
   },
   {
    "duration": 19,
    "start_time": "2023-02-02T14:23:44.664Z"
   },
   {
    "duration": 13,
    "start_time": "2023-02-02T14:23:44.685Z"
   },
   {
    "duration": 33,
    "start_time": "2023-02-02T14:23:44.699Z"
   },
   {
    "duration": 32,
    "start_time": "2023-02-02T14:23:44.733Z"
   },
   {
    "duration": 406,
    "start_time": "2023-02-02T14:23:44.767Z"
   },
   {
    "duration": 321,
    "start_time": "2023-02-02T14:23:45.174Z"
   },
   {
    "duration": 137,
    "start_time": "2023-02-02T14:23:45.497Z"
   },
   {
    "duration": 28,
    "start_time": "2023-02-02T14:23:45.643Z"
   },
   {
    "duration": 28,
    "start_time": "2023-02-02T14:23:45.673Z"
   },
   {
    "duration": 231,
    "start_time": "2023-02-02T14:23:45.702Z"
   },
   {
    "duration": 164,
    "start_time": "2023-02-02T14:23:45.935Z"
   },
   {
    "duration": 6,
    "start_time": "2023-02-02T14:23:46.101Z"
   },
   {
    "duration": 9,
    "start_time": "2023-02-02T14:23:46.108Z"
   },
   {
    "duration": 336,
    "start_time": "2023-02-02T14:23:46.119Z"
   },
   {
    "duration": 332,
    "start_time": "2023-02-02T14:23:46.456Z"
   },
   {
    "duration": 301,
    "start_time": "2023-02-02T14:23:46.790Z"
   },
   {
    "duration": 228,
    "start_time": "2023-02-02T14:23:47.094Z"
   },
   {
    "duration": 194,
    "start_time": "2023-02-02T14:23:47.327Z"
   },
   {
    "duration": 8,
    "start_time": "2023-02-02T14:23:47.524Z"
   },
   {
    "duration": 182,
    "start_time": "2023-02-02T14:23:47.548Z"
   },
   {
    "duration": 6,
    "start_time": "2023-02-02T14:23:47.732Z"
   },
   {
    "duration": 235,
    "start_time": "2023-02-02T14:23:47.744Z"
   },
   {
    "duration": 6,
    "start_time": "2023-02-02T14:23:47.981Z"
   },
   {
    "duration": 197,
    "start_time": "2023-02-02T14:23:47.989Z"
   },
   {
    "duration": 6,
    "start_time": "2023-02-02T14:23:48.188Z"
   },
   {
    "duration": 183,
    "start_time": "2023-02-02T14:23:48.195Z"
   },
   {
    "duration": 8,
    "start_time": "2023-02-02T14:23:48.380Z"
   },
   {
    "duration": 196,
    "start_time": "2023-02-02T14:23:48.389Z"
   },
   {
    "duration": 6,
    "start_time": "2023-02-02T14:23:48.587Z"
   },
   {
    "duration": 194,
    "start_time": "2023-02-02T14:23:48.595Z"
   },
   {
    "duration": 6,
    "start_time": "2023-02-02T14:23:48.791Z"
   },
   {
    "duration": 182,
    "start_time": "2023-02-02T14:23:48.798Z"
   },
   {
    "duration": 6,
    "start_time": "2023-02-02T14:23:48.981Z"
   },
   {
    "duration": 184,
    "start_time": "2023-02-02T14:23:48.988Z"
   },
   {
    "duration": 172,
    "start_time": "2023-02-02T14:24:08.510Z"
   },
   {
    "duration": 188,
    "start_time": "2023-02-02T14:32:35.070Z"
   },
   {
    "duration": 183,
    "start_time": "2023-02-02T14:35:55.672Z"
   },
   {
    "duration": 188,
    "start_time": "2023-02-02T14:38:45.628Z"
   },
   {
    "duration": 251,
    "start_time": "2023-02-02T14:39:10.830Z"
   },
   {
    "duration": 1469,
    "start_time": "2023-02-02T16:33:21.211Z"
   },
   {
    "duration": 14,
    "start_time": "2023-02-02T16:33:22.682Z"
   },
   {
    "duration": 6,
    "start_time": "2023-02-02T16:33:22.698Z"
   },
   {
    "duration": 21,
    "start_time": "2023-02-02T16:33:22.705Z"
   },
   {
    "duration": 7,
    "start_time": "2023-02-02T16:33:22.728Z"
   },
   {
    "duration": 11,
    "start_time": "2023-02-02T16:33:22.736Z"
   },
   {
    "duration": 25,
    "start_time": "2023-02-02T16:33:22.749Z"
   },
   {
    "duration": 24,
    "start_time": "2023-02-02T16:33:22.777Z"
   },
   {
    "duration": 38,
    "start_time": "2023-02-02T16:33:22.803Z"
   },
   {
    "duration": 10,
    "start_time": "2023-02-02T16:33:22.843Z"
   },
   {
    "duration": 16,
    "start_time": "2023-02-02T16:33:22.855Z"
   },
   {
    "duration": 29,
    "start_time": "2023-02-02T16:33:22.873Z"
   },
   {
    "duration": 35,
    "start_time": "2023-02-02T16:33:22.903Z"
   },
   {
    "duration": 25,
    "start_time": "2023-02-02T16:33:22.941Z"
   },
   {
    "duration": 18,
    "start_time": "2023-02-02T16:33:22.968Z"
   },
   {
    "duration": 21,
    "start_time": "2023-02-02T16:33:22.988Z"
   },
   {
    "duration": 51,
    "start_time": "2023-02-02T16:33:23.011Z"
   },
   {
    "duration": 21,
    "start_time": "2023-02-02T16:33:23.064Z"
   },
   {
    "duration": 37,
    "start_time": "2023-02-02T16:33:23.087Z"
   },
   {
    "duration": 13,
    "start_time": "2023-02-02T16:33:23.126Z"
   },
   {
    "duration": 23,
    "start_time": "2023-02-02T16:33:23.141Z"
   },
   {
    "duration": 6,
    "start_time": "2023-02-02T16:33:23.166Z"
   },
   {
    "duration": 19,
    "start_time": "2023-02-02T16:33:23.174Z"
   },
   {
    "duration": 34,
    "start_time": "2023-02-02T16:33:23.195Z"
   },
   {
    "duration": 7,
    "start_time": "2023-02-02T16:33:23.231Z"
   },
   {
    "duration": 43,
    "start_time": "2023-02-02T16:33:23.239Z"
   },
   {
    "duration": 4,
    "start_time": "2023-02-02T16:33:23.283Z"
   },
   {
    "duration": 328,
    "start_time": "2023-02-02T16:33:23.289Z"
   },
   {
    "duration": 329,
    "start_time": "2023-02-02T16:33:23.619Z"
   },
   {
    "duration": 158,
    "start_time": "2023-02-02T16:33:23.950Z"
   },
   {
    "duration": 19,
    "start_time": "2023-02-02T16:33:24.110Z"
   },
   {
    "duration": 23,
    "start_time": "2023-02-02T16:33:24.130Z"
   },
   {
    "duration": 172,
    "start_time": "2023-02-02T16:33:24.154Z"
   },
   {
    "duration": 171,
    "start_time": "2023-02-02T16:33:24.328Z"
   },
   {
    "duration": 6,
    "start_time": "2023-02-02T16:33:24.501Z"
   },
   {
    "duration": 30,
    "start_time": "2023-02-02T16:33:24.508Z"
   },
   {
    "duration": 353,
    "start_time": "2023-02-02T16:33:24.540Z"
   },
   {
    "duration": 405,
    "start_time": "2023-02-02T16:33:24.894Z"
   },
   {
    "duration": 291,
    "start_time": "2023-02-02T16:33:25.300Z"
   },
   {
    "duration": 192,
    "start_time": "2023-02-02T16:33:25.593Z"
   },
   {
    "duration": 182,
    "start_time": "2023-02-02T16:33:25.788Z"
   },
   {
    "duration": 8,
    "start_time": "2023-02-02T16:33:25.972Z"
   },
   {
    "duration": 216,
    "start_time": "2023-02-02T16:33:25.981Z"
   },
   {
    "duration": 6,
    "start_time": "2023-02-02T16:33:26.198Z"
   },
   {
    "duration": 173,
    "start_time": "2023-02-02T16:33:26.206Z"
   },
   {
    "duration": 6,
    "start_time": "2023-02-02T16:33:26.381Z"
   },
   {
    "duration": 201,
    "start_time": "2023-02-02T16:33:26.389Z"
   },
   {
    "duration": 11,
    "start_time": "2023-02-02T16:33:26.592Z"
   },
   {
    "duration": 202,
    "start_time": "2023-02-02T16:33:26.605Z"
   },
   {
    "duration": 9,
    "start_time": "2023-02-02T16:33:26.809Z"
   },
   {
    "duration": 228,
    "start_time": "2023-02-02T16:33:26.820Z"
   },
   {
    "duration": 7,
    "start_time": "2023-02-02T16:33:27.049Z"
   },
   {
    "duration": 235,
    "start_time": "2023-02-02T16:33:27.057Z"
   },
   {
    "duration": 9,
    "start_time": "2023-02-02T16:33:27.293Z"
   },
   {
    "duration": 318,
    "start_time": "2023-02-02T16:33:27.304Z"
   },
   {
    "duration": 6,
    "start_time": "2023-02-02T16:33:27.624Z"
   },
   {
    "duration": 205,
    "start_time": "2023-02-02T16:33:27.631Z"
   },
   {
    "duration": 217,
    "start_time": "2023-02-02T16:33:27.838Z"
   },
   {
    "duration": 175,
    "start_time": "2023-02-02T16:33:28.057Z"
   },
   {
    "duration": 201,
    "start_time": "2023-02-02T16:33:28.234Z"
   },
   {
    "duration": 97,
    "start_time": "2023-02-02T16:33:28.437Z"
   },
   {
    "duration": 10,
    "start_time": "2023-02-02T16:33:50.002Z"
   },
   {
    "duration": 1187,
    "start_time": "2023-02-02T16:41:04.720Z"
   },
   {
    "duration": 14,
    "start_time": "2023-02-02T16:41:05.909Z"
   },
   {
    "duration": 67,
    "start_time": "2023-02-02T16:41:05.924Z"
   },
   {
    "duration": 39,
    "start_time": "2023-02-02T16:41:05.993Z"
   },
   {
    "duration": 32,
    "start_time": "2023-02-02T16:41:06.033Z"
   },
   {
    "duration": 47,
    "start_time": "2023-02-02T16:41:06.066Z"
   },
   {
    "duration": 79,
    "start_time": "2023-02-02T16:41:06.114Z"
   },
   {
    "duration": 25,
    "start_time": "2023-02-02T16:41:06.195Z"
   },
   {
    "duration": 57,
    "start_time": "2023-02-02T16:41:06.221Z"
   },
   {
    "duration": 30,
    "start_time": "2023-02-02T16:41:06.281Z"
   },
   {
    "duration": 29,
    "start_time": "2023-02-02T16:41:06.313Z"
   },
   {
    "duration": 47,
    "start_time": "2023-02-02T16:41:06.344Z"
   },
   {
    "duration": 35,
    "start_time": "2023-02-02T16:41:06.392Z"
   },
   {
    "duration": 50,
    "start_time": "2023-02-02T16:41:06.429Z"
   },
   {
    "duration": 47,
    "start_time": "2023-02-02T16:41:06.480Z"
   },
   {
    "duration": 42,
    "start_time": "2023-02-02T16:41:06.529Z"
   },
   {
    "duration": 67,
    "start_time": "2023-02-02T16:41:06.573Z"
   },
   {
    "duration": 24,
    "start_time": "2023-02-02T16:41:06.642Z"
   },
   {
    "duration": 58,
    "start_time": "2023-02-02T16:41:06.668Z"
   },
   {
    "duration": 33,
    "start_time": "2023-02-02T16:41:06.728Z"
   },
   {
    "duration": 35,
    "start_time": "2023-02-02T16:41:06.763Z"
   },
   {
    "duration": 50,
    "start_time": "2023-02-02T16:41:06.799Z"
   },
   {
    "duration": 50,
    "start_time": "2023-02-02T16:41:06.850Z"
   },
   {
    "duration": 48,
    "start_time": "2023-02-02T16:41:06.902Z"
   },
   {
    "duration": 13,
    "start_time": "2023-02-02T16:41:06.952Z"
   },
   {
    "duration": 63,
    "start_time": "2023-02-02T16:41:06.966Z"
   },
   {
    "duration": 27,
    "start_time": "2023-02-02T16:41:07.031Z"
   },
   {
    "duration": 324,
    "start_time": "2023-02-02T16:41:07.061Z"
   },
   {
    "duration": 308,
    "start_time": "2023-02-02T16:41:07.387Z"
   },
   {
    "duration": 144,
    "start_time": "2023-02-02T16:41:07.699Z"
   },
   {
    "duration": 19,
    "start_time": "2023-02-02T16:41:07.844Z"
   },
   {
    "duration": 38,
    "start_time": "2023-02-02T16:41:07.865Z"
   },
   {
    "duration": 161,
    "start_time": "2023-02-02T16:41:07.906Z"
   },
   {
    "duration": 172,
    "start_time": "2023-02-02T16:41:08.069Z"
   },
   {
    "duration": 7,
    "start_time": "2023-02-02T16:41:08.243Z"
   },
   {
    "duration": 16,
    "start_time": "2023-02-02T16:41:08.252Z"
   },
   {
    "duration": 337,
    "start_time": "2023-02-02T16:41:08.270Z"
   },
   {
    "duration": 392,
    "start_time": "2023-02-02T16:41:08.609Z"
   },
   {
    "duration": 299,
    "start_time": "2023-02-02T16:41:09.002Z"
   },
   {
    "duration": 205,
    "start_time": "2023-02-02T16:41:09.303Z"
   },
   {
    "duration": 172,
    "start_time": "2023-02-02T16:41:09.509Z"
   },
   {
    "duration": 8,
    "start_time": "2023-02-02T16:41:09.682Z"
   },
   {
    "duration": 172,
    "start_time": "2023-02-02T16:41:09.699Z"
   },
   {
    "duration": 6,
    "start_time": "2023-02-02T16:41:09.873Z"
   },
   {
    "duration": 182,
    "start_time": "2023-02-02T16:41:09.881Z"
   },
   {
    "duration": 5,
    "start_time": "2023-02-02T16:41:10.065Z"
   },
   {
    "duration": 194,
    "start_time": "2023-02-02T16:41:10.072Z"
   },
   {
    "duration": 6,
    "start_time": "2023-02-02T16:41:10.268Z"
   },
   {
    "duration": 219,
    "start_time": "2023-02-02T16:41:10.276Z"
   },
   {
    "duration": 8,
    "start_time": "2023-02-02T16:41:10.499Z"
   },
   {
    "duration": 226,
    "start_time": "2023-02-02T16:41:10.508Z"
   },
   {
    "duration": 7,
    "start_time": "2023-02-02T16:41:10.736Z"
   },
   {
    "duration": 228,
    "start_time": "2023-02-02T16:41:10.744Z"
   },
   {
    "duration": 6,
    "start_time": "2023-02-02T16:41:10.974Z"
   },
   {
    "duration": 335,
    "start_time": "2023-02-02T16:41:10.982Z"
   },
   {
    "duration": 7,
    "start_time": "2023-02-02T16:41:11.319Z"
   },
   {
    "duration": 216,
    "start_time": "2023-02-02T16:41:11.327Z"
   },
   {
    "duration": 222,
    "start_time": "2023-02-02T16:41:11.545Z"
   },
   {
    "duration": 201,
    "start_time": "2023-02-02T16:41:11.769Z"
   },
   {
    "duration": 244,
    "start_time": "2023-02-02T16:41:11.971Z"
   },
   {
    "duration": 19,
    "start_time": "2023-02-02T16:41:12.217Z"
   },
   {
    "duration": 14,
    "start_time": "2023-02-02T16:42:09.041Z"
   },
   {
    "duration": 16,
    "start_time": "2023-02-02T16:42:13.985Z"
   },
   {
    "duration": 1092,
    "start_time": "2023-02-02T16:42:25.219Z"
   },
   {
    "duration": 14,
    "start_time": "2023-02-02T16:42:26.312Z"
   },
   {
    "duration": 3,
    "start_time": "2023-02-02T16:42:26.328Z"
   },
   {
    "duration": 14,
    "start_time": "2023-02-02T16:42:26.333Z"
   },
   {
    "duration": 11,
    "start_time": "2023-02-02T16:42:26.348Z"
   },
   {
    "duration": 8,
    "start_time": "2023-02-02T16:42:26.360Z"
   },
   {
    "duration": 39,
    "start_time": "2023-02-02T16:42:26.370Z"
   },
   {
    "duration": 15,
    "start_time": "2023-02-02T16:42:26.411Z"
   },
   {
    "duration": 15,
    "start_time": "2023-02-02T16:42:26.428Z"
   },
   {
    "duration": 8,
    "start_time": "2023-02-02T16:42:26.446Z"
   },
   {
    "duration": 25,
    "start_time": "2023-02-02T16:42:26.455Z"
   },
   {
    "duration": 27,
    "start_time": "2023-02-02T16:42:26.482Z"
   },
   {
    "duration": 22,
    "start_time": "2023-02-02T16:42:26.511Z"
   },
   {
    "duration": 40,
    "start_time": "2023-02-02T16:42:26.535Z"
   },
   {
    "duration": 8,
    "start_time": "2023-02-02T16:42:26.577Z"
   },
   {
    "duration": 7,
    "start_time": "2023-02-02T16:42:26.586Z"
   },
   {
    "duration": 21,
    "start_time": "2023-02-02T16:42:26.595Z"
   },
   {
    "duration": 14,
    "start_time": "2023-02-02T16:42:26.618Z"
   },
   {
    "duration": 23,
    "start_time": "2023-02-02T16:42:26.633Z"
   },
   {
    "duration": 5,
    "start_time": "2023-02-02T16:42:26.657Z"
   },
   {
    "duration": 15,
    "start_time": "2023-02-02T16:42:26.664Z"
   },
   {
    "duration": 3,
    "start_time": "2023-02-02T16:42:26.680Z"
   },
   {
    "duration": 21,
    "start_time": "2023-02-02T16:42:26.684Z"
   },
   {
    "duration": 19,
    "start_time": "2023-02-02T16:42:26.706Z"
   },
   {
    "duration": 7,
    "start_time": "2023-02-02T16:42:26.726Z"
   },
   {
    "duration": 28,
    "start_time": "2023-02-02T16:42:26.734Z"
   },
   {
    "duration": 4,
    "start_time": "2023-02-02T16:42:26.763Z"
   },
   {
    "duration": 319,
    "start_time": "2023-02-02T16:42:26.770Z"
   },
   {
    "duration": 324,
    "start_time": "2023-02-02T16:42:27.091Z"
   },
   {
    "duration": 128,
    "start_time": "2023-02-02T16:42:27.417Z"
   },
   {
    "duration": 19,
    "start_time": "2023-02-02T16:42:27.547Z"
   },
   {
    "duration": 46,
    "start_time": "2023-02-02T16:42:27.568Z"
   },
   {
    "duration": 182,
    "start_time": "2023-02-02T16:42:27.616Z"
   },
   {
    "duration": 161,
    "start_time": "2023-02-02T16:42:27.801Z"
   },
   {
    "duration": 8,
    "start_time": "2023-02-02T16:42:27.964Z"
   },
   {
    "duration": 88,
    "start_time": "2023-02-02T16:42:27.974Z"
   },
   {
    "duration": 361,
    "start_time": "2023-02-02T16:42:28.064Z"
   },
   {
    "duration": 428,
    "start_time": "2023-02-02T16:42:28.427Z"
   },
   {
    "duration": 320,
    "start_time": "2023-02-02T16:42:28.857Z"
   },
   {
    "duration": 191,
    "start_time": "2023-02-02T16:42:29.179Z"
   },
   {
    "duration": 172,
    "start_time": "2023-02-02T16:42:29.372Z"
   },
   {
    "duration": 9,
    "start_time": "2023-02-02T16:42:29.545Z"
   },
   {
    "duration": 230,
    "start_time": "2023-02-02T16:42:29.555Z"
   },
   {
    "duration": 6,
    "start_time": "2023-02-02T16:42:29.786Z"
   },
   {
    "duration": 180,
    "start_time": "2023-02-02T16:42:29.794Z"
   },
   {
    "duration": 5,
    "start_time": "2023-02-02T16:42:29.976Z"
   },
   {
    "duration": 192,
    "start_time": "2023-02-02T16:42:29.983Z"
   },
   {
    "duration": 6,
    "start_time": "2023-02-02T16:42:30.176Z"
   },
   {
    "duration": 204,
    "start_time": "2023-02-02T16:42:30.184Z"
   },
   {
    "duration": 11,
    "start_time": "2023-02-02T16:42:30.390Z"
   },
   {
    "duration": 188,
    "start_time": "2023-02-02T16:42:30.402Z"
   },
   {
    "duration": 7,
    "start_time": "2023-02-02T16:42:30.592Z"
   },
   {
    "duration": 250,
    "start_time": "2023-02-02T16:42:30.601Z"
   },
   {
    "duration": 7,
    "start_time": "2023-02-02T16:42:30.852Z"
   },
   {
    "duration": 321,
    "start_time": "2023-02-02T16:42:30.861Z"
   },
   {
    "duration": 5,
    "start_time": "2023-02-02T16:42:31.184Z"
   },
   {
    "duration": 190,
    "start_time": "2023-02-02T16:42:31.198Z"
   },
   {
    "duration": 195,
    "start_time": "2023-02-02T16:42:31.389Z"
   },
   {
    "duration": 183,
    "start_time": "2023-02-02T16:42:31.585Z"
   },
   {
    "duration": 185,
    "start_time": "2023-02-02T16:42:31.770Z"
   },
   {
    "duration": 12,
    "start_time": "2023-02-02T16:42:31.957Z"
   },
   {
    "duration": 21,
    "start_time": "2023-02-02T16:43:50.061Z"
   },
   {
    "duration": 1205,
    "start_time": "2023-02-02T16:44:05.930Z"
   },
   {
    "duration": 14,
    "start_time": "2023-02-02T16:44:07.137Z"
   },
   {
    "duration": 31,
    "start_time": "2023-02-02T16:44:07.152Z"
   },
   {
    "duration": 57,
    "start_time": "2023-02-02T16:44:07.185Z"
   },
   {
    "duration": 28,
    "start_time": "2023-02-02T16:44:07.243Z"
   },
   {
    "duration": 33,
    "start_time": "2023-02-02T16:44:07.273Z"
   },
   {
    "duration": 43,
    "start_time": "2023-02-02T16:44:07.308Z"
   },
   {
    "duration": 41,
    "start_time": "2023-02-02T16:44:07.353Z"
   },
   {
    "duration": 43,
    "start_time": "2023-02-02T16:44:07.397Z"
   },
   {
    "duration": 66,
    "start_time": "2023-02-02T16:44:07.442Z"
   },
   {
    "duration": 62,
    "start_time": "2023-02-02T16:44:07.510Z"
   },
   {
    "duration": 68,
    "start_time": "2023-02-02T16:44:07.574Z"
   },
   {
    "duration": 40,
    "start_time": "2023-02-02T16:44:07.643Z"
   },
   {
    "duration": 55,
    "start_time": "2023-02-02T16:44:07.686Z"
   },
   {
    "duration": 25,
    "start_time": "2023-02-02T16:44:07.743Z"
   },
   {
    "duration": 29,
    "start_time": "2023-02-02T16:44:07.770Z"
   },
   {
    "duration": 53,
    "start_time": "2023-02-02T16:44:07.801Z"
   },
   {
    "duration": 55,
    "start_time": "2023-02-02T16:44:07.856Z"
   },
   {
    "duration": 88,
    "start_time": "2023-02-02T16:44:07.913Z"
   },
   {
    "duration": 25,
    "start_time": "2023-02-02T16:44:08.003Z"
   },
   {
    "duration": 41,
    "start_time": "2023-02-02T16:44:08.030Z"
   },
   {
    "duration": 27,
    "start_time": "2023-02-02T16:44:08.072Z"
   },
   {
    "duration": 52,
    "start_time": "2023-02-02T16:44:08.100Z"
   },
   {
    "duration": 50,
    "start_time": "2023-02-02T16:44:08.153Z"
   },
   {
    "duration": 45,
    "start_time": "2023-02-02T16:44:08.205Z"
   },
   {
    "duration": 52,
    "start_time": "2023-02-02T16:44:08.251Z"
   },
   {
    "duration": 35,
    "start_time": "2023-02-02T16:44:08.305Z"
   },
   {
    "duration": 365,
    "start_time": "2023-02-02T16:44:08.344Z"
   },
   {
    "duration": 326,
    "start_time": "2023-02-02T16:44:08.711Z"
   },
   {
    "duration": 162,
    "start_time": "2023-02-02T16:44:09.039Z"
   },
   {
    "duration": 19,
    "start_time": "2023-02-02T16:44:09.202Z"
   },
   {
    "duration": 47,
    "start_time": "2023-02-02T16:44:09.223Z"
   },
   {
    "duration": 168,
    "start_time": "2023-02-02T16:44:09.272Z"
   },
   {
    "duration": 170,
    "start_time": "2023-02-02T16:44:09.441Z"
   },
   {
    "duration": 8,
    "start_time": "2023-02-02T16:44:09.613Z"
   },
   {
    "duration": 59,
    "start_time": "2023-02-02T16:44:09.622Z"
   },
   {
    "duration": 369,
    "start_time": "2023-02-02T16:44:09.682Z"
   },
   {
    "duration": 421,
    "start_time": "2023-02-02T16:44:10.053Z"
   },
   {
    "duration": 314,
    "start_time": "2023-02-02T16:44:10.476Z"
   },
   {
    "duration": 231,
    "start_time": "2023-02-02T16:44:10.792Z"
   },
   {
    "duration": 211,
    "start_time": "2023-02-02T16:44:11.025Z"
   },
   {
    "duration": 9,
    "start_time": "2023-02-02T16:44:11.238Z"
   },
   {
    "duration": 215,
    "start_time": "2023-02-02T16:44:11.249Z"
   },
   {
    "duration": 8,
    "start_time": "2023-02-02T16:44:11.466Z"
   },
   {
    "duration": 224,
    "start_time": "2023-02-02T16:44:11.476Z"
   },
   {
    "duration": 7,
    "start_time": "2023-02-02T16:44:11.701Z"
   },
   {
    "duration": 248,
    "start_time": "2023-02-02T16:44:11.710Z"
   },
   {
    "duration": 7,
    "start_time": "2023-02-02T16:44:11.959Z"
   },
   {
    "duration": 230,
    "start_time": "2023-02-02T16:44:11.968Z"
   },
   {
    "duration": 8,
    "start_time": "2023-02-02T16:44:12.200Z"
   },
   {
    "duration": 205,
    "start_time": "2023-02-02T16:44:12.210Z"
   },
   {
    "duration": 7,
    "start_time": "2023-02-02T16:44:12.418Z"
   },
   {
    "duration": 248,
    "start_time": "2023-02-02T16:44:12.426Z"
   },
   {
    "duration": 8,
    "start_time": "2023-02-02T16:44:12.676Z"
   },
   {
    "duration": 318,
    "start_time": "2023-02-02T16:44:12.685Z"
   },
   {
    "duration": 6,
    "start_time": "2023-02-02T16:44:13.004Z"
   },
   {
    "duration": 276,
    "start_time": "2023-02-02T16:44:13.011Z"
   },
   {
    "duration": 220,
    "start_time": "2023-02-02T16:44:13.288Z"
   },
   {
    "duration": 212,
    "start_time": "2023-02-02T16:44:13.510Z"
   },
   {
    "duration": 221,
    "start_time": "2023-02-02T16:44:13.725Z"
   },
   {
    "duration": 29,
    "start_time": "2023-02-02T16:44:13.949Z"
   },
   {
    "duration": 133,
    "start_time": "2023-02-02T16:44:13.982Z"
   },
   {
    "duration": 9,
    "start_time": "2023-02-02T16:46:07.117Z"
   },
   {
    "duration": 8,
    "start_time": "2023-02-02T16:47:25.157Z"
   },
   {
    "duration": 6,
    "start_time": "2023-02-02T16:48:09.909Z"
   },
   {
    "duration": 6,
    "start_time": "2023-02-02T16:49:14.964Z"
   },
   {
    "duration": 11,
    "start_time": "2023-02-02T16:57:15.581Z"
   },
   {
    "duration": 11,
    "start_time": "2023-02-02T17:33:09.749Z"
   },
   {
    "duration": 1193,
    "start_time": "2023-02-02T18:01:35.113Z"
   },
   {
    "duration": 17,
    "start_time": "2023-02-02T18:01:36.308Z"
   },
   {
    "duration": 4,
    "start_time": "2023-02-02T18:01:36.327Z"
   },
   {
    "duration": 15,
    "start_time": "2023-02-02T18:01:36.333Z"
   },
   {
    "duration": 8,
    "start_time": "2023-02-02T18:01:36.350Z"
   },
   {
    "duration": 39,
    "start_time": "2023-02-02T18:01:36.360Z"
   },
   {
    "duration": 21,
    "start_time": "2023-02-02T18:01:36.401Z"
   },
   {
    "duration": 15,
    "start_time": "2023-02-02T18:01:36.423Z"
   },
   {
    "duration": 11,
    "start_time": "2023-02-02T18:01:36.440Z"
   },
   {
    "duration": 14,
    "start_time": "2023-02-02T18:01:36.454Z"
   },
   {
    "duration": 40,
    "start_time": "2023-02-02T18:01:36.470Z"
   },
   {
    "duration": 15,
    "start_time": "2023-02-02T18:01:36.512Z"
   },
   {
    "duration": 11,
    "start_time": "2023-02-02T18:01:36.528Z"
   },
   {
    "duration": 22,
    "start_time": "2023-02-02T18:01:36.541Z"
   },
   {
    "duration": 11,
    "start_time": "2023-02-02T18:01:36.565Z"
   },
   {
    "duration": 26,
    "start_time": "2023-02-02T18:01:36.578Z"
   },
   {
    "duration": 14,
    "start_time": "2023-02-02T18:01:36.607Z"
   },
   {
    "duration": 10,
    "start_time": "2023-02-02T18:01:36.623Z"
   },
   {
    "duration": 17,
    "start_time": "2023-02-02T18:01:36.635Z"
   },
   {
    "duration": 20,
    "start_time": "2023-02-02T18:01:36.653Z"
   },
   {
    "duration": 16,
    "start_time": "2023-02-02T18:01:36.675Z"
   },
   {
    "duration": 2,
    "start_time": "2023-02-02T18:01:36.700Z"
   },
   {
    "duration": 20,
    "start_time": "2023-02-02T18:01:36.704Z"
   },
   {
    "duration": 19,
    "start_time": "2023-02-02T18:01:36.725Z"
   },
   {
    "duration": 7,
    "start_time": "2023-02-02T18:01:36.746Z"
   },
   {
    "duration": 17,
    "start_time": "2023-02-02T18:01:36.755Z"
   },
   {
    "duration": 5,
    "start_time": "2023-02-02T18:01:36.799Z"
   },
   {
    "duration": 293,
    "start_time": "2023-02-02T18:01:36.808Z"
   },
   {
    "duration": 354,
    "start_time": "2023-02-02T18:01:37.104Z"
   },
   {
    "duration": 146,
    "start_time": "2023-02-02T18:01:37.459Z"
   },
   {
    "duration": 22,
    "start_time": "2023-02-02T18:01:37.606Z"
   },
   {
    "duration": 23,
    "start_time": "2023-02-02T18:01:37.630Z"
   },
   {
    "duration": 194,
    "start_time": "2023-02-02T18:01:37.655Z"
   },
   {
    "duration": 185,
    "start_time": "2023-02-02T18:01:37.851Z"
   },
   {
    "duration": 7,
    "start_time": "2023-02-02T18:01:38.038Z"
   },
   {
    "duration": 12,
    "start_time": "2023-02-02T18:01:38.047Z"
   },
   {
    "duration": 380,
    "start_time": "2023-02-02T18:01:38.061Z"
   },
   {
    "duration": 442,
    "start_time": "2023-02-02T18:01:38.443Z"
   },
   {
    "duration": 363,
    "start_time": "2023-02-02T18:01:38.886Z"
   },
   {
    "duration": 241,
    "start_time": "2023-02-02T18:01:39.251Z"
   },
   {
    "duration": 207,
    "start_time": "2023-02-02T18:01:39.494Z"
   },
   {
    "duration": 10,
    "start_time": "2023-02-02T18:01:39.704Z"
   },
   {
    "duration": 205,
    "start_time": "2023-02-02T18:01:39.716Z"
   },
   {
    "duration": 6,
    "start_time": "2023-02-02T18:01:39.923Z"
   },
   {
    "duration": 194,
    "start_time": "2023-02-02T18:01:39.932Z"
   },
   {
    "duration": 6,
    "start_time": "2023-02-02T18:01:40.128Z"
   },
   {
    "duration": 197,
    "start_time": "2023-02-02T18:01:40.136Z"
   },
   {
    "duration": 7,
    "start_time": "2023-02-02T18:01:40.334Z"
   },
   {
    "duration": 199,
    "start_time": "2023-02-02T18:01:40.343Z"
   },
   {
    "duration": 9,
    "start_time": "2023-02-02T18:01:40.544Z"
   },
   {
    "duration": 206,
    "start_time": "2023-02-02T18:01:40.555Z"
   },
   {
    "duration": 6,
    "start_time": "2023-02-02T18:01:40.762Z"
   },
   {
    "duration": 206,
    "start_time": "2023-02-02T18:01:40.771Z"
   },
   {
    "duration": 6,
    "start_time": "2023-02-02T18:01:40.979Z"
   },
   {
    "duration": 283,
    "start_time": "2023-02-02T18:01:40.986Z"
   },
   {
    "duration": 6,
    "start_time": "2023-02-02T18:01:41.271Z"
   },
   {
    "duration": 189,
    "start_time": "2023-02-02T18:01:41.278Z"
   },
   {
    "duration": 200,
    "start_time": "2023-02-02T18:01:41.469Z"
   },
   {
    "duration": 196,
    "start_time": "2023-02-02T18:01:41.671Z"
   },
   {
    "duration": 204,
    "start_time": "2023-02-02T18:01:41.869Z"
   },
   {
    "duration": 10,
    "start_time": "2023-02-02T18:01:42.075Z"
   },
   {
    "duration": 44,
    "start_time": "2023-02-02T18:01:42.098Z"
   },
   {
    "duration": 1233,
    "start_time": "2023-02-02T19:56:30.210Z"
   },
   {
    "duration": 15,
    "start_time": "2023-02-02T19:56:31.445Z"
   },
   {
    "duration": 3,
    "start_time": "2023-02-02T19:56:31.461Z"
   },
   {
    "duration": 14,
    "start_time": "2023-02-02T19:56:31.467Z"
   },
   {
    "duration": 21,
    "start_time": "2023-02-02T19:56:31.483Z"
   },
   {
    "duration": 11,
    "start_time": "2023-02-02T19:56:31.505Z"
   },
   {
    "duration": 20,
    "start_time": "2023-02-02T19:56:31.517Z"
   },
   {
    "duration": 15,
    "start_time": "2023-02-02T19:56:31.539Z"
   },
   {
    "duration": 13,
    "start_time": "2023-02-02T19:56:31.555Z"
   },
   {
    "duration": 34,
    "start_time": "2023-02-02T19:56:31.570Z"
   },
   {
    "duration": 8,
    "start_time": "2023-02-02T19:56:31.606Z"
   },
   {
    "duration": 20,
    "start_time": "2023-02-02T19:56:31.616Z"
   },
   {
    "duration": 23,
    "start_time": "2023-02-02T19:56:31.638Z"
   },
   {
    "duration": 26,
    "start_time": "2023-02-02T19:56:31.663Z"
   },
   {
    "duration": 7,
    "start_time": "2023-02-02T19:56:31.690Z"
   },
   {
    "duration": 7,
    "start_time": "2023-02-02T19:56:31.699Z"
   },
   {
    "duration": 12,
    "start_time": "2023-02-02T19:56:31.707Z"
   },
   {
    "duration": 9,
    "start_time": "2023-02-02T19:56:31.721Z"
   },
   {
    "duration": 11,
    "start_time": "2023-02-02T19:56:31.732Z"
   },
   {
    "duration": 23,
    "start_time": "2023-02-02T19:56:31.744Z"
   },
   {
    "duration": 15,
    "start_time": "2023-02-02T19:56:31.769Z"
   },
   {
    "duration": 2,
    "start_time": "2023-02-02T19:56:31.785Z"
   },
   {
    "duration": 24,
    "start_time": "2023-02-02T19:56:31.789Z"
   },
   {
    "duration": 17,
    "start_time": "2023-02-02T19:56:31.814Z"
   },
   {
    "duration": 6,
    "start_time": "2023-02-02T19:56:31.833Z"
   },
   {
    "duration": 17,
    "start_time": "2023-02-02T19:56:31.841Z"
   },
   {
    "duration": 4,
    "start_time": "2023-02-02T19:56:31.860Z"
   },
   {
    "duration": 350,
    "start_time": "2023-02-02T19:56:31.867Z"
   },
   {
    "duration": 341,
    "start_time": "2023-02-02T19:56:32.220Z"
   },
   {
    "duration": 128,
    "start_time": "2023-02-02T19:56:32.563Z"
   },
   {
    "duration": 21,
    "start_time": "2023-02-02T19:56:32.693Z"
   },
   {
    "duration": 19,
    "start_time": "2023-02-02T19:56:32.716Z"
   },
   {
    "duration": 170,
    "start_time": "2023-02-02T19:56:32.736Z"
   },
   {
    "duration": 167,
    "start_time": "2023-02-02T19:56:32.907Z"
   },
   {
    "duration": 5,
    "start_time": "2023-02-02T19:56:33.076Z"
   },
   {
    "duration": 17,
    "start_time": "2023-02-02T19:56:33.083Z"
   },
   {
    "duration": 342,
    "start_time": "2023-02-02T19:56:33.102Z"
   },
   {
    "duration": 417,
    "start_time": "2023-02-02T19:56:33.446Z"
   },
   {
    "duration": 395,
    "start_time": "2023-02-02T19:56:33.865Z"
   },
   {
    "duration": 249,
    "start_time": "2023-02-02T19:56:34.262Z"
   },
   {
    "duration": 167,
    "start_time": "2023-02-02T19:56:34.512Z"
   },
   {
    "duration": 18,
    "start_time": "2023-02-02T19:56:34.681Z"
   },
   {
    "duration": 172,
    "start_time": "2023-02-02T19:56:34.701Z"
   },
   {
    "duration": 5,
    "start_time": "2023-02-02T19:56:34.875Z"
   },
   {
    "duration": 168,
    "start_time": "2023-02-02T19:56:34.882Z"
   },
   {
    "duration": 5,
    "start_time": "2023-02-02T19:56:35.052Z"
   },
   {
    "duration": 177,
    "start_time": "2023-02-02T19:56:35.059Z"
   },
   {
    "duration": 6,
    "start_time": "2023-02-02T19:56:35.238Z"
   },
   {
    "duration": 168,
    "start_time": "2023-02-02T19:56:35.245Z"
   },
   {
    "duration": 15,
    "start_time": "2023-02-02T19:56:35.415Z"
   },
   {
    "duration": 177,
    "start_time": "2023-02-02T19:56:35.432Z"
   },
   {
    "duration": 6,
    "start_time": "2023-02-02T19:56:35.611Z"
   },
   {
    "duration": 198,
    "start_time": "2023-02-02T19:56:35.618Z"
   },
   {
    "duration": 6,
    "start_time": "2023-02-02T19:56:35.818Z"
   },
   {
    "duration": 284,
    "start_time": "2023-02-02T19:56:35.826Z"
   },
   {
    "duration": 6,
    "start_time": "2023-02-02T19:56:36.112Z"
   },
   {
    "duration": 194,
    "start_time": "2023-02-02T19:56:36.119Z"
   },
   {
    "duration": 193,
    "start_time": "2023-02-02T19:56:36.315Z"
   },
   {
    "duration": 180,
    "start_time": "2023-02-02T19:56:36.510Z"
   },
   {
    "duration": 192,
    "start_time": "2023-02-02T19:56:36.692Z"
   },
   {
    "duration": 16,
    "start_time": "2023-02-02T19:56:36.885Z"
   },
   {
    "duration": 13,
    "start_time": "2023-02-02T19:56:36.903Z"
   },
   {
    "duration": 1245,
    "start_time": "2023-02-02T20:32:36.990Z"
   },
   {
    "duration": 13,
    "start_time": "2023-02-02T20:32:38.237Z"
   },
   {
    "duration": 10,
    "start_time": "2023-02-02T20:32:38.252Z"
   },
   {
    "duration": 50,
    "start_time": "2023-02-02T20:32:38.263Z"
   },
   {
    "duration": 6,
    "start_time": "2023-02-02T20:32:38.316Z"
   },
   {
    "duration": 11,
    "start_time": "2023-02-02T20:32:38.324Z"
   },
   {
    "duration": 23,
    "start_time": "2023-02-02T20:32:38.337Z"
   },
   {
    "duration": 19,
    "start_time": "2023-02-02T20:32:38.362Z"
   },
   {
    "duration": 37,
    "start_time": "2023-02-02T20:32:38.383Z"
   },
   {
    "duration": 11,
    "start_time": "2023-02-02T20:32:38.422Z"
   },
   {
    "duration": 11,
    "start_time": "2023-02-02T20:32:38.434Z"
   },
   {
    "duration": 14,
    "start_time": "2023-02-02T20:32:38.446Z"
   },
   {
    "duration": 15,
    "start_time": "2023-02-02T20:32:38.461Z"
   },
   {
    "duration": 50,
    "start_time": "2023-02-02T20:32:38.480Z"
   },
   {
    "duration": 8,
    "start_time": "2023-02-02T20:32:38.532Z"
   },
   {
    "duration": 12,
    "start_time": "2023-02-02T20:32:38.541Z"
   },
   {
    "duration": 17,
    "start_time": "2023-02-02T20:32:38.554Z"
   },
   {
    "duration": 34,
    "start_time": "2023-02-02T20:32:38.574Z"
   },
   {
    "duration": 21,
    "start_time": "2023-02-02T20:32:38.610Z"
   },
   {
    "duration": 7,
    "start_time": "2023-02-02T20:32:38.632Z"
   },
   {
    "duration": 20,
    "start_time": "2023-02-02T20:32:38.641Z"
   },
   {
    "duration": 41,
    "start_time": "2023-02-02T20:32:38.662Z"
   },
   {
    "duration": 29,
    "start_time": "2023-02-02T20:32:38.704Z"
   },
   {
    "duration": 20,
    "start_time": "2023-02-02T20:32:38.735Z"
   },
   {
    "duration": 10,
    "start_time": "2023-02-02T20:32:38.756Z"
   },
   {
    "duration": 61,
    "start_time": "2023-02-02T20:32:38.768Z"
   },
   {
    "duration": 5,
    "start_time": "2023-02-02T20:32:38.830Z"
   },
   {
    "duration": 351,
    "start_time": "2023-02-02T20:32:38.836Z"
   },
   {
    "duration": 382,
    "start_time": "2023-02-02T20:32:39.189Z"
   },
   {
    "duration": 149,
    "start_time": "2023-02-02T20:32:39.572Z"
   },
   {
    "duration": 17,
    "start_time": "2023-02-02T20:32:39.723Z"
   },
   {
    "duration": 49,
    "start_time": "2023-02-02T20:32:39.742Z"
   },
   {
    "duration": 207,
    "start_time": "2023-02-02T20:32:39.793Z"
   },
   {
    "duration": 170,
    "start_time": "2023-02-02T20:32:40.002Z"
   },
   {
    "duration": 12,
    "start_time": "2023-02-02T20:32:40.174Z"
   },
   {
    "duration": 24,
    "start_time": "2023-02-02T20:32:40.192Z"
   },
   {
    "duration": 386,
    "start_time": "2023-02-02T20:32:40.217Z"
   },
   {
    "duration": 428,
    "start_time": "2023-02-02T20:32:40.605Z"
   },
   {
    "duration": 336,
    "start_time": "2023-02-02T20:32:41.035Z"
   },
   {
    "duration": 253,
    "start_time": "2023-02-02T20:32:41.373Z"
   },
   {
    "duration": 196,
    "start_time": "2023-02-02T20:32:41.629Z"
   },
   {
    "duration": 7,
    "start_time": "2023-02-02T20:32:41.826Z"
   },
   {
    "duration": 206,
    "start_time": "2023-02-02T20:32:41.835Z"
   },
   {
    "duration": 6,
    "start_time": "2023-02-02T20:32:42.043Z"
   },
   {
    "duration": 209,
    "start_time": "2023-02-02T20:32:42.051Z"
   },
   {
    "duration": 12,
    "start_time": "2023-02-02T20:32:42.262Z"
   },
   {
    "duration": 257,
    "start_time": "2023-02-02T20:32:42.276Z"
   },
   {
    "duration": 6,
    "start_time": "2023-02-02T20:32:42.537Z"
   },
   {
    "duration": 286,
    "start_time": "2023-02-02T20:32:42.545Z"
   },
   {
    "duration": 8,
    "start_time": "2023-02-02T20:32:42.833Z"
   },
   {
    "duration": 230,
    "start_time": "2023-02-02T20:32:42.842Z"
   },
   {
    "duration": 10,
    "start_time": "2023-02-02T20:32:43.077Z"
   },
   {
    "duration": 239,
    "start_time": "2023-02-02T20:32:43.094Z"
   },
   {
    "duration": 6,
    "start_time": "2023-02-02T20:32:43.335Z"
   },
   {
    "duration": 351,
    "start_time": "2023-02-02T20:32:43.343Z"
   },
   {
    "duration": 11,
    "start_time": "2023-02-02T20:32:43.696Z"
   },
   {
    "duration": 227,
    "start_time": "2023-02-02T20:32:43.709Z"
   },
   {
    "duration": 246,
    "start_time": "2023-02-02T20:32:43.937Z"
   },
   {
    "duration": 220,
    "start_time": "2023-02-02T20:32:44.186Z"
   },
   {
    "duration": 219,
    "start_time": "2023-02-02T20:32:44.409Z"
   },
   {
    "duration": 12,
    "start_time": "2023-02-02T20:32:44.630Z"
   },
   {
    "duration": 23,
    "start_time": "2023-02-02T20:32:44.645Z"
   },
   {
    "duration": 23,
    "start_time": "2023-02-02T20:41:40.988Z"
   },
   {
    "duration": 29,
    "start_time": "2023-02-02T20:45:41.632Z"
   },
   {
    "duration": 1232,
    "start_time": "2023-02-03T10:13:28.312Z"
   },
   {
    "duration": 96,
    "start_time": "2023-02-03T10:13:29.547Z"
   },
   {
    "duration": 23,
    "start_time": "2023-02-03T10:13:29.644Z"
   },
   {
    "duration": 15,
    "start_time": "2023-02-03T10:13:29.668Z"
   },
   {
    "duration": 20,
    "start_time": "2023-02-03T10:13:29.684Z"
   },
   {
    "duration": 16,
    "start_time": "2023-02-03T10:13:29.706Z"
   },
   {
    "duration": 14,
    "start_time": "2023-02-03T10:13:29.724Z"
   },
   {
    "duration": 17,
    "start_time": "2023-02-03T10:13:29.739Z"
   },
   {
    "duration": 19,
    "start_time": "2023-02-03T10:13:29.758Z"
   },
   {
    "duration": 15,
    "start_time": "2023-02-03T10:13:29.779Z"
   },
   {
    "duration": 12,
    "start_time": "2023-02-03T10:13:29.796Z"
   },
   {
    "duration": 33,
    "start_time": "2023-02-03T10:13:29.810Z"
   },
   {
    "duration": 8,
    "start_time": "2023-02-03T10:13:29.845Z"
   },
   {
    "duration": 15,
    "start_time": "2023-02-03T10:13:29.855Z"
   },
   {
    "duration": 10,
    "start_time": "2023-02-03T10:13:29.872Z"
   },
   {
    "duration": 53,
    "start_time": "2023-02-03T10:13:29.885Z"
   },
   {
    "duration": 8,
    "start_time": "2023-02-03T10:13:29.940Z"
   },
   {
    "duration": 7,
    "start_time": "2023-02-03T10:13:29.949Z"
   },
   {
    "duration": 18,
    "start_time": "2023-02-03T10:13:29.958Z"
   },
   {
    "duration": 8,
    "start_time": "2023-02-03T10:13:29.978Z"
   },
   {
    "duration": 13,
    "start_time": "2023-02-03T10:13:29.987Z"
   },
   {
    "duration": 37,
    "start_time": "2023-02-03T10:13:30.001Z"
   },
   {
    "duration": 14,
    "start_time": "2023-02-03T10:13:30.039Z"
   },
   {
    "duration": 6,
    "start_time": "2023-02-03T10:13:30.054Z"
   },
   {
    "duration": 30,
    "start_time": "2023-02-03T10:13:30.062Z"
   },
   {
    "duration": 21,
    "start_time": "2023-02-03T10:13:30.094Z"
   },
   {
    "duration": 7,
    "start_time": "2023-02-03T10:13:30.117Z"
   },
   {
    "duration": 21,
    "start_time": "2023-02-03T10:13:30.139Z"
   },
   {
    "duration": 9,
    "start_time": "2023-02-03T10:13:30.162Z"
   },
   {
    "duration": 359,
    "start_time": "2023-02-03T10:13:30.173Z"
   },
   {
    "duration": 350,
    "start_time": "2023-02-03T10:13:30.534Z"
   },
   {
    "duration": 153,
    "start_time": "2023-02-03T10:13:30.886Z"
   },
   {
    "duration": 21,
    "start_time": "2023-02-03T10:13:31.040Z"
   },
   {
    "duration": 35,
    "start_time": "2023-02-03T10:13:31.062Z"
   },
   {
    "duration": 185,
    "start_time": "2023-02-03T10:13:31.100Z"
   },
   {
    "duration": 183,
    "start_time": "2023-02-03T10:13:31.287Z"
   },
   {
    "duration": 6,
    "start_time": "2023-02-03T10:13:31.472Z"
   },
   {
    "duration": 18,
    "start_time": "2023-02-03T10:13:31.480Z"
   },
   {
    "duration": 348,
    "start_time": "2023-02-03T10:13:31.500Z"
   },
   {
    "duration": 390,
    "start_time": "2023-02-03T10:13:31.849Z"
   },
   {
    "duration": 327,
    "start_time": "2023-02-03T10:13:32.241Z"
   },
   {
    "duration": 209,
    "start_time": "2023-02-03T10:13:32.570Z"
   },
   {
    "duration": 160,
    "start_time": "2023-02-03T10:13:32.780Z"
   },
   {
    "duration": 7,
    "start_time": "2023-02-03T10:13:32.941Z"
   },
   {
    "duration": 174,
    "start_time": "2023-02-03T10:13:32.949Z"
   },
   {
    "duration": 6,
    "start_time": "2023-02-03T10:13:33.124Z"
   },
   {
    "duration": 156,
    "start_time": "2023-02-03T10:13:33.137Z"
   },
   {
    "duration": 6,
    "start_time": "2023-02-03T10:13:33.294Z"
   },
   {
    "duration": 163,
    "start_time": "2023-02-03T10:13:33.301Z"
   },
   {
    "duration": 6,
    "start_time": "2023-02-03T10:13:33.465Z"
   },
   {
    "duration": 167,
    "start_time": "2023-02-03T10:13:33.472Z"
   },
   {
    "duration": 7,
    "start_time": "2023-02-03T10:13:33.640Z"
   },
   {
    "duration": 172,
    "start_time": "2023-02-03T10:13:33.649Z"
   },
   {
    "duration": 5,
    "start_time": "2023-02-03T10:13:33.823Z"
   },
   {
    "duration": 172,
    "start_time": "2023-02-03T10:13:33.829Z"
   },
   {
    "duration": 7,
    "start_time": "2023-02-03T10:13:34.002Z"
   },
   {
    "duration": 244,
    "start_time": "2023-02-03T10:13:34.010Z"
   },
   {
    "duration": 8,
    "start_time": "2023-02-03T10:13:34.257Z"
   },
   {
    "duration": 179,
    "start_time": "2023-02-03T10:13:34.267Z"
   },
   {
    "duration": 184,
    "start_time": "2023-02-03T10:13:34.448Z"
   },
   {
    "duration": 231,
    "start_time": "2023-02-03T10:13:34.633Z"
   },
   {
    "duration": 472,
    "start_time": "2023-02-03T10:13:34.866Z"
   },
   {
    "duration": 9,
    "start_time": "2023-02-03T10:13:35.340Z"
   },
   {
    "duration": 13,
    "start_time": "2023-02-03T10:13:35.350Z"
   },
   {
    "duration": 179,
    "start_time": "2023-02-03T10:32:49.574Z"
   },
   {
    "duration": 359,
    "start_time": "2023-02-03T10:42:32.397Z"
   },
   {
    "duration": 32,
    "start_time": "2023-02-03T10:49:45.674Z"
   },
   {
    "duration": 34,
    "start_time": "2023-02-03T10:51:05.088Z"
   },
   {
    "duration": 39,
    "start_time": "2023-02-03T10:53:06.011Z"
   },
   {
    "duration": 94,
    "start_time": "2023-02-03T10:57:09.796Z"
   },
   {
    "duration": 10,
    "start_time": "2023-02-03T11:00:08.234Z"
   },
   {
    "duration": 23,
    "start_time": "2023-02-03T11:03:48.628Z"
   },
   {
    "duration": 34,
    "start_time": "2023-02-03T11:04:38.011Z"
   },
   {
    "duration": 14,
    "start_time": "2023-02-03T11:06:35.207Z"
   },
   {
    "duration": 18,
    "start_time": "2023-02-03T11:09:55.502Z"
   },
   {
    "duration": 18,
    "start_time": "2023-02-03T11:10:55.523Z"
   },
   {
    "duration": 15,
    "start_time": "2023-02-03T11:11:09.351Z"
   },
   {
    "duration": 172,
    "start_time": "2023-02-03T11:13:20.531Z"
   },
   {
    "duration": 17,
    "start_time": "2023-02-03T11:16:11.606Z"
   },
   {
    "duration": 15,
    "start_time": "2023-02-03T11:18:12.089Z"
   },
   {
    "duration": 23,
    "start_time": "2023-02-03T11:19:52.340Z"
   },
   {
    "duration": 21,
    "start_time": "2023-02-03T11:20:29.205Z"
   },
   {
    "duration": 12,
    "start_time": "2023-02-03T11:24:46.183Z"
   },
   {
    "duration": 13,
    "start_time": "2023-02-03T11:25:40.974Z"
   },
   {
    "duration": 10,
    "start_time": "2023-02-03T11:26:13.810Z"
   },
   {
    "duration": 9,
    "start_time": "2023-02-03T11:26:16.425Z"
   },
   {
    "duration": 11,
    "start_time": "2023-02-03T11:26:23.404Z"
   },
   {
    "duration": 11,
    "start_time": "2023-02-03T11:27:21.079Z"
   },
   {
    "duration": 12,
    "start_time": "2023-02-03T11:27:47.914Z"
   },
   {
    "duration": 16,
    "start_time": "2023-02-03T11:28:58.436Z"
   },
   {
    "duration": 17,
    "start_time": "2023-02-03T11:29:24.250Z"
   },
   {
    "duration": 24,
    "start_time": "2023-02-03T11:30:01.493Z"
   },
   {
    "duration": 18,
    "start_time": "2023-02-03T11:30:46.016Z"
   },
   {
    "duration": 18,
    "start_time": "2023-02-03T11:31:06.154Z"
   },
   {
    "duration": 16,
    "start_time": "2023-02-03T11:31:18.195Z"
   },
   {
    "duration": 18,
    "start_time": "2023-02-03T11:39:22.308Z"
   },
   {
    "duration": 23,
    "start_time": "2023-02-03T11:39:47.607Z"
   },
   {
    "duration": 23,
    "start_time": "2023-02-03T11:39:57.962Z"
   },
   {
    "duration": 15,
    "start_time": "2023-02-03T11:41:34.296Z"
   },
   {
    "duration": 12,
    "start_time": "2023-02-03T11:42:11.059Z"
   },
   {
    "duration": 13,
    "start_time": "2023-02-03T11:44:11.775Z"
   },
   {
    "duration": 15,
    "start_time": "2023-02-03T11:46:23.815Z"
   },
   {
    "duration": 12,
    "start_time": "2023-02-03T11:47:51.597Z"
   },
   {
    "duration": 16,
    "start_time": "2023-02-03T11:48:43.154Z"
   },
   {
    "duration": 2,
    "start_time": "2023-02-03T12:00:11.621Z"
   },
   {
    "duration": 1347,
    "start_time": "2023-02-03T19:05:14.919Z"
   },
   {
    "duration": 99,
    "start_time": "2023-02-03T19:05:16.268Z"
   },
   {
    "duration": 22,
    "start_time": "2023-02-03T19:05:16.369Z"
   },
   {
    "duration": 17,
    "start_time": "2023-02-03T19:05:16.393Z"
   },
   {
    "duration": 9,
    "start_time": "2023-02-03T19:05:16.411Z"
   },
   {
    "duration": 21,
    "start_time": "2023-02-03T19:05:16.422Z"
   },
   {
    "duration": 6,
    "start_time": "2023-02-03T19:05:16.445Z"
   },
   {
    "duration": 32,
    "start_time": "2023-02-03T19:05:16.453Z"
   },
   {
    "duration": 32,
    "start_time": "2023-02-03T19:05:16.487Z"
   },
   {
    "duration": 16,
    "start_time": "2023-02-03T19:05:16.522Z"
   },
   {
    "duration": 37,
    "start_time": "2023-02-03T19:05:16.539Z"
   },
   {
    "duration": 11,
    "start_time": "2023-02-03T19:05:16.578Z"
   },
   {
    "duration": 15,
    "start_time": "2023-02-03T19:05:16.590Z"
   },
   {
    "duration": 19,
    "start_time": "2023-02-03T19:05:16.607Z"
   },
   {
    "duration": 13,
    "start_time": "2023-02-03T19:05:16.628Z"
   },
   {
    "duration": 27,
    "start_time": "2023-02-03T19:05:16.642Z"
   },
   {
    "duration": 18,
    "start_time": "2023-02-03T19:05:16.671Z"
   },
   {
    "duration": 11,
    "start_time": "2023-02-03T19:05:16.690Z"
   },
   {
    "duration": 20,
    "start_time": "2023-02-03T19:05:16.703Z"
   },
   {
    "duration": 5,
    "start_time": "2023-02-03T19:05:16.725Z"
   },
   {
    "duration": 24,
    "start_time": "2023-02-03T19:05:16.732Z"
   },
   {
    "duration": 12,
    "start_time": "2023-02-03T19:05:16.758Z"
   },
   {
    "duration": 24,
    "start_time": "2023-02-03T19:05:16.772Z"
   },
   {
    "duration": 3,
    "start_time": "2023-02-03T19:05:16.798Z"
   },
   {
    "duration": 19,
    "start_time": "2023-02-03T19:05:16.803Z"
   },
   {
    "duration": 21,
    "start_time": "2023-02-03T19:05:16.824Z"
   },
   {
    "duration": 37,
    "start_time": "2023-02-03T19:05:16.847Z"
   },
   {
    "duration": 246,
    "start_time": "2023-02-03T19:05:16.889Z"
   },
   {
    "duration": 20,
    "start_time": "2023-02-03T19:05:17.137Z"
   },
   {
    "duration": 386,
    "start_time": "2023-02-03T19:05:17.159Z"
   },
   {
    "duration": 5,
    "start_time": "2023-02-03T19:05:17.547Z"
   },
   {
    "duration": 352,
    "start_time": "2023-02-03T19:05:17.554Z"
   },
   {
    "duration": 23,
    "start_time": "2023-02-03T19:05:17.908Z"
   },
   {
    "duration": 376,
    "start_time": "2023-02-03T19:05:17.933Z"
   },
   {
    "duration": 144,
    "start_time": "2023-02-03T19:05:18.311Z"
   },
   {
    "duration": 27,
    "start_time": "2023-02-03T19:05:18.457Z"
   },
   {
    "duration": 22,
    "start_time": "2023-02-03T19:05:18.486Z"
   },
   {
    "duration": 180,
    "start_time": "2023-02-03T19:05:18.510Z"
   },
   {
    "duration": 180,
    "start_time": "2023-02-03T19:05:18.692Z"
   },
   {
    "duration": 13,
    "start_time": "2023-02-03T19:05:18.874Z"
   },
   {
    "duration": 12,
    "start_time": "2023-02-03T19:05:18.889Z"
   },
   {
    "duration": 423,
    "start_time": "2023-02-03T19:05:18.902Z"
   },
   {
    "duration": 375,
    "start_time": "2023-02-03T19:05:19.327Z"
   },
   {
    "duration": 371,
    "start_time": "2023-02-03T19:05:19.704Z"
   },
   {
    "duration": 223,
    "start_time": "2023-02-03T19:05:20.077Z"
   },
   {
    "duration": 190,
    "start_time": "2023-02-03T19:05:20.302Z"
   },
   {
    "duration": 8,
    "start_time": "2023-02-03T19:05:20.494Z"
   },
   {
    "duration": 208,
    "start_time": "2023-02-03T19:05:20.504Z"
   },
   {
    "duration": 6,
    "start_time": "2023-02-03T19:05:20.714Z"
   },
   {
    "duration": 189,
    "start_time": "2023-02-03T19:05:20.722Z"
   },
   {
    "duration": 7,
    "start_time": "2023-02-03T19:05:20.913Z"
   },
   {
    "duration": 202,
    "start_time": "2023-02-03T19:05:20.921Z"
   },
   {
    "duration": 7,
    "start_time": "2023-02-03T19:05:21.125Z"
   },
   {
    "duration": 298,
    "start_time": "2023-02-03T19:05:21.133Z"
   },
   {
    "duration": 9,
    "start_time": "2023-02-03T19:05:21.432Z"
   },
   {
    "duration": 375,
    "start_time": "2023-02-03T19:05:21.442Z"
   },
   {
    "duration": 6,
    "start_time": "2023-02-03T19:05:21.818Z"
   },
   {
    "duration": 477,
    "start_time": "2023-02-03T19:05:21.826Z"
   },
   {
    "duration": 9,
    "start_time": "2023-02-03T19:05:22.305Z"
   },
   {
    "duration": 403,
    "start_time": "2023-02-03T19:05:22.316Z"
   },
   {
    "duration": 63,
    "start_time": "2023-02-03T19:05:22.721Z"
   },
   {
    "duration": 397,
    "start_time": "2023-02-03T19:05:22.787Z"
   },
   {
    "duration": 359,
    "start_time": "2023-02-03T19:05:23.186Z"
   },
   {
    "duration": 222,
    "start_time": "2023-02-03T19:05:23.546Z"
   },
   {
    "duration": 218,
    "start_time": "2023-02-03T19:05:23.772Z"
   },
   {
    "duration": 11,
    "start_time": "2023-02-03T19:05:23.992Z"
   },
   {
    "duration": 40,
    "start_time": "2023-02-03T19:05:24.005Z"
   },
   {
    "duration": 15,
    "start_time": "2023-02-03T19:19:37.724Z"
   },
   {
    "duration": 35,
    "start_time": "2023-02-03T19:23:04.124Z"
   },
   {
    "duration": 26,
    "start_time": "2023-02-03T19:23:36.313Z"
   },
   {
    "duration": 123,
    "start_time": "2023-02-03T19:24:21.394Z"
   },
   {
    "duration": 29,
    "start_time": "2023-02-03T19:24:47.855Z"
   },
   {
    "duration": 32,
    "start_time": "2023-02-03T19:25:58.986Z"
   },
   {
    "duration": 30,
    "start_time": "2023-02-03T19:31:52.696Z"
   },
   {
    "duration": 31,
    "start_time": "2023-02-03T19:36:13.881Z"
   },
   {
    "duration": 305,
    "start_time": "2023-02-03T19:36:41.881Z"
   },
   {
    "duration": 28,
    "start_time": "2023-02-03T19:37:00.217Z"
   },
   {
    "duration": 31,
    "start_time": "2023-02-03T19:38:22.079Z"
   },
   {
    "duration": 70,
    "start_time": "2023-02-03T19:59:46.012Z"
   },
   {
    "duration": 484,
    "start_time": "2023-02-03T20:41:29.395Z"
   },
   {
    "duration": 174,
    "start_time": "2023-02-03T20:45:56.605Z"
   },
   {
    "duration": 267,
    "start_time": "2023-02-03T20:51:45.504Z"
   },
   {
    "duration": 178,
    "start_time": "2023-02-03T20:52:02.901Z"
   },
   {
    "duration": 154,
    "start_time": "2023-02-03T20:52:14.909Z"
   },
   {
    "duration": 189,
    "start_time": "2023-02-03T20:52:52.029Z"
   },
   {
    "duration": 148,
    "start_time": "2023-02-03T20:53:01.152Z"
   },
   {
    "duration": 136,
    "start_time": "2023-02-03T20:53:08.933Z"
   },
   {
    "duration": 161,
    "start_time": "2023-02-03T20:53:19.818Z"
   },
   {
    "duration": 16,
    "start_time": "2023-02-03T20:58:24.263Z"
   },
   {
    "duration": 116,
    "start_time": "2023-02-03T21:00:04.590Z"
   },
   {
    "duration": 124,
    "start_time": "2023-02-03T21:00:57.069Z"
   },
   {
    "duration": 128,
    "start_time": "2023-02-03T21:01:11.441Z"
   },
   {
    "duration": 21,
    "start_time": "2023-02-03T21:02:31.398Z"
   },
   {
    "duration": 250,
    "start_time": "2023-02-03T21:09:01.629Z"
   },
   {
    "duration": 211,
    "start_time": "2023-02-03T21:29:06.980Z"
   },
   {
    "duration": 117,
    "start_time": "2023-02-03T21:29:48.852Z"
   },
   {
    "duration": 130,
    "start_time": "2023-02-03T21:29:55.907Z"
   },
   {
    "duration": 114,
    "start_time": "2023-02-03T21:31:28.698Z"
   },
   {
    "duration": 131,
    "start_time": "2023-02-03T21:32:15.864Z"
   },
   {
    "duration": 122,
    "start_time": "2023-02-03T21:37:02.797Z"
   },
   {
    "duration": 1702,
    "start_time": "2023-02-03T21:43:02.850Z"
   },
   {
    "duration": 175,
    "start_time": "2023-02-03T21:43:28.273Z"
   },
   {
    "duration": 601,
    "start_time": "2023-02-03T21:44:56.798Z"
   },
   {
    "duration": 170,
    "start_time": "2023-02-03T21:45:16.056Z"
   },
   {
    "duration": 161,
    "start_time": "2023-02-03T21:45:52.372Z"
   },
   {
    "duration": 196,
    "start_time": "2023-02-03T21:46:29.247Z"
   },
   {
    "duration": 197,
    "start_time": "2023-02-03T21:48:05.750Z"
   },
   {
    "duration": 192,
    "start_time": "2023-02-03T21:49:44.109Z"
   },
   {
    "duration": 148,
    "start_time": "2023-02-03T21:50:00.218Z"
   },
   {
    "duration": 131,
    "start_time": "2023-02-03T21:50:17.160Z"
   },
   {
    "duration": 138,
    "start_time": "2023-02-03T21:50:26.808Z"
   },
   {
    "duration": 368,
    "start_time": "2023-02-03T22:12:09.818Z"
   },
   {
    "duration": 282,
    "start_time": "2023-02-03T22:12:50.365Z"
   },
   {
    "duration": 269,
    "start_time": "2023-02-03T22:14:21.718Z"
   },
   {
    "duration": 242,
    "start_time": "2023-02-03T22:14:38.102Z"
   },
   {
    "duration": 227,
    "start_time": "2023-02-03T22:14:47.838Z"
   },
   {
    "duration": 221,
    "start_time": "2023-02-03T22:15:07.605Z"
   },
   {
    "duration": 286,
    "start_time": "2023-02-03T22:15:17.162Z"
   },
   {
    "duration": 306,
    "start_time": "2023-02-03T22:20:28.969Z"
   },
   {
    "duration": 456,
    "start_time": "2023-02-03T22:20:40.748Z"
   },
   {
    "duration": 234,
    "start_time": "2023-02-03T22:21:22.367Z"
   },
   {
    "duration": 235,
    "start_time": "2023-02-03T22:21:52.089Z"
   },
   {
    "duration": 489,
    "start_time": "2023-02-03T22:22:01.952Z"
   },
   {
    "duration": 353,
    "start_time": "2023-02-03T22:22:30.988Z"
   },
   {
    "duration": 164,
    "start_time": "2023-02-03T22:26:59.713Z"
   },
   {
    "duration": 20,
    "start_time": "2023-02-03T22:27:37.810Z"
   },
   {
    "duration": 442,
    "start_time": "2023-02-03T22:29:46.091Z"
   },
   {
    "duration": 350,
    "start_time": "2023-02-03T22:30:23.510Z"
   },
   {
    "duration": 360,
    "start_time": "2023-02-03T22:30:51.316Z"
   },
   {
    "duration": 469,
    "start_time": "2023-02-03T22:30:57.407Z"
   },
   {
    "duration": 147,
    "start_time": "2023-02-03T22:31:26.497Z"
   },
   {
    "duration": 141,
    "start_time": "2023-02-03T22:31:38.994Z"
   },
   {
    "duration": 219,
    "start_time": "2023-02-03T22:31:58.667Z"
   },
   {
    "duration": 200,
    "start_time": "2023-02-03T22:32:20.410Z"
   },
   {
    "duration": 163,
    "start_time": "2023-02-03T22:32:48.564Z"
   },
   {
    "duration": 188,
    "start_time": "2023-02-03T22:33:39.448Z"
   },
   {
    "duration": 195,
    "start_time": "2023-02-03T22:34:13.478Z"
   },
   {
    "duration": 166,
    "start_time": "2023-02-03T22:34:54.749Z"
   },
   {
    "duration": 141,
    "start_time": "2023-02-03T22:35:26.867Z"
   },
   {
    "duration": 258,
    "start_time": "2023-02-03T22:35:31.932Z"
   },
   {
    "duration": 245,
    "start_time": "2023-02-03T22:45:59.071Z"
   },
   {
    "duration": 221,
    "start_time": "2023-02-03T22:46:04.653Z"
   },
   {
    "duration": 24,
    "start_time": "2023-02-03T22:46:38.366Z"
   },
   {
    "duration": 1140,
    "start_time": "2023-02-03T22:46:53.925Z"
   },
   {
    "duration": 53,
    "start_time": "2023-02-03T22:46:55.067Z"
   },
   {
    "duration": 24,
    "start_time": "2023-02-03T22:46:55.121Z"
   },
   {
    "duration": 22,
    "start_time": "2023-02-03T22:46:55.148Z"
   },
   {
    "duration": 12,
    "start_time": "2023-02-03T22:46:55.172Z"
   },
   {
    "duration": 12,
    "start_time": "2023-02-03T22:46:55.186Z"
   },
   {
    "duration": 6,
    "start_time": "2023-02-03T22:46:55.200Z"
   },
   {
    "duration": 21,
    "start_time": "2023-02-03T22:46:55.208Z"
   },
   {
    "duration": 26,
    "start_time": "2023-02-03T22:46:55.232Z"
   },
   {
    "duration": 31,
    "start_time": "2023-02-03T22:46:55.261Z"
   },
   {
    "duration": 11,
    "start_time": "2023-02-03T22:46:55.294Z"
   },
   {
    "duration": 11,
    "start_time": "2023-02-03T22:46:55.307Z"
   },
   {
    "duration": 20,
    "start_time": "2023-02-03T22:46:55.320Z"
   },
   {
    "duration": 17,
    "start_time": "2023-02-03T22:46:55.342Z"
   },
   {
    "duration": 24,
    "start_time": "2023-02-03T22:46:55.367Z"
   },
   {
    "duration": 31,
    "start_time": "2023-02-03T22:46:55.393Z"
   },
   {
    "duration": 21,
    "start_time": "2023-02-03T22:46:55.427Z"
   },
   {
    "duration": 9,
    "start_time": "2023-02-03T22:46:55.450Z"
   },
   {
    "duration": 26,
    "start_time": "2023-02-03T22:46:55.461Z"
   },
   {
    "duration": 6,
    "start_time": "2023-02-03T22:46:55.489Z"
   },
   {
    "duration": 14,
    "start_time": "2023-02-03T22:46:55.497Z"
   },
   {
    "duration": 6,
    "start_time": "2023-02-03T22:46:55.513Z"
   },
   {
    "duration": 18,
    "start_time": "2023-02-03T22:46:55.521Z"
   },
   {
    "duration": 4,
    "start_time": "2023-02-03T22:46:55.541Z"
   },
   {
    "duration": 45,
    "start_time": "2023-02-03T22:46:55.546Z"
   },
   {
    "duration": 22,
    "start_time": "2023-02-03T22:46:55.594Z"
   },
   {
    "duration": 9,
    "start_time": "2023-02-03T22:46:55.619Z"
   },
   {
    "duration": 258,
    "start_time": "2023-02-03T22:46:55.632Z"
   },
   {
    "duration": 19,
    "start_time": "2023-02-03T22:46:55.892Z"
   },
   {
    "duration": 367,
    "start_time": "2023-02-03T22:46:55.912Z"
   },
   {
    "duration": 4,
    "start_time": "2023-02-03T22:46:56.284Z"
   },
   {
    "duration": 300,
    "start_time": "2023-02-03T22:46:56.290Z"
   },
   {
    "duration": 25,
    "start_time": "2023-02-03T22:46:56.592Z"
   },
   {
    "duration": 318,
    "start_time": "2023-02-03T22:46:56.619Z"
   },
   {
    "duration": 145,
    "start_time": "2023-02-03T22:46:56.939Z"
   },
   {
    "duration": 22,
    "start_time": "2023-02-03T22:46:57.085Z"
   },
   {
    "duration": 265,
    "start_time": "2023-02-03T22:46:57.108Z"
   },
   {
    "duration": 310,
    "start_time": "2023-02-03T22:46:57.375Z"
   },
   {
    "duration": 206,
    "start_time": "2023-02-03T22:46:57.687Z"
   },
   {
    "duration": 151,
    "start_time": "2023-02-03T22:46:57.895Z"
   },
   {
    "duration": 22,
    "start_time": "2023-02-03T22:46:58.049Z"
   },
   {
    "duration": 226,
    "start_time": "2023-02-03T22:46:58.083Z"
   },
   {
    "duration": 24,
    "start_time": "2023-02-03T22:46:58.311Z"
   },
   {
    "duration": 177,
    "start_time": "2023-02-03T22:46:58.336Z"
   },
   {
    "duration": 173,
    "start_time": "2023-02-03T22:46:58.515Z"
   },
   {
    "duration": 7,
    "start_time": "2023-02-03T22:46:58.689Z"
   },
   {
    "duration": 12,
    "start_time": "2023-02-03T22:46:58.697Z"
   },
   {
    "duration": 375,
    "start_time": "2023-02-03T22:46:58.710Z"
   },
   {
    "duration": 357,
    "start_time": "2023-02-03T22:46:59.087Z"
   },
   {
    "duration": 446,
    "start_time": "2023-02-03T22:46:59.446Z"
   },
   {
    "duration": 221,
    "start_time": "2023-02-03T22:46:59.894Z"
   },
   {
    "duration": 207,
    "start_time": "2023-02-03T22:47:00.117Z"
   },
   {
    "duration": 9,
    "start_time": "2023-02-03T22:47:00.325Z"
   },
   {
    "duration": 202,
    "start_time": "2023-02-03T22:47:00.337Z"
   },
   {
    "duration": 8,
    "start_time": "2023-02-03T22:47:00.541Z"
   },
   {
    "duration": 227,
    "start_time": "2023-02-03T22:47:00.551Z"
   },
   {
    "duration": 6,
    "start_time": "2023-02-03T22:47:00.783Z"
   },
   {
    "duration": 203,
    "start_time": "2023-02-03T22:47:00.791Z"
   },
   {
    "duration": 6,
    "start_time": "2023-02-03T22:47:00.996Z"
   },
   {
    "duration": 204,
    "start_time": "2023-02-03T22:47:01.004Z"
   },
   {
    "duration": 8,
    "start_time": "2023-02-03T22:47:01.210Z"
   },
   {
    "duration": 235,
    "start_time": "2023-02-03T22:47:01.221Z"
   },
   {
    "duration": 7,
    "start_time": "2023-02-03T22:47:01.459Z"
   },
   {
    "duration": 217,
    "start_time": "2023-02-03T22:47:01.468Z"
   },
   {
    "duration": 7,
    "start_time": "2023-02-03T22:47:01.688Z"
   },
   {
    "duration": 261,
    "start_time": "2023-02-03T22:47:01.701Z"
   },
   {
    "duration": 7,
    "start_time": "2023-02-03T22:47:01.964Z"
   },
   {
    "duration": 607,
    "start_time": "2023-02-03T22:47:01.984Z"
   },
   {
    "duration": 422,
    "start_time": "2023-02-03T22:47:02.593Z"
   },
   {
    "duration": 402,
    "start_time": "2023-02-03T22:47:03.016Z"
   },
   {
    "duration": 410,
    "start_time": "2023-02-03T22:47:03.420Z"
   },
   {
    "duration": 60,
    "start_time": "2023-02-03T22:47:03.832Z"
   },
   {
    "duration": 19,
    "start_time": "2023-02-03T22:47:03.894Z"
   },
   {
    "duration": 279,
    "start_time": "2023-02-03T22:50:38.997Z"
   },
   {
    "duration": 286,
    "start_time": "2023-02-03T22:51:18.144Z"
   },
   {
    "duration": 286,
    "start_time": "2023-02-03T22:51:31.407Z"
   },
   {
    "duration": 367,
    "start_time": "2023-02-03T22:52:52.266Z"
   },
   {
    "duration": 286,
    "start_time": "2023-02-03T22:53:09.918Z"
   },
   {
    "duration": 283,
    "start_time": "2023-02-03T22:53:47.423Z"
   },
   {
    "duration": 291,
    "start_time": "2023-02-03T22:54:29.088Z"
   },
   {
    "duration": 292,
    "start_time": "2023-02-03T22:54:37.218Z"
   },
   {
    "duration": 279,
    "start_time": "2023-02-03T22:54:52.296Z"
   },
   {
    "duration": 394,
    "start_time": "2023-02-03T22:55:08.155Z"
   },
   {
    "duration": 283,
    "start_time": "2023-02-03T22:55:39.785Z"
   },
   {
    "duration": 303,
    "start_time": "2023-02-03T22:55:53.040Z"
   },
   {
    "duration": 309,
    "start_time": "2023-02-03T22:56:05.749Z"
   },
   {
    "duration": 291,
    "start_time": "2023-02-03T22:56:19.114Z"
   },
   {
    "duration": 376,
    "start_time": "2023-02-03T22:56:48.823Z"
   },
   {
    "duration": 310,
    "start_time": "2023-02-03T23:00:54.092Z"
   },
   {
    "duration": 191,
    "start_time": "2023-02-03T23:01:08.521Z"
   },
   {
    "duration": 177,
    "start_time": "2023-02-03T23:12:37.715Z"
   },
   {
    "duration": 1176,
    "start_time": "2023-02-03T23:13:01.299Z"
   },
   {
    "duration": 57,
    "start_time": "2023-02-03T23:13:02.477Z"
   },
   {
    "duration": 23,
    "start_time": "2023-02-03T23:13:02.535Z"
   },
   {
    "duration": 24,
    "start_time": "2023-02-03T23:13:02.560Z"
   },
   {
    "duration": 3,
    "start_time": "2023-02-03T23:13:02.586Z"
   },
   {
    "duration": 15,
    "start_time": "2023-02-03T23:13:02.591Z"
   },
   {
    "duration": 10,
    "start_time": "2023-02-03T23:13:02.608Z"
   },
   {
    "duration": 11,
    "start_time": "2023-02-03T23:13:02.620Z"
   },
   {
    "duration": 25,
    "start_time": "2023-02-03T23:13:02.633Z"
   },
   {
    "duration": 30,
    "start_time": "2023-02-03T23:13:02.661Z"
   },
   {
    "duration": 13,
    "start_time": "2023-02-03T23:13:02.693Z"
   },
   {
    "duration": 10,
    "start_time": "2023-02-03T23:13:02.708Z"
   },
   {
    "duration": 13,
    "start_time": "2023-02-03T23:13:02.719Z"
   },
   {
    "duration": 18,
    "start_time": "2023-02-03T23:13:02.734Z"
   },
   {
    "duration": 31,
    "start_time": "2023-02-03T23:13:02.753Z"
   },
   {
    "duration": 23,
    "start_time": "2023-02-03T23:13:02.786Z"
   },
   {
    "duration": 14,
    "start_time": "2023-02-03T23:13:02.810Z"
   },
   {
    "duration": 9,
    "start_time": "2023-02-03T23:13:02.825Z"
   },
   {
    "duration": 16,
    "start_time": "2023-02-03T23:13:02.835Z"
   },
   {
    "duration": 10,
    "start_time": "2023-02-03T23:13:02.853Z"
   },
   {
    "duration": 26,
    "start_time": "2023-02-03T23:13:02.865Z"
   },
   {
    "duration": 5,
    "start_time": "2023-02-03T23:13:02.893Z"
   },
   {
    "duration": 17,
    "start_time": "2023-02-03T23:13:02.900Z"
   },
   {
    "duration": 5,
    "start_time": "2023-02-03T23:13:02.919Z"
   },
   {
    "duration": 22,
    "start_time": "2023-02-03T23:13:02.926Z"
   },
   {
    "duration": 44,
    "start_time": "2023-02-03T23:13:02.949Z"
   },
   {
    "duration": 6,
    "start_time": "2023-02-03T23:13:02.995Z"
   },
   {
    "duration": 237,
    "start_time": "2023-02-03T23:13:03.005Z"
   },
   {
    "duration": 20,
    "start_time": "2023-02-03T23:13:03.243Z"
   },
   {
    "duration": 369,
    "start_time": "2023-02-03T23:13:03.264Z"
   },
   {
    "duration": 5,
    "start_time": "2023-02-03T23:13:03.634Z"
   },
   {
    "duration": 305,
    "start_time": "2023-02-03T23:13:03.641Z"
   },
   {
    "duration": 22,
    "start_time": "2023-02-03T23:13:03.948Z"
   },
   {
    "duration": 300,
    "start_time": "2023-02-03T23:13:03.971Z"
   },
   {
    "duration": 138,
    "start_time": "2023-02-03T23:13:04.274Z"
   },
   {
    "duration": 19,
    "start_time": "2023-02-03T23:13:04.414Z"
   },
   {
    "duration": 251,
    "start_time": "2023-02-03T23:13:04.434Z"
   },
   {
    "duration": 316,
    "start_time": "2023-02-03T23:13:04.687Z"
   },
   {
    "duration": 200,
    "start_time": "2023-02-03T23:13:05.005Z"
   },
   {
    "duration": 157,
    "start_time": "2023-02-03T23:13:05.206Z"
   },
   {
    "duration": 30,
    "start_time": "2023-02-03T23:13:05.364Z"
   },
   {
    "duration": 247,
    "start_time": "2023-02-03T23:13:05.396Z"
   },
   {
    "duration": 24,
    "start_time": "2023-02-03T23:13:05.645Z"
   },
   {
    "duration": 176,
    "start_time": "2023-02-03T23:13:05.670Z"
   },
   {
    "duration": 183,
    "start_time": "2023-02-03T23:13:05.848Z"
   },
   {
    "duration": 7,
    "start_time": "2023-02-03T23:13:06.033Z"
   },
   {
    "duration": 11,
    "start_time": "2023-02-03T23:13:06.041Z"
   },
   {
    "duration": 313,
    "start_time": "2023-02-03T23:13:06.054Z"
   },
   {
    "duration": 317,
    "start_time": "2023-02-03T23:13:06.369Z"
   },
   {
    "duration": 412,
    "start_time": "2023-02-03T23:13:06.688Z"
   },
   {
    "duration": 210,
    "start_time": "2023-02-03T23:13:07.102Z"
   },
   {
    "duration": 193,
    "start_time": "2023-02-03T23:13:07.314Z"
   },
   {
    "duration": 8,
    "start_time": "2023-02-03T23:13:07.509Z"
   },
   {
    "duration": 204,
    "start_time": "2023-02-03T23:13:07.519Z"
   },
   {
    "duration": 6,
    "start_time": "2023-02-03T23:13:07.725Z"
   },
   {
    "duration": 181,
    "start_time": "2023-02-03T23:13:07.733Z"
   },
   {
    "duration": 7,
    "start_time": "2023-02-03T23:13:07.916Z"
   },
   {
    "duration": 190,
    "start_time": "2023-02-03T23:13:07.924Z"
   },
   {
    "duration": 7,
    "start_time": "2023-02-03T23:13:08.115Z"
   },
   {
    "duration": 210,
    "start_time": "2023-02-03T23:13:08.123Z"
   },
   {
    "duration": 8,
    "start_time": "2023-02-03T23:13:08.335Z"
   },
   {
    "duration": 212,
    "start_time": "2023-02-03T23:13:08.344Z"
   },
   {
    "duration": 7,
    "start_time": "2023-02-03T23:13:08.557Z"
   },
   {
    "duration": 199,
    "start_time": "2023-02-03T23:13:08.566Z"
   },
   {
    "duration": 6,
    "start_time": "2023-02-03T23:13:08.767Z"
   },
   {
    "duration": 193,
    "start_time": "2023-02-03T23:13:08.783Z"
   },
   {
    "duration": 10,
    "start_time": "2023-02-03T23:13:08.978Z"
   },
   {
    "duration": 280,
    "start_time": "2023-02-03T23:13:08.989Z"
   },
   {
    "duration": 181,
    "start_time": "2023-02-03T23:13:09.271Z"
   },
   {
    "duration": 199,
    "start_time": "2023-02-03T23:13:09.454Z"
   },
   {
    "duration": 206,
    "start_time": "2023-02-03T23:13:09.655Z"
   },
   {
    "duration": 9,
    "start_time": "2023-02-03T23:13:09.863Z"
   },
   {
    "duration": 9,
    "start_time": "2023-02-03T23:13:09.885Z"
   },
   {
    "duration": 179,
    "start_time": "2023-02-03T23:15:36.118Z"
   },
   {
    "duration": 160,
    "start_time": "2023-02-03T23:17:05.645Z"
   },
   {
    "duration": 181,
    "start_time": "2023-02-03T23:29:48.710Z"
   },
   {
    "duration": 8,
    "start_time": "2023-02-03T23:37:31.822Z"
   },
   {
    "duration": 9,
    "start_time": "2023-02-03T23:41:25.705Z"
   },
   {
    "duration": 1281,
    "start_time": "2023-02-04T09:54:52.774Z"
   },
   {
    "duration": 213,
    "start_time": "2023-02-04T09:54:54.057Z"
   },
   {
    "duration": 23,
    "start_time": "2023-02-04T09:54:54.272Z"
   },
   {
    "duration": 15,
    "start_time": "2023-02-04T09:54:54.297Z"
   },
   {
    "duration": 5,
    "start_time": "2023-02-04T09:54:54.314Z"
   },
   {
    "duration": 42,
    "start_time": "2023-02-04T09:54:54.321Z"
   },
   {
    "duration": 8,
    "start_time": "2023-02-04T09:54:54.365Z"
   },
   {
    "duration": 10,
    "start_time": "2023-02-04T09:54:54.376Z"
   },
   {
    "duration": 21,
    "start_time": "2023-02-04T09:54:54.388Z"
   },
   {
    "duration": 17,
    "start_time": "2023-02-04T09:54:54.412Z"
   },
   {
    "duration": 25,
    "start_time": "2023-02-04T09:54:54.430Z"
   },
   {
    "duration": 8,
    "start_time": "2023-02-04T09:54:54.457Z"
   },
   {
    "duration": 12,
    "start_time": "2023-02-04T09:54:54.467Z"
   },
   {
    "duration": 14,
    "start_time": "2023-02-04T09:54:54.481Z"
   },
   {
    "duration": 10,
    "start_time": "2023-02-04T09:54:54.497Z"
   },
   {
    "duration": 43,
    "start_time": "2023-02-04T09:54:54.509Z"
   },
   {
    "duration": 20,
    "start_time": "2023-02-04T09:54:54.554Z"
   },
   {
    "duration": 6,
    "start_time": "2023-02-04T09:54:54.575Z"
   },
   {
    "duration": 12,
    "start_time": "2023-02-04T09:54:54.583Z"
   },
   {
    "duration": 6,
    "start_time": "2023-02-04T09:54:54.597Z"
   },
   {
    "duration": 13,
    "start_time": "2023-02-04T09:54:54.628Z"
   },
   {
    "duration": 10,
    "start_time": "2023-02-04T09:54:54.642Z"
   },
   {
    "duration": 16,
    "start_time": "2023-02-04T09:54:54.654Z"
   },
   {
    "duration": 5,
    "start_time": "2023-02-04T09:54:54.671Z"
   },
   {
    "duration": 18,
    "start_time": "2023-02-04T09:54:54.678Z"
   },
   {
    "duration": 33,
    "start_time": "2023-02-04T09:54:54.701Z"
   },
   {
    "duration": 7,
    "start_time": "2023-02-04T09:54:54.736Z"
   },
   {
    "duration": 244,
    "start_time": "2023-02-04T09:54:54.747Z"
   },
   {
    "duration": 18,
    "start_time": "2023-02-04T09:54:54.992Z"
   },
   {
    "duration": 410,
    "start_time": "2023-02-04T09:54:55.011Z"
   },
   {
    "duration": 6,
    "start_time": "2023-02-04T09:54:55.423Z"
   },
   {
    "duration": 322,
    "start_time": "2023-02-04T09:54:55.431Z"
   },
   {
    "duration": 22,
    "start_time": "2023-02-04T09:54:55.754Z"
   },
   {
    "duration": 300,
    "start_time": "2023-02-04T09:54:55.777Z"
   },
   {
    "duration": 134,
    "start_time": "2023-02-04T09:54:56.079Z"
   },
   {
    "duration": 25,
    "start_time": "2023-02-04T09:54:56.215Z"
   },
   {
    "duration": 248,
    "start_time": "2023-02-04T09:54:56.241Z"
   },
   {
    "duration": 292,
    "start_time": "2023-02-04T09:54:56.491Z"
   },
   {
    "duration": 188,
    "start_time": "2023-02-04T09:54:56.784Z"
   },
   {
    "duration": 150,
    "start_time": "2023-02-04T09:54:56.974Z"
   },
   {
    "duration": 23,
    "start_time": "2023-02-04T09:54:57.127Z"
   },
   {
    "duration": 248,
    "start_time": "2023-02-04T09:54:57.151Z"
   },
   {
    "duration": 29,
    "start_time": "2023-02-04T09:54:57.401Z"
   },
   {
    "duration": 193,
    "start_time": "2023-02-04T09:54:57.431Z"
   },
   {
    "duration": 195,
    "start_time": "2023-02-04T09:54:57.626Z"
   },
   {
    "duration": 9,
    "start_time": "2023-02-04T09:54:57.823Z"
   },
   {
    "duration": 32,
    "start_time": "2023-02-04T09:54:57.834Z"
   },
   {
    "duration": 322,
    "start_time": "2023-02-04T09:54:57.867Z"
   },
   {
    "duration": 318,
    "start_time": "2023-02-04T09:54:58.191Z"
   },
   {
    "duration": 394,
    "start_time": "2023-02-04T09:54:58.511Z"
   },
   {
    "duration": 199,
    "start_time": "2023-02-04T09:54:58.906Z"
   },
   {
    "duration": 189,
    "start_time": "2023-02-04T09:54:59.106Z"
   },
   {
    "duration": 8,
    "start_time": "2023-02-04T09:54:59.296Z"
   },
   {
    "duration": 193,
    "start_time": "2023-02-04T09:54:59.306Z"
   },
   {
    "duration": 7,
    "start_time": "2023-02-04T09:54:59.501Z"
   },
   {
    "duration": 191,
    "start_time": "2023-02-04T09:54:59.510Z"
   },
   {
    "duration": 7,
    "start_time": "2023-02-04T09:54:59.704Z"
   },
   {
    "duration": 191,
    "start_time": "2023-02-04T09:54:59.713Z"
   },
   {
    "duration": 6,
    "start_time": "2023-02-04T09:54:59.905Z"
   },
   {
    "duration": 216,
    "start_time": "2023-02-04T09:54:59.912Z"
   },
   {
    "duration": 11,
    "start_time": "2023-02-04T09:55:00.129Z"
   },
   {
    "duration": 222,
    "start_time": "2023-02-04T09:55:00.142Z"
   },
   {
    "duration": 6,
    "start_time": "2023-02-04T09:55:00.366Z"
   },
   {
    "duration": 201,
    "start_time": "2023-02-04T09:55:00.374Z"
   },
   {
    "duration": 6,
    "start_time": "2023-02-04T09:55:00.576Z"
   },
   {
    "duration": 347,
    "start_time": "2023-02-04T09:55:00.584Z"
   },
   {
    "duration": 8,
    "start_time": "2023-02-04T09:55:00.940Z"
   },
   {
    "duration": 717,
    "start_time": "2023-02-04T09:55:00.950Z"
   },
   {
    "duration": 462,
    "start_time": "2023-02-04T09:55:01.668Z"
   },
   {
    "duration": 320,
    "start_time": "2023-02-04T09:55:02.132Z"
   },
   {
    "duration": 256,
    "start_time": "2023-02-04T09:55:02.454Z"
   },
   {
    "duration": 16,
    "start_time": "2023-02-04T09:55:02.713Z"
   },
   {
    "duration": 17,
    "start_time": "2023-02-04T09:55:02.731Z"
   },
   {
    "duration": 127,
    "start_time": "2023-02-04T09:55:29.801Z"
   },
   {
    "duration": 214,
    "start_time": "2023-02-04T09:56:20.364Z"
   },
   {
    "duration": 141,
    "start_time": "2023-02-04T09:56:42.599Z"
   },
   {
    "duration": 292,
    "start_time": "2023-02-04T10:00:14.366Z"
   },
   {
    "duration": 253,
    "start_time": "2023-02-04T10:00:39.050Z"
   },
   {
    "duration": 383,
    "start_time": "2023-02-04T10:06:44.245Z"
   },
   {
    "duration": 273,
    "start_time": "2023-02-04T10:07:12.904Z"
   },
   {
    "duration": 274,
    "start_time": "2023-02-04T10:07:26.771Z"
   },
   {
    "duration": 263,
    "start_time": "2023-02-04T10:07:41.600Z"
   },
   {
    "duration": 260,
    "start_time": "2023-02-04T10:07:48.788Z"
   },
   {
    "duration": 338,
    "start_time": "2023-02-04T10:07:53.841Z"
   },
   {
    "duration": 1075,
    "start_time": "2023-02-04T10:08:42.312Z"
   },
   {
    "duration": 55,
    "start_time": "2023-02-04T10:08:43.389Z"
   },
   {
    "duration": 23,
    "start_time": "2023-02-04T10:08:43.446Z"
   },
   {
    "duration": 18,
    "start_time": "2023-02-04T10:08:43.471Z"
   },
   {
    "duration": 4,
    "start_time": "2023-02-04T10:08:43.491Z"
   },
   {
    "duration": 47,
    "start_time": "2023-02-04T10:08:43.497Z"
   },
   {
    "duration": 7,
    "start_time": "2023-02-04T10:08:43.546Z"
   },
   {
    "duration": 11,
    "start_time": "2023-02-04T10:08:43.555Z"
   },
   {
    "duration": 20,
    "start_time": "2023-02-04T10:08:43.568Z"
   },
   {
    "duration": 15,
    "start_time": "2023-02-04T10:08:43.590Z"
   },
   {
    "duration": 44,
    "start_time": "2023-02-04T10:08:43.607Z"
   },
   {
    "duration": 11,
    "start_time": "2023-02-04T10:08:43.653Z"
   },
   {
    "duration": 13,
    "start_time": "2023-02-04T10:08:43.667Z"
   },
   {
    "duration": 20,
    "start_time": "2023-02-04T10:08:43.684Z"
   },
   {
    "duration": 16,
    "start_time": "2023-02-04T10:08:43.706Z"
   },
   {
    "duration": 57,
    "start_time": "2023-02-04T10:08:43.724Z"
   },
   {
    "duration": 12,
    "start_time": "2023-02-04T10:08:43.782Z"
   },
   {
    "duration": 13,
    "start_time": "2023-02-04T10:08:43.796Z"
   },
   {
    "duration": 14,
    "start_time": "2023-02-04T10:08:43.811Z"
   },
   {
    "duration": 9,
    "start_time": "2023-02-04T10:08:43.826Z"
   },
   {
    "duration": 11,
    "start_time": "2023-02-04T10:08:43.836Z"
   },
   {
    "duration": 5,
    "start_time": "2023-02-04T10:08:43.849Z"
   },
   {
    "duration": 17,
    "start_time": "2023-02-04T10:08:43.856Z"
   },
   {
    "duration": 4,
    "start_time": "2023-02-04T10:08:43.874Z"
   },
   {
    "duration": 17,
    "start_time": "2023-02-04T10:08:43.879Z"
   },
   {
    "duration": 36,
    "start_time": "2023-02-04T10:08:43.897Z"
   },
   {
    "duration": 7,
    "start_time": "2023-02-04T10:08:43.934Z"
   },
   {
    "duration": 219,
    "start_time": "2023-02-04T10:08:43.942Z"
   },
   {
    "duration": 19,
    "start_time": "2023-02-04T10:08:44.163Z"
   },
   {
    "duration": 372,
    "start_time": "2023-02-04T10:08:44.184Z"
   },
   {
    "duration": 5,
    "start_time": "2023-02-04T10:08:44.559Z"
   },
   {
    "duration": 292,
    "start_time": "2023-02-04T10:08:44.565Z"
   },
   {
    "duration": 21,
    "start_time": "2023-02-04T10:08:44.858Z"
   },
   {
    "duration": 301,
    "start_time": "2023-02-04T10:08:44.881Z"
   },
   {
    "duration": 136,
    "start_time": "2023-02-04T10:08:45.183Z"
   },
   {
    "duration": 38,
    "start_time": "2023-02-04T10:08:45.320Z"
   },
   {
    "duration": 228,
    "start_time": "2023-02-04T10:08:45.360Z"
   },
   {
    "duration": 294,
    "start_time": "2023-02-04T10:08:45.590Z"
   },
   {
    "duration": 186,
    "start_time": "2023-02-04T10:08:45.886Z"
   },
   {
    "duration": 144,
    "start_time": "2023-02-04T10:08:46.073Z"
   },
   {
    "duration": 37,
    "start_time": "2023-02-04T10:08:46.220Z"
   },
   {
    "duration": 224,
    "start_time": "2023-02-04T10:08:46.259Z"
   },
   {
    "duration": 19,
    "start_time": "2023-02-04T10:08:46.485Z"
   },
   {
    "duration": 171,
    "start_time": "2023-02-04T10:08:46.505Z"
   },
   {
    "duration": 179,
    "start_time": "2023-02-04T10:08:46.677Z"
   },
   {
    "duration": 5,
    "start_time": "2023-02-04T10:08:46.859Z"
   },
   {
    "duration": 10,
    "start_time": "2023-02-04T10:08:46.865Z"
   },
   {
    "duration": 275,
    "start_time": "2023-02-04T10:08:46.876Z"
   },
   {
    "duration": 325,
    "start_time": "2023-02-04T10:08:47.154Z"
   },
   {
    "duration": 366,
    "start_time": "2023-02-04T10:08:47.481Z"
   },
   {
    "duration": 194,
    "start_time": "2023-02-04T10:08:47.852Z"
   },
   {
    "duration": 169,
    "start_time": "2023-02-04T10:08:48.048Z"
   },
   {
    "duration": 32,
    "start_time": "2023-02-04T10:08:48.219Z"
   },
   {
    "duration": 163,
    "start_time": "2023-02-04T10:08:48.253Z"
   },
   {
    "duration": 6,
    "start_time": "2023-02-04T10:08:48.417Z"
   },
   {
    "duration": 192,
    "start_time": "2023-02-04T10:08:48.432Z"
   },
   {
    "duration": 10,
    "start_time": "2023-02-04T10:08:48.626Z"
   },
   {
    "duration": 186,
    "start_time": "2023-02-04T10:08:48.637Z"
   },
   {
    "duration": 8,
    "start_time": "2023-02-04T10:08:48.824Z"
   },
   {
    "duration": 207,
    "start_time": "2023-02-04T10:08:48.837Z"
   },
   {
    "duration": 10,
    "start_time": "2023-02-04T10:08:49.045Z"
   },
   {
    "duration": 183,
    "start_time": "2023-02-04T10:08:49.056Z"
   },
   {
    "duration": 10,
    "start_time": "2023-02-04T10:08:49.240Z"
   },
   {
    "duration": 188,
    "start_time": "2023-02-04T10:08:49.252Z"
   },
   {
    "duration": 6,
    "start_time": "2023-02-04T10:08:49.442Z"
   },
   {
    "duration": 189,
    "start_time": "2023-02-04T10:08:49.450Z"
   },
   {
    "duration": 7,
    "start_time": "2023-02-04T10:08:49.641Z"
   },
   {
    "duration": 258,
    "start_time": "2023-02-04T10:08:49.650Z"
   },
   {
    "duration": 180,
    "start_time": "2023-02-04T10:08:49.910Z"
   },
   {
    "duration": 175,
    "start_time": "2023-02-04T10:08:50.092Z"
   },
   {
    "duration": 179,
    "start_time": "2023-02-04T10:08:50.269Z"
   },
   {
    "duration": 9,
    "start_time": "2023-02-04T10:08:50.450Z"
   },
   {
    "duration": 11,
    "start_time": "2023-02-04T10:08:50.461Z"
   },
   {
    "duration": 1277,
    "start_time": "2023-02-05T08:06:19.574Z"
   },
   {
    "duration": 202,
    "start_time": "2023-02-05T08:06:20.853Z"
   },
   {
    "duration": 21,
    "start_time": "2023-02-05T08:06:21.057Z"
   },
   {
    "duration": 25,
    "start_time": "2023-02-05T08:06:21.080Z"
   },
   {
    "duration": 5,
    "start_time": "2023-02-05T08:06:21.107Z"
   },
   {
    "duration": 38,
    "start_time": "2023-02-05T08:06:21.114Z"
   },
   {
    "duration": 9,
    "start_time": "2023-02-05T08:06:21.154Z"
   },
   {
    "duration": 10,
    "start_time": "2023-02-05T08:06:21.165Z"
   },
   {
    "duration": 36,
    "start_time": "2023-02-05T08:06:21.177Z"
   },
   {
    "duration": 18,
    "start_time": "2023-02-05T08:06:21.217Z"
   },
   {
    "duration": 11,
    "start_time": "2023-02-05T08:06:21.237Z"
   },
   {
    "duration": 10,
    "start_time": "2023-02-05T08:06:21.250Z"
   },
   {
    "duration": 13,
    "start_time": "2023-02-05T08:06:21.261Z"
   },
   {
    "duration": 40,
    "start_time": "2023-02-05T08:06:21.276Z"
   },
   {
    "duration": 10,
    "start_time": "2023-02-05T08:06:21.318Z"
   },
   {
    "duration": 40,
    "start_time": "2023-02-05T08:06:21.333Z"
   },
   {
    "duration": 37,
    "start_time": "2023-02-05T08:06:21.376Z"
   },
   {
    "duration": 9,
    "start_time": "2023-02-05T08:06:21.415Z"
   },
   {
    "duration": 20,
    "start_time": "2023-02-05T08:06:21.426Z"
   },
   {
    "duration": 8,
    "start_time": "2023-02-05T08:06:21.448Z"
   },
   {
    "duration": 46,
    "start_time": "2023-02-05T08:06:21.458Z"
   },
   {
    "duration": 7,
    "start_time": "2023-02-05T08:06:21.506Z"
   },
   {
    "duration": 15,
    "start_time": "2023-02-05T08:06:21.515Z"
   },
   {
    "duration": 3,
    "start_time": "2023-02-05T08:06:21.532Z"
   },
   {
    "duration": 24,
    "start_time": "2023-02-05T08:06:21.538Z"
   },
   {
    "duration": 48,
    "start_time": "2023-02-05T08:06:21.564Z"
   },
   {
    "duration": 7,
    "start_time": "2023-02-05T08:06:21.614Z"
   },
   {
    "duration": 227,
    "start_time": "2023-02-05T08:06:21.626Z"
   },
   {
    "duration": 19,
    "start_time": "2023-02-05T08:06:21.854Z"
   },
   {
    "duration": 349,
    "start_time": "2023-02-05T08:06:21.875Z"
   },
   {
    "duration": 5,
    "start_time": "2023-02-05T08:06:22.226Z"
   },
   {
    "duration": 299,
    "start_time": "2023-02-05T08:06:22.233Z"
   },
   {
    "duration": 23,
    "start_time": "2023-02-05T08:06:22.534Z"
   },
   {
    "duration": 288,
    "start_time": "2023-02-05T08:06:22.559Z"
   },
   {
    "duration": 118,
    "start_time": "2023-02-05T08:06:22.848Z"
   },
   {
    "duration": 35,
    "start_time": "2023-02-05T08:06:22.968Z"
   },
   {
    "duration": 254,
    "start_time": "2023-02-05T08:06:23.005Z"
   },
   {
    "duration": 301,
    "start_time": "2023-02-05T08:06:23.262Z"
   },
   {
    "duration": 194,
    "start_time": "2023-02-05T08:06:23.565Z"
   },
   {
    "duration": 147,
    "start_time": "2023-02-05T08:06:23.760Z"
   },
   {
    "duration": 21,
    "start_time": "2023-02-05T08:06:23.909Z"
   },
   {
    "duration": 231,
    "start_time": "2023-02-05T08:06:23.931Z"
   },
   {
    "duration": 22,
    "start_time": "2023-02-05T08:06:24.163Z"
   },
   {
    "duration": 171,
    "start_time": "2023-02-05T08:06:24.187Z"
   },
   {
    "duration": 164,
    "start_time": "2023-02-05T08:06:24.359Z"
   },
   {
    "duration": 7,
    "start_time": "2023-02-05T08:06:24.525Z"
   },
   {
    "duration": 7,
    "start_time": "2023-02-05T08:06:24.533Z"
   },
   {
    "duration": 296,
    "start_time": "2023-02-05T08:06:24.542Z"
   },
   {
    "duration": 292,
    "start_time": "2023-02-05T08:06:24.840Z"
   },
   {
    "duration": 358,
    "start_time": "2023-02-05T08:06:25.134Z"
   },
   {
    "duration": 195,
    "start_time": "2023-02-05T08:06:25.494Z"
   },
   {
    "duration": 172,
    "start_time": "2023-02-05T08:06:25.691Z"
   },
   {
    "duration": 8,
    "start_time": "2023-02-05T08:06:25.865Z"
   },
   {
    "duration": 186,
    "start_time": "2023-02-05T08:06:25.874Z"
   },
   {
    "duration": 7,
    "start_time": "2023-02-05T08:06:26.062Z"
   },
   {
    "duration": 235,
    "start_time": "2023-02-05T08:06:26.072Z"
   },
   {
    "duration": 7,
    "start_time": "2023-02-05T08:06:26.308Z"
   },
   {
    "duration": 187,
    "start_time": "2023-02-05T08:06:26.317Z"
   },
   {
    "duration": 5,
    "start_time": "2023-02-05T08:06:26.506Z"
   },
   {
    "duration": 233,
    "start_time": "2023-02-05T08:06:26.513Z"
   },
   {
    "duration": 11,
    "start_time": "2023-02-05T08:06:26.748Z"
   },
   {
    "duration": 198,
    "start_time": "2023-02-05T08:06:26.761Z"
   },
   {
    "duration": 9,
    "start_time": "2023-02-05T08:06:26.961Z"
   },
   {
    "duration": 215,
    "start_time": "2023-02-05T08:06:26.972Z"
   },
   {
    "duration": 15,
    "start_time": "2023-02-05T08:06:27.189Z"
   },
   {
    "duration": 180,
    "start_time": "2023-02-05T08:06:27.206Z"
   },
   {
    "duration": 16,
    "start_time": "2023-02-05T08:06:27.389Z"
   },
   {
    "duration": 265,
    "start_time": "2023-02-05T08:06:27.407Z"
   },
   {
    "duration": 183,
    "start_time": "2023-02-05T08:06:27.674Z"
   },
   {
    "duration": 177,
    "start_time": "2023-02-05T08:06:27.859Z"
   },
   {
    "duration": 181,
    "start_time": "2023-02-05T08:06:28.037Z"
   },
   {
    "duration": 9,
    "start_time": "2023-02-05T08:06:28.219Z"
   },
   {
    "duration": 18,
    "start_time": "2023-02-05T08:06:28.230Z"
   },
   {
    "duration": 5,
    "start_time": "2023-02-05T08:18:37.277Z"
   },
   {
    "duration": 6,
    "start_time": "2023-02-05T08:21:40.594Z"
   },
   {
    "duration": 37,
    "start_time": "2023-02-05T08:21:47.263Z"
   },
   {
    "duration": 4,
    "start_time": "2023-02-05T08:21:58.887Z"
   },
   {
    "duration": 1352,
    "start_time": "2023-02-05T13:36:37.020Z"
   },
   {
    "duration": 95,
    "start_time": "2023-02-05T13:36:38.375Z"
   },
   {
    "duration": 23,
    "start_time": "2023-02-05T13:36:38.472Z"
   },
   {
    "duration": 15,
    "start_time": "2023-02-05T13:36:38.497Z"
   },
   {
    "duration": 4,
    "start_time": "2023-02-05T13:36:38.514Z"
   },
   {
    "duration": 16,
    "start_time": "2023-02-05T13:36:38.519Z"
   },
   {
    "duration": 6,
    "start_time": "2023-02-05T13:36:38.537Z"
   },
   {
    "duration": 39,
    "start_time": "2023-02-05T13:36:38.545Z"
   },
   {
    "duration": 21,
    "start_time": "2023-02-05T13:36:38.586Z"
   },
   {
    "duration": 14,
    "start_time": "2023-02-05T13:36:38.609Z"
   },
   {
    "duration": 19,
    "start_time": "2023-02-05T13:36:38.625Z"
   },
   {
    "duration": 10,
    "start_time": "2023-02-05T13:36:38.646Z"
   },
   {
    "duration": 36,
    "start_time": "2023-02-05T13:36:38.658Z"
   },
   {
    "duration": 29,
    "start_time": "2023-02-05T13:36:38.698Z"
   },
   {
    "duration": 18,
    "start_time": "2023-02-05T13:36:38.729Z"
   },
   {
    "duration": 27,
    "start_time": "2023-02-05T13:36:38.749Z"
   },
   {
    "duration": 16,
    "start_time": "2023-02-05T13:36:38.777Z"
   },
   {
    "duration": 7,
    "start_time": "2023-02-05T13:36:38.795Z"
   },
   {
    "duration": 17,
    "start_time": "2023-02-05T13:36:38.804Z"
   },
   {
    "duration": 7,
    "start_time": "2023-02-05T13:36:38.823Z"
   },
   {
    "duration": 25,
    "start_time": "2023-02-05T13:36:38.832Z"
   },
   {
    "duration": 7,
    "start_time": "2023-02-05T13:36:38.859Z"
   },
   {
    "duration": 21,
    "start_time": "2023-02-05T13:36:38.884Z"
   },
   {
    "duration": 3,
    "start_time": "2023-02-05T13:36:38.907Z"
   },
   {
    "duration": 26,
    "start_time": "2023-02-05T13:36:38.912Z"
   },
   {
    "duration": 51,
    "start_time": "2023-02-05T13:36:38.940Z"
   },
   {
    "duration": 7,
    "start_time": "2023-02-05T13:36:38.993Z"
   },
   {
    "duration": 257,
    "start_time": "2023-02-05T13:36:39.002Z"
   },
   {
    "duration": 26,
    "start_time": "2023-02-05T13:36:39.261Z"
   },
   {
    "duration": 424,
    "start_time": "2023-02-05T13:36:39.289Z"
   },
   {
    "duration": 6,
    "start_time": "2023-02-05T13:36:39.715Z"
   },
   {
    "duration": 382,
    "start_time": "2023-02-05T13:36:39.724Z"
   },
   {
    "duration": 22,
    "start_time": "2023-02-05T13:36:40.108Z"
   },
   {
    "duration": 314,
    "start_time": "2023-02-05T13:36:40.132Z"
   },
   {
    "duration": 145,
    "start_time": "2023-02-05T13:36:40.449Z"
   },
   {
    "duration": 24,
    "start_time": "2023-02-05T13:36:40.596Z"
   },
   {
    "duration": 266,
    "start_time": "2023-02-05T13:36:40.621Z"
   },
   {
    "duration": 310,
    "start_time": "2023-02-05T13:36:40.889Z"
   },
   {
    "duration": 205,
    "start_time": "2023-02-05T13:36:41.201Z"
   },
   {
    "duration": 164,
    "start_time": "2023-02-05T13:36:41.408Z"
   },
   {
    "duration": 28,
    "start_time": "2023-02-05T13:36:41.576Z"
   },
   {
    "duration": 275,
    "start_time": "2023-02-05T13:36:41.606Z"
   },
   {
    "duration": 25,
    "start_time": "2023-02-05T13:36:41.884Z"
   },
   {
    "duration": 194,
    "start_time": "2023-02-05T13:36:41.912Z"
   },
   {
    "duration": 188,
    "start_time": "2023-02-05T13:36:42.109Z"
   },
   {
    "duration": 7,
    "start_time": "2023-02-05T13:36:42.299Z"
   },
   {
    "duration": 12,
    "start_time": "2023-02-05T13:36:42.307Z"
   },
   {
    "duration": 325,
    "start_time": "2023-02-05T13:36:42.320Z"
   },
   {
    "duration": 308,
    "start_time": "2023-02-05T13:36:42.647Z"
   },
   {
    "duration": 408,
    "start_time": "2023-02-05T13:36:42.957Z"
   },
   {
    "duration": 217,
    "start_time": "2023-02-05T13:36:43.367Z"
   },
   {
    "duration": 221,
    "start_time": "2023-02-05T13:36:43.587Z"
   },
   {
    "duration": 18,
    "start_time": "2023-02-05T13:36:43.810Z"
   },
   {
    "duration": 214,
    "start_time": "2023-02-05T13:36:43.830Z"
   },
   {
    "duration": 6,
    "start_time": "2023-02-05T13:36:44.046Z"
   },
   {
    "duration": 206,
    "start_time": "2023-02-05T13:36:44.053Z"
   },
   {
    "duration": 7,
    "start_time": "2023-02-05T13:36:44.261Z"
   },
   {
    "duration": 187,
    "start_time": "2023-02-05T13:36:44.284Z"
   },
   {
    "duration": 10,
    "start_time": "2023-02-05T13:36:44.474Z"
   },
   {
    "duration": 228,
    "start_time": "2023-02-05T13:36:44.486Z"
   },
   {
    "duration": 8,
    "start_time": "2023-02-05T13:36:44.716Z"
   },
   {
    "duration": 209,
    "start_time": "2023-02-05T13:36:44.726Z"
   },
   {
    "duration": 7,
    "start_time": "2023-02-05T13:36:44.936Z"
   },
   {
    "duration": 212,
    "start_time": "2023-02-05T13:36:44.945Z"
   },
   {
    "duration": 7,
    "start_time": "2023-02-05T13:36:45.159Z"
   },
   {
    "duration": 210,
    "start_time": "2023-02-05T13:36:45.168Z"
   },
   {
    "duration": 8,
    "start_time": "2023-02-05T13:36:45.384Z"
   },
   {
    "duration": 305,
    "start_time": "2023-02-05T13:36:45.394Z"
   },
   {
    "duration": 207,
    "start_time": "2023-02-05T13:36:45.701Z"
   },
   {
    "duration": 198,
    "start_time": "2023-02-05T13:36:45.910Z"
   },
   {
    "duration": 203,
    "start_time": "2023-02-05T13:36:46.110Z"
   },
   {
    "duration": 9,
    "start_time": "2023-02-05T13:36:46.315Z"
   },
   {
    "duration": 16,
    "start_time": "2023-02-05T13:36:46.326Z"
   },
   {
    "duration": 1288,
    "start_time": "2023-02-05T14:35:31.538Z"
   },
   {
    "duration": 53,
    "start_time": "2023-02-05T14:35:32.828Z"
   },
   {
    "duration": 34,
    "start_time": "2023-02-05T14:35:32.887Z"
   },
   {
    "duration": 17,
    "start_time": "2023-02-05T14:35:32.923Z"
   },
   {
    "duration": 3,
    "start_time": "2023-02-05T14:35:32.942Z"
   },
   {
    "duration": 18,
    "start_time": "2023-02-05T14:35:32.947Z"
   },
   {
    "duration": 46,
    "start_time": "2023-02-05T14:35:32.967Z"
   },
   {
    "duration": 16,
    "start_time": "2023-02-05T14:35:33.015Z"
   },
   {
    "duration": 25,
    "start_time": "2023-02-05T14:35:33.033Z"
   },
   {
    "duration": 16,
    "start_time": "2023-02-05T14:35:33.061Z"
   },
   {
    "duration": 55,
    "start_time": "2023-02-05T14:35:33.079Z"
   },
   {
    "duration": 46,
    "start_time": "2023-02-05T14:35:33.137Z"
   },
   {
    "duration": 42,
    "start_time": "2023-02-05T14:35:33.190Z"
   },
   {
    "duration": 30,
    "start_time": "2023-02-05T14:35:33.234Z"
   },
   {
    "duration": 72,
    "start_time": "2023-02-05T14:35:33.265Z"
   },
   {
    "duration": 61,
    "start_time": "2023-02-05T14:35:33.340Z"
   },
   {
    "duration": 23,
    "start_time": "2023-02-05T14:35:33.403Z"
   },
   {
    "duration": 11,
    "start_time": "2023-02-05T14:35:33.429Z"
   },
   {
    "duration": 20,
    "start_time": "2023-02-05T14:35:33.442Z"
   },
   {
    "duration": 11,
    "start_time": "2023-02-05T14:35:33.463Z"
   },
   {
    "duration": 49,
    "start_time": "2023-02-05T14:35:33.477Z"
   },
   {
    "duration": 9,
    "start_time": "2023-02-05T14:35:33.527Z"
   },
   {
    "duration": 19,
    "start_time": "2023-02-05T14:35:33.538Z"
   },
   {
    "duration": 17,
    "start_time": "2023-02-05T14:35:33.559Z"
   },
   {
    "duration": 64,
    "start_time": "2023-02-05T14:35:33.578Z"
   },
   {
    "duration": 22,
    "start_time": "2023-02-05T14:35:33.645Z"
   },
   {
    "duration": 7,
    "start_time": "2023-02-05T14:35:33.669Z"
   },
   {
    "duration": 292,
    "start_time": "2023-02-05T14:35:33.680Z"
   },
   {
    "duration": 31,
    "start_time": "2023-02-05T14:35:33.974Z"
   },
   {
    "duration": 459,
    "start_time": "2023-02-05T14:35:34.007Z"
   },
   {
    "duration": 6,
    "start_time": "2023-02-05T14:35:34.468Z"
   },
   {
    "duration": 353,
    "start_time": "2023-02-05T14:35:34.489Z"
   },
   {
    "duration": 26,
    "start_time": "2023-02-05T14:35:34.845Z"
   },
   {
    "duration": 378,
    "start_time": "2023-02-05T14:35:34.873Z"
   },
   {
    "duration": 178,
    "start_time": "2023-02-05T14:35:35.253Z"
   },
   {
    "duration": 21,
    "start_time": "2023-02-05T14:35:35.433Z"
   },
   {
    "duration": 316,
    "start_time": "2023-02-05T14:35:35.456Z"
   },
   {
    "duration": 366,
    "start_time": "2023-02-05T14:35:35.774Z"
   },
   {
    "duration": 234,
    "start_time": "2023-02-05T14:35:36.142Z"
   },
   {
    "duration": 209,
    "start_time": "2023-02-05T14:35:36.389Z"
   },
   {
    "duration": 36,
    "start_time": "2023-02-05T14:35:36.600Z"
   },
   {
    "duration": 301,
    "start_time": "2023-02-05T14:35:36.638Z"
   },
   {
    "duration": 26,
    "start_time": "2023-02-05T14:35:36.941Z"
   },
   {
    "duration": 220,
    "start_time": "2023-02-05T14:35:36.969Z"
   },
   {
    "duration": 201,
    "start_time": "2023-02-05T14:35:37.194Z"
   },
   {
    "duration": 7,
    "start_time": "2023-02-05T14:35:37.398Z"
   },
   {
    "duration": 27,
    "start_time": "2023-02-05T14:35:37.407Z"
   },
   {
    "duration": 367,
    "start_time": "2023-02-05T14:35:37.436Z"
   },
   {
    "duration": 347,
    "start_time": "2023-02-05T14:35:37.804Z"
   },
   {
    "duration": 423,
    "start_time": "2023-02-05T14:35:38.153Z"
   },
   {
    "duration": 251,
    "start_time": "2023-02-05T14:35:38.578Z"
   },
   {
    "duration": 235,
    "start_time": "2023-02-05T14:35:38.831Z"
   },
   {
    "duration": 8,
    "start_time": "2023-02-05T14:35:39.068Z"
   },
   {
    "duration": 228,
    "start_time": "2023-02-05T14:35:39.087Z"
   },
   {
    "duration": 6,
    "start_time": "2023-02-05T14:35:39.318Z"
   },
   {
    "duration": 203,
    "start_time": "2023-02-05T14:35:39.326Z"
   },
   {
    "duration": 6,
    "start_time": "2023-02-05T14:35:39.531Z"
   },
   {
    "duration": 275,
    "start_time": "2023-02-05T14:35:39.538Z"
   },
   {
    "duration": 12,
    "start_time": "2023-02-05T14:35:39.817Z"
   },
   {
    "duration": 316,
    "start_time": "2023-02-05T14:35:39.832Z"
   },
   {
    "duration": 10,
    "start_time": "2023-02-05T14:35:40.150Z"
   },
   {
    "duration": 253,
    "start_time": "2023-02-05T14:35:40.162Z"
   },
   {
    "duration": 6,
    "start_time": "2023-02-05T14:35:40.418Z"
   },
   {
    "duration": 219,
    "start_time": "2023-02-05T14:35:40.426Z"
   },
   {
    "duration": 6,
    "start_time": "2023-02-05T14:35:40.647Z"
   },
   {
    "duration": 236,
    "start_time": "2023-02-05T14:35:40.655Z"
   },
   {
    "duration": 12,
    "start_time": "2023-02-05T14:35:40.897Z"
   },
   {
    "duration": 327,
    "start_time": "2023-02-05T14:35:40.911Z"
   },
   {
    "duration": 211,
    "start_time": "2023-02-05T14:35:41.240Z"
   },
   {
    "duration": 257,
    "start_time": "2023-02-05T14:35:41.453Z"
   },
   {
    "duration": 237,
    "start_time": "2023-02-05T14:35:41.712Z"
   },
   {
    "duration": 12,
    "start_time": "2023-02-05T14:35:41.951Z"
   },
   {
    "duration": 57,
    "start_time": "2023-02-05T14:35:41.965Z"
   },
   {
    "duration": 1038,
    "start_time": "2023-02-05T22:46:23.445Z"
   },
   {
    "duration": 56,
    "start_time": "2023-02-05T22:46:24.484Z"
   },
   {
    "duration": 20,
    "start_time": "2023-02-05T22:46:24.541Z"
   },
   {
    "duration": 13,
    "start_time": "2023-02-05T22:46:24.563Z"
   },
   {
    "duration": 2,
    "start_time": "2023-02-05T22:46:24.578Z"
   },
   {
    "duration": 21,
    "start_time": "2023-02-05T22:46:24.582Z"
   },
   {
    "duration": 8,
    "start_time": "2023-02-05T22:46:24.605Z"
   },
   {
    "duration": 40,
    "start_time": "2023-02-05T22:46:24.615Z"
   },
   {
    "duration": 29,
    "start_time": "2023-02-05T22:46:24.657Z"
   },
   {
    "duration": 15,
    "start_time": "2023-02-05T22:46:24.688Z"
   },
   {
    "duration": 15,
    "start_time": "2023-02-05T22:46:24.704Z"
   },
   {
    "duration": 8,
    "start_time": "2023-02-05T22:46:24.721Z"
   },
   {
    "duration": 18,
    "start_time": "2023-02-05T22:46:24.730Z"
   },
   {
    "duration": 17,
    "start_time": "2023-02-05T22:46:24.749Z"
   },
   {
    "duration": 7,
    "start_time": "2023-02-05T22:46:24.767Z"
   },
   {
    "duration": 19,
    "start_time": "2023-02-05T22:46:24.775Z"
   },
   {
    "duration": 12,
    "start_time": "2023-02-05T22:46:24.795Z"
   },
   {
    "duration": 7,
    "start_time": "2023-02-05T22:46:24.808Z"
   },
   {
    "duration": 31,
    "start_time": "2023-02-05T22:46:24.817Z"
   },
   {
    "duration": 4,
    "start_time": "2023-02-05T22:46:24.850Z"
   },
   {
    "duration": 13,
    "start_time": "2023-02-05T22:46:24.856Z"
   },
   {
    "duration": 4,
    "start_time": "2023-02-05T22:46:24.871Z"
   },
   {
    "duration": 12,
    "start_time": "2023-02-05T22:46:24.877Z"
   },
   {
    "duration": 5,
    "start_time": "2023-02-05T22:46:24.891Z"
   },
   {
    "duration": 18,
    "start_time": "2023-02-05T22:46:24.897Z"
   },
   {
    "duration": 38,
    "start_time": "2023-02-05T22:46:24.916Z"
   },
   {
    "duration": 6,
    "start_time": "2023-02-05T22:46:24.956Z"
   },
   {
    "duration": 220,
    "start_time": "2023-02-05T22:46:24.966Z"
   },
   {
    "duration": 16,
    "start_time": "2023-02-05T22:46:25.188Z"
   },
   {
    "duration": 315,
    "start_time": "2023-02-05T22:46:25.205Z"
   },
   {
    "duration": 4,
    "start_time": "2023-02-05T22:46:25.522Z"
   },
   {
    "duration": 257,
    "start_time": "2023-02-05T22:46:25.527Z"
   },
   {
    "duration": 20,
    "start_time": "2023-02-05T22:46:25.786Z"
   },
   {
    "duration": 282,
    "start_time": "2023-02-05T22:46:25.807Z"
   },
   {
    "duration": 106,
    "start_time": "2023-02-05T22:46:26.090Z"
   },
   {
    "duration": 17,
    "start_time": "2023-02-05T22:46:26.198Z"
   },
   {
    "duration": 211,
    "start_time": "2023-02-05T22:46:26.216Z"
   },
   {
    "duration": 263,
    "start_time": "2023-02-05T22:46:26.429Z"
   },
   {
    "duration": 165,
    "start_time": "2023-02-05T22:46:26.694Z"
   },
   {
    "duration": 132,
    "start_time": "2023-02-05T22:46:26.861Z"
   },
   {
    "duration": 20,
    "start_time": "2023-02-05T22:46:26.995Z"
   },
   {
    "duration": 205,
    "start_time": "2023-02-05T22:46:27.017Z"
   },
   {
    "duration": 31,
    "start_time": "2023-02-05T22:46:27.223Z"
   },
   {
    "duration": 173,
    "start_time": "2023-02-05T22:46:27.255Z"
   },
   {
    "duration": 151,
    "start_time": "2023-02-05T22:46:27.429Z"
   },
   {
    "duration": 5,
    "start_time": "2023-02-05T22:46:27.582Z"
   },
   {
    "duration": 28,
    "start_time": "2023-02-05T22:46:27.589Z"
   },
   {
    "duration": 290,
    "start_time": "2023-02-05T22:46:27.618Z"
   },
   {
    "duration": 259,
    "start_time": "2023-02-05T22:46:27.910Z"
   },
   {
    "duration": 340,
    "start_time": "2023-02-05T22:46:28.171Z"
   },
   {
    "duration": 176,
    "start_time": "2023-02-05T22:46:28.513Z"
   },
   {
    "duration": 161,
    "start_time": "2023-02-05T22:46:28.691Z"
   },
   {
    "duration": 6,
    "start_time": "2023-02-05T22:46:28.854Z"
   },
   {
    "duration": 177,
    "start_time": "2023-02-05T22:46:28.862Z"
   },
   {
    "duration": 6,
    "start_time": "2023-02-05T22:46:29.043Z"
   },
   {
    "duration": 157,
    "start_time": "2023-02-05T22:46:29.050Z"
   },
   {
    "duration": 6,
    "start_time": "2023-02-05T22:46:29.208Z"
   },
   {
    "duration": 166,
    "start_time": "2023-02-05T22:46:29.216Z"
   },
   {
    "duration": 5,
    "start_time": "2023-02-05T22:46:29.384Z"
   },
   {
    "duration": 178,
    "start_time": "2023-02-05T22:46:29.390Z"
   },
   {
    "duration": 7,
    "start_time": "2023-02-05T22:46:29.570Z"
   },
   {
    "duration": 180,
    "start_time": "2023-02-05T22:46:29.578Z"
   },
   {
    "duration": 5,
    "start_time": "2023-02-05T22:46:29.760Z"
   },
   {
    "duration": 170,
    "start_time": "2023-02-05T22:46:29.767Z"
   },
   {
    "duration": 10,
    "start_time": "2023-02-05T22:46:29.939Z"
   },
   {
    "duration": 166,
    "start_time": "2023-02-05T22:46:29.950Z"
   },
   {
    "duration": 7,
    "start_time": "2023-02-05T22:46:30.117Z"
   },
   {
    "duration": 251,
    "start_time": "2023-02-05T22:46:30.126Z"
   },
   {
    "duration": 166,
    "start_time": "2023-02-05T22:46:30.379Z"
   },
   {
    "duration": 177,
    "start_time": "2023-02-05T22:46:30.547Z"
   },
   {
    "duration": 173,
    "start_time": "2023-02-05T22:46:30.726Z"
   },
   {
    "duration": 9,
    "start_time": "2023-02-05T22:46:30.901Z"
   },
   {
    "duration": 30,
    "start_time": "2023-02-05T22:46:30.912Z"
   },
   {
    "duration": 1094,
    "start_time": "2023-06-04T21:53:58.761Z"
   },
   {
    "duration": 124,
    "start_time": "2023-06-04T21:53:59.857Z"
   },
   {
    "duration": 42,
    "start_time": "2023-06-04T21:53:59.982Z"
   },
   {
    "duration": 46,
    "start_time": "2023-06-04T21:54:00.029Z"
   },
   {
    "duration": 63,
    "start_time": "2023-06-04T21:54:00.078Z"
   },
   {
    "duration": 39,
    "start_time": "2023-06-04T21:54:00.143Z"
   },
   {
    "duration": 56,
    "start_time": "2023-06-04T21:54:00.184Z"
   },
   {
    "duration": 22,
    "start_time": "2023-06-04T21:54:00.242Z"
   },
   {
    "duration": 75,
    "start_time": "2023-06-04T21:54:00.266Z"
   },
   {
    "duration": 26,
    "start_time": "2023-06-04T21:54:00.342Z"
   },
   {
    "duration": 60,
    "start_time": "2023-06-04T21:54:00.403Z"
   },
   {
    "duration": 62,
    "start_time": "2023-06-04T21:54:00.465Z"
   },
   {
    "duration": 20,
    "start_time": "2023-06-04T21:54:00.537Z"
   },
   {
    "duration": 62,
    "start_time": "2023-06-04T21:54:00.560Z"
   },
   {
    "duration": 32,
    "start_time": "2023-06-04T21:54:00.623Z"
   },
   {
    "duration": 49,
    "start_time": "2023-06-04T21:54:00.657Z"
   },
   {
    "duration": 69,
    "start_time": "2023-06-04T21:54:00.707Z"
   },
   {
    "duration": 69,
    "start_time": "2023-06-04T21:54:00.777Z"
   },
   {
    "duration": 33,
    "start_time": "2023-06-04T21:54:00.847Z"
   },
   {
    "duration": 77,
    "start_time": "2023-06-04T21:54:00.881Z"
   },
   {
    "duration": 86,
    "start_time": "2023-06-04T21:54:00.959Z"
   },
   {
    "duration": 37,
    "start_time": "2023-06-04T21:54:01.047Z"
   },
   {
    "duration": 79,
    "start_time": "2023-06-04T21:54:01.085Z"
   },
   {
    "duration": 95,
    "start_time": "2023-06-04T21:54:01.165Z"
   },
   {
    "duration": 83,
    "start_time": "2023-06-04T21:54:01.262Z"
   },
   {
    "duration": 109,
    "start_time": "2023-06-04T21:54:01.347Z"
   },
   {
    "duration": 168,
    "start_time": "2023-06-04T21:54:01.458Z"
   },
   {
    "duration": 491,
    "start_time": "2023-06-04T21:54:01.628Z"
   },
   {
    "duration": 21,
    "start_time": "2023-06-04T21:54:02.121Z"
   },
   {
    "duration": 393,
    "start_time": "2023-06-04T21:54:02.145Z"
   },
   {
    "duration": 5,
    "start_time": "2023-06-04T21:54:02.543Z"
   },
   {
    "duration": 302,
    "start_time": "2023-06-04T21:54:02.549Z"
   },
   {
    "duration": 21,
    "start_time": "2023-06-04T21:54:02.853Z"
   },
   {
    "duration": 327,
    "start_time": "2023-06-04T21:54:02.875Z"
   },
   {
    "duration": 121,
    "start_time": "2023-06-04T21:54:03.212Z"
   },
   {
    "duration": 18,
    "start_time": "2023-06-04T21:54:03.337Z"
   },
   {
    "duration": 265,
    "start_time": "2023-06-04T21:54:03.357Z"
   },
   {
    "duration": 266,
    "start_time": "2023-06-04T21:54:03.634Z"
   },
   {
    "duration": 175,
    "start_time": "2023-06-04T21:54:03.902Z"
   },
   {
    "duration": 174,
    "start_time": "2023-06-04T21:54:04.079Z"
   },
   {
    "duration": 18,
    "start_time": "2023-06-04T21:54:04.257Z"
   },
   {
    "duration": 239,
    "start_time": "2023-06-04T21:54:04.295Z"
   },
   {
    "duration": 29,
    "start_time": "2023-06-04T21:54:04.535Z"
   },
   {
    "duration": 172,
    "start_time": "2023-06-04T21:54:04.566Z"
   },
   {
    "duration": 159,
    "start_time": "2023-06-04T21:54:04.739Z"
   },
   {
    "duration": 7,
    "start_time": "2023-06-04T21:54:04.899Z"
   },
   {
    "duration": 42,
    "start_time": "2023-06-04T21:54:04.908Z"
   },
   {
    "duration": 315,
    "start_time": "2023-06-04T21:54:04.951Z"
   },
   {
    "duration": 287,
    "start_time": "2023-06-04T21:54:05.267Z"
   },
   {
    "duration": 453,
    "start_time": "2023-06-04T21:54:05.556Z"
   },
   {
    "duration": 234,
    "start_time": "2023-06-04T21:54:06.019Z"
   },
   {
    "duration": 210,
    "start_time": "2023-06-04T21:54:06.256Z"
   },
   {
    "duration": 9,
    "start_time": "2023-06-04T21:54:06.468Z"
   },
   {
    "duration": 302,
    "start_time": "2023-06-04T21:54:06.479Z"
   },
   {
    "duration": 26,
    "start_time": "2023-06-04T21:54:06.788Z"
   },
   {
    "duration": 229,
    "start_time": "2023-06-04T21:54:06.824Z"
   },
   {
    "duration": 7,
    "start_time": "2023-06-04T21:54:07.055Z"
   },
   {
    "duration": 206,
    "start_time": "2023-06-04T21:54:07.063Z"
   },
   {
    "duration": 5,
    "start_time": "2023-06-04T21:54:07.271Z"
   },
   {
    "duration": 212,
    "start_time": "2023-06-04T21:54:07.278Z"
   },
   {
    "duration": 18,
    "start_time": "2023-06-04T21:54:07.492Z"
   },
   {
    "duration": 288,
    "start_time": "2023-06-04T21:54:07.518Z"
   },
   {
    "duration": 11,
    "start_time": "2023-06-04T21:54:07.807Z"
   },
   {
    "duration": 224,
    "start_time": "2023-06-04T21:54:07.819Z"
   },
   {
    "duration": 6,
    "start_time": "2023-06-04T21:54:08.045Z"
   },
   {
    "duration": 222,
    "start_time": "2023-06-04T21:54:08.053Z"
   },
   {
    "duration": 12,
    "start_time": "2023-06-04T21:54:08.277Z"
   },
   {
    "duration": 331,
    "start_time": "2023-06-04T21:54:08.291Z"
   },
   {
    "duration": 183,
    "start_time": "2023-06-04T21:54:08.635Z"
   },
   {
    "duration": 180,
    "start_time": "2023-06-04T21:54:08.819Z"
   },
   {
    "duration": 176,
    "start_time": "2023-06-04T21:54:09.005Z"
   },
   {
    "duration": 26,
    "start_time": "2023-06-04T21:54:09.182Z"
   },
   {
    "duration": 37,
    "start_time": "2023-06-04T21:54:09.209Z"
   },
   {
    "duration": 33,
    "start_time": "2023-06-04T21:54:38.823Z"
   },
   {
    "duration": 5,
    "start_time": "2023-06-04T21:55:02.158Z"
   }
  ],
  "kernelspec": {
   "display_name": "Python 3 (ipykernel)",
   "language": "python",
   "name": "python3"
  },
  "language_info": {
   "codemirror_mode": {
    "name": "ipython",
    "version": 3
   },
   "file_extension": ".py",
   "mimetype": "text/x-python",
   "name": "python",
   "nbconvert_exporter": "python",
   "pygments_lexer": "ipython3",
   "version": "3.11.5"
  },
  "toc": {
   "base_numbering": 1,
   "nav_menu": {
    "height": "536.625px",
    "width": "783.625px"
   },
   "number_sections": true,
   "sideBar": true,
   "skip_h1_title": true,
   "title_cell": "Table of Contents",
   "title_sidebar": "Contents",
   "toc_cell": false,
   "toc_position": {
    "height": "calc(100% - 180px)",
    "left": "10px",
    "top": "150px",
    "width": "165px"
   },
   "toc_section_display": true,
   "toc_window_display": true
  }
 },
 "nbformat": 4,
 "nbformat_minor": 2
}
